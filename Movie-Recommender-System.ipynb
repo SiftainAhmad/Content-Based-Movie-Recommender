{
 "cells": [
  {
   "cell_type": "markdown",
   "id": "8d2ba419",
   "metadata": {},
   "source": [
    "# Content Based Movie-Recommender-System"
   ]
  },
  {
   "cell_type": "markdown",
   "id": "6e256e7d",
   "metadata": {},
   "source": [
    "#### All movies are not included, only those movies having popularity>=5, rating >5, year span 2000-2024 "
   ]
  },
  {
   "cell_type": "markdown",
   "id": "2a5afb62",
   "metadata": {},
   "source": [
    "### Importing basic Libraries"
   ]
  },
  {
   "cell_type": "code",
   "execution_count": 125,
   "id": "bd4b9158",
   "metadata": {},
   "outputs": [],
   "source": [
    "import numpy as np\n",
    "import pandas as pd"
   ]
  },
  {
   "cell_type": "markdown",
   "id": "26a9c346",
   "metadata": {},
   "source": [
    "### Reading the csv file"
   ]
  },
  {
   "cell_type": "code",
   "execution_count": 2,
   "id": "51b69b32",
   "metadata": {},
   "outputs": [],
   "source": [
    "df=pd.read_csv('TMDB_movie_dataset_v11.csv')"
   ]
  },
  {
   "cell_type": "markdown",
   "id": "cec4fc80",
   "metadata": {},
   "source": [
    "df.head()"
   ]
  },
  {
   "cell_type": "markdown",
   "id": "cc66ca49",
   "metadata": {},
   "source": [
    "### Visualization and Analysis"
   ]
  },
  {
   "cell_type": "code",
   "execution_count": 3,
   "id": "8d312c1d",
   "metadata": {},
   "outputs": [
    {
     "name": "stdout",
     "output_type": "stream",
     "text": [
      "<class 'pandas.core.frame.DataFrame'>\n",
      "RangeIndex: 1012365 entries, 0 to 1012364\n",
      "Data columns (total 23 columns):\n",
      " #   Column                Non-Null Count    Dtype  \n",
      "---  ------                --------------    -----  \n",
      " 0   id                    1012365 non-null  int64  \n",
      " 1   title                 1012353 non-null  object \n",
      " 2   vote_average          1012365 non-null  float64\n",
      " 3   vote_count            1012365 non-null  int64  \n",
      " 4   status                1012365 non-null  object \n",
      " 5   release_date          891444 non-null   object \n",
      " 6   revenue               1012365 non-null  int64  \n",
      " 7   runtime               1012365 non-null  int64  \n",
      " 8   adult                 1012365 non-null  bool   \n",
      " 9   backdrop_path         285326 non-null   object \n",
      " 10  budget                1012365 non-null  int64  \n",
      " 11  homepage              109567 non-null   object \n",
      " 12  imdb_id               574684 non-null   object \n",
      " 13  original_language     1012365 non-null  object \n",
      " 14  original_title        1012353 non-null  object \n",
      " 15  overview              827427 non-null   object \n",
      " 16  popularity            1012365 non-null  float64\n",
      " 17  poster_path           728951 non-null   object \n",
      " 18  tagline               145036 non-null   object \n",
      " 19  genres                636350 non-null   object \n",
      " 20  production_companies  479646 non-null   object \n",
      " 21  production_countries  597393 non-null   object \n",
      " 22  spoken_languages      607976 non-null   object \n",
      "dtypes: bool(1), float64(2), int64(5), object(15)\n",
      "memory usage: 170.9+ MB\n"
     ]
    }
   ],
   "source": [
    "df.info()"
   ]
  },
  {
   "cell_type": "code",
   "execution_count": 4,
   "id": "5e8c38f7",
   "metadata": {},
   "outputs": [
    {
     "data": {
      "text/plain": [
       "id                           0\n",
       "title                       12\n",
       "vote_average                 0\n",
       "vote_count                   0\n",
       "status                       0\n",
       "release_date            120921\n",
       "revenue                      0\n",
       "runtime                      0\n",
       "adult                        0\n",
       "backdrop_path           727039\n",
       "budget                       0\n",
       "homepage                902798\n",
       "imdb_id                 437681\n",
       "original_language            0\n",
       "original_title              12\n",
       "overview                184938\n",
       "popularity                   0\n",
       "poster_path             283414\n",
       "tagline                 867329\n",
       "genres                  376015\n",
       "production_companies    532719\n",
       "production_countries    414972\n",
       "spoken_languages        404389\n",
       "dtype: int64"
      ]
     },
     "execution_count": 4,
     "metadata": {},
     "output_type": "execute_result"
    }
   ],
   "source": [
    "df.isnull().sum()"
   ]
  },
  {
   "cell_type": "code",
   "execution_count": 5,
   "id": "d361836b",
   "metadata": {},
   "outputs": [
    {
     "data": {
      "text/plain": [
       "11"
      ]
     },
     "execution_count": 5,
     "metadata": {},
     "output_type": "execute_result"
    }
   ],
   "source": [
    "df.duplicated().sum()"
   ]
  },
  {
   "cell_type": "code",
   "execution_count": 6,
   "id": "aeba5ec3",
   "metadata": {},
   "outputs": [],
   "source": [
    "df = df.drop_duplicates()"
   ]
  },
  {
   "cell_type": "code",
   "execution_count": 7,
   "id": "93a03611",
   "metadata": {},
   "outputs": [
    {
     "data": {
      "text/plain": [
       "0"
      ]
     },
     "execution_count": 7,
     "metadata": {},
     "output_type": "execute_result"
    }
   ],
   "source": [
    "df.duplicated().sum()"
   ]
  },
  {
   "cell_type": "code",
   "execution_count": 8,
   "id": "13c66869",
   "metadata": {},
   "outputs": [
    {
     "data": {
      "text/plain": [
       "Index(['id', 'title', 'vote_average', 'vote_count', 'status', 'release_date',\n",
       "       'revenue', 'runtime', 'adult', 'backdrop_path', 'budget', 'homepage',\n",
       "       'imdb_id', 'original_language', 'original_title', 'overview',\n",
       "       'popularity', 'poster_path', 'tagline', 'genres',\n",
       "       'production_companies', 'production_countries', 'spoken_languages'],\n",
       "      dtype='object')"
      ]
     },
     "execution_count": 8,
     "metadata": {},
     "output_type": "execute_result"
    }
   ],
   "source": [
    "df.columns"
   ]
  },
  {
   "cell_type": "code",
   "execution_count": 9,
   "id": "510e21e5",
   "metadata": {},
   "outputs": [
    {
     "data": {
      "text/plain": [
       "array(['Your mind is the scene of the crime.',\n",
       "       'Mankind was born on Earth. It was never meant to die here.',\n",
       "       'Welcome to a world without rules.', 'Enter the world of Pandora.',\n",
       "       'Some assembly required.',\n",
       "       'Witness the beginning of a happy ending.',\n",
       "       'An entire universe. Once and for all.', 'Mischief. Mayhem. Soap.',\n",
       "       'All heroes start somewhere.',\n",
       "       \"Just because you are a character doesn't mean you have character.\"],\n",
       "      dtype=object)"
      ]
     },
     "execution_count": 9,
     "metadata": {},
     "output_type": "execute_result"
    }
   ],
   "source": [
    "df['tagline'][:10].values"
   ]
  },
  {
   "cell_type": "code",
   "execution_count": 10,
   "id": "9f44c04f",
   "metadata": {},
   "outputs": [
    {
     "data": {
      "text/plain": [
       "count    1012354.000\n",
       "mean          21.184\n",
       "std          337.424\n",
       "min            0.000\n",
       "25%            0.000\n",
       "50%            0.000\n",
       "75%            1.000\n",
       "max        34495.000\n",
       "Name: vote_count, dtype: float64"
      ]
     },
     "execution_count": 10,
     "metadata": {},
     "output_type": "execute_result"
    }
   ],
   "source": [
    "np.round(df['vote_count'].describe(),3)"
   ]
  },
  {
   "cell_type": "code",
   "execution_count": 11,
   "id": "0ae593b3",
   "metadata": {},
   "outputs": [
    {
     "data": {
      "text/plain": [
       "count    1012354.000\n",
       "mean           1.338\n",
       "std            8.032\n",
       "min            0.000\n",
       "25%            0.600\n",
       "50%            0.600\n",
       "75%            0.907\n",
       "max         2994.357\n",
       "Name: popularity, dtype: float64"
      ]
     },
     "execution_count": 11,
     "metadata": {},
     "output_type": "execute_result"
    }
   ],
   "source": [
    "np.round(df['popularity'].describe(),3)"
   ]
  },
  {
   "cell_type": "markdown",
   "id": "950d66ce",
   "metadata": {},
   "source": [
    "### Till now, Considering Important Columns according to domain knowledge"
   ]
  },
  {
   "cell_type": "code",
   "execution_count": 12,
   "id": "b3c759cb",
   "metadata": {},
   "outputs": [],
   "source": [
    "df=df[['id', 'title', 'vote_average','release_date','overview',\n",
    "       'popularity', 'genres','imdb_id','poster_path']]"
   ]
  },
  {
   "cell_type": "code",
   "execution_count": 13,
   "id": "cd5dabb2",
   "metadata": {},
   "outputs": [
    {
     "data": {
      "text/html": [
       "<div>\n",
       "<style scoped>\n",
       "    .dataframe tbody tr th:only-of-type {\n",
       "        vertical-align: middle;\n",
       "    }\n",
       "\n",
       "    .dataframe tbody tr th {\n",
       "        vertical-align: top;\n",
       "    }\n",
       "\n",
       "    .dataframe thead th {\n",
       "        text-align: right;\n",
       "    }\n",
       "</style>\n",
       "<table border=\"1\" class=\"dataframe\">\n",
       "  <thead>\n",
       "    <tr style=\"text-align: right;\">\n",
       "      <th></th>\n",
       "      <th>id</th>\n",
       "      <th>title</th>\n",
       "      <th>vote_average</th>\n",
       "      <th>release_date</th>\n",
       "      <th>overview</th>\n",
       "      <th>popularity</th>\n",
       "      <th>genres</th>\n",
       "      <th>imdb_id</th>\n",
       "      <th>poster_path</th>\n",
       "    </tr>\n",
       "  </thead>\n",
       "  <tbody>\n",
       "    <tr>\n",
       "      <th>0</th>\n",
       "      <td>27205</td>\n",
       "      <td>Inception</td>\n",
       "      <td>8.364</td>\n",
       "      <td>2010-07-15</td>\n",
       "      <td>Cobb, a skilled thief who commits corporate es...</td>\n",
       "      <td>83.952</td>\n",
       "      <td>Action, Science Fiction, Adventure</td>\n",
       "      <td>tt1375666</td>\n",
       "      <td>/oYuLEt3zVCKq57qu2F8dT7NIa6f.jpg</td>\n",
       "    </tr>\n",
       "    <tr>\n",
       "      <th>1</th>\n",
       "      <td>157336</td>\n",
       "      <td>Interstellar</td>\n",
       "      <td>8.417</td>\n",
       "      <td>2014-11-05</td>\n",
       "      <td>The adventures of a group of explorers who mak...</td>\n",
       "      <td>140.241</td>\n",
       "      <td>Adventure, Drama, Science Fiction</td>\n",
       "      <td>tt0816692</td>\n",
       "      <td>/gEU2QniE6E77NI6lCU6MxlNBvIx.jpg</td>\n",
       "    </tr>\n",
       "    <tr>\n",
       "      <th>2</th>\n",
       "      <td>155</td>\n",
       "      <td>The Dark Knight</td>\n",
       "      <td>8.512</td>\n",
       "      <td>2008-07-16</td>\n",
       "      <td>Batman raises the stakes in his war on crime. ...</td>\n",
       "      <td>130.643</td>\n",
       "      <td>Drama, Action, Crime, Thriller</td>\n",
       "      <td>tt0468569</td>\n",
       "      <td>/qJ2tW6WMUDux911r6m7haRef0WH.jpg</td>\n",
       "    </tr>\n",
       "    <tr>\n",
       "      <th>3</th>\n",
       "      <td>19995</td>\n",
       "      <td>Avatar</td>\n",
       "      <td>7.573</td>\n",
       "      <td>2009-12-15</td>\n",
       "      <td>In the 22nd century, a paraplegic Marine is di...</td>\n",
       "      <td>79.932</td>\n",
       "      <td>Action, Adventure, Fantasy, Science Fiction</td>\n",
       "      <td>tt0499549</td>\n",
       "      <td>/kyeqWdyUXW608qlYkRqosgbbJyK.jpg</td>\n",
       "    </tr>\n",
       "    <tr>\n",
       "      <th>4</th>\n",
       "      <td>24428</td>\n",
       "      <td>The Avengers</td>\n",
       "      <td>7.710</td>\n",
       "      <td>2012-04-25</td>\n",
       "      <td>When an unexpected enemy emerges and threatens...</td>\n",
       "      <td>98.082</td>\n",
       "      <td>Science Fiction, Action, Adventure</td>\n",
       "      <td>tt0848228</td>\n",
       "      <td>/RYMX2wcKCBAr24UyPD7xwmjaTn.jpg</td>\n",
       "    </tr>\n",
       "  </tbody>\n",
       "</table>\n",
       "</div>"
      ],
      "text/plain": [
       "       id            title  vote_average release_date  \\\n",
       "0   27205        Inception         8.364   2010-07-15   \n",
       "1  157336     Interstellar         8.417   2014-11-05   \n",
       "2     155  The Dark Knight         8.512   2008-07-16   \n",
       "3   19995           Avatar         7.573   2009-12-15   \n",
       "4   24428     The Avengers         7.710   2012-04-25   \n",
       "\n",
       "                                            overview  popularity  \\\n",
       "0  Cobb, a skilled thief who commits corporate es...      83.952   \n",
       "1  The adventures of a group of explorers who mak...     140.241   \n",
       "2  Batman raises the stakes in his war on crime. ...     130.643   \n",
       "3  In the 22nd century, a paraplegic Marine is di...      79.932   \n",
       "4  When an unexpected enemy emerges and threatens...      98.082   \n",
       "\n",
       "                                        genres    imdb_id  \\\n",
       "0           Action, Science Fiction, Adventure  tt1375666   \n",
       "1            Adventure, Drama, Science Fiction  tt0816692   \n",
       "2               Drama, Action, Crime, Thriller  tt0468569   \n",
       "3  Action, Adventure, Fantasy, Science Fiction  tt0499549   \n",
       "4           Science Fiction, Action, Adventure  tt0848228   \n",
       "\n",
       "                        poster_path  \n",
       "0  /oYuLEt3zVCKq57qu2F8dT7NIa6f.jpg  \n",
       "1  /gEU2QniE6E77NI6lCU6MxlNBvIx.jpg  \n",
       "2  /qJ2tW6WMUDux911r6m7haRef0WH.jpg  \n",
       "3  /kyeqWdyUXW608qlYkRqosgbbJyK.jpg  \n",
       "4   /RYMX2wcKCBAr24UyPD7xwmjaTn.jpg  "
      ]
     },
     "execution_count": 13,
     "metadata": {},
     "output_type": "execute_result"
    }
   ],
   "source": [
    "df.head()"
   ]
  },
  {
   "cell_type": "code",
   "execution_count": 14,
   "id": "e9b4a9c6",
   "metadata": {},
   "outputs": [
    {
     "name": "stdout",
     "output_type": "stream",
     "text": [
      "<class 'pandas.core.frame.DataFrame'>\n",
      "Int64Index: 1012354 entries, 0 to 1012364\n",
      "Data columns (total 9 columns):\n",
      " #   Column        Non-Null Count    Dtype  \n",
      "---  ------        --------------    -----  \n",
      " 0   id            1012354 non-null  int64  \n",
      " 1   title         1012342 non-null  object \n",
      " 2   vote_average  1012354 non-null  float64\n",
      " 3   release_date  891436 non-null   object \n",
      " 4   overview      827418 non-null   object \n",
      " 5   popularity    1012354 non-null  float64\n",
      " 6   genres        636348 non-null   object \n",
      " 7   imdb_id       574684 non-null   object \n",
      " 8   poster_path   728946 non-null   object \n",
      "dtypes: float64(2), int64(1), object(6)\n",
      "memory usage: 77.2+ MB\n"
     ]
    }
   ],
   "source": [
    "df.info()"
   ]
  },
  {
   "cell_type": "code",
   "execution_count": 15,
   "id": "aa8fb972",
   "metadata": {},
   "outputs": [
    {
     "data": {
      "text/plain": [
       "id                   0\n",
       "title               12\n",
       "vote_average         0\n",
       "release_date    120918\n",
       "overview        184936\n",
       "popularity           0\n",
       "genres          376006\n",
       "imdb_id         437670\n",
       "poster_path     283408\n",
       "dtype: int64"
      ]
     },
     "execution_count": 15,
     "metadata": {},
     "output_type": "execute_result"
    }
   ],
   "source": [
    "df.isnull().sum()"
   ]
  },
  {
   "cell_type": "code",
   "execution_count": 16,
   "id": "edfec35c",
   "metadata": {},
   "outputs": [],
   "source": [
    "df = df.dropna(subset=['genres'])"
   ]
  },
  {
   "cell_type": "code",
   "execution_count": 17,
   "id": "5da1a4a7",
   "metadata": {},
   "outputs": [
    {
     "data": {
      "text/plain": [
       "id                   0\n",
       "title                5\n",
       "vote_average         0\n",
       "release_date     30275\n",
       "overview        101525\n",
       "popularity           0\n",
       "genres               0\n",
       "imdb_id         197644\n",
       "poster_path     131108\n",
       "dtype: int64"
      ]
     },
     "execution_count": 17,
     "metadata": {},
     "output_type": "execute_result"
    }
   ],
   "source": [
    "df.isnull().sum()"
   ]
  },
  {
   "cell_type": "code",
   "execution_count": 18,
   "id": "e5b06ec3",
   "metadata": {},
   "outputs": [],
   "source": [
    "df = df.dropna(subset=['overview'])"
   ]
  },
  {
   "cell_type": "code",
   "execution_count": 19,
   "id": "5f5b53ec",
   "metadata": {},
   "outputs": [
    {
     "name": "stdout",
     "output_type": "stream",
     "text": [
      "<class 'pandas.core.frame.DataFrame'>\n",
      "Int64Index: 534823 entries, 0 to 1012361\n",
      "Data columns (total 9 columns):\n",
      " #   Column        Non-Null Count   Dtype  \n",
      "---  ------        --------------   -----  \n",
      " 0   id            534823 non-null  int64  \n",
      " 1   title         534822 non-null  object \n",
      " 2   vote_average  534823 non-null  float64\n",
      " 3   release_date  512207 non-null  object \n",
      " 4   overview      534823 non-null  object \n",
      " 5   popularity    534823 non-null  float64\n",
      " 6   genres        534823 non-null  object \n",
      " 7   imdb_id       390646 non-null  object \n",
      " 8   poster_path   437176 non-null  object \n",
      "dtypes: float64(2), int64(1), object(6)\n",
      "memory usage: 40.8+ MB\n"
     ]
    }
   ],
   "source": [
    "df.info()"
   ]
  },
  {
   "cell_type": "code",
   "execution_count": 20,
   "id": "b333495d",
   "metadata": {},
   "outputs": [
    {
     "data": {
      "text/plain": [
       "id                   0\n",
       "title                1\n",
       "vote_average         0\n",
       "release_date     22616\n",
       "overview             0\n",
       "popularity           0\n",
       "genres               0\n",
       "imdb_id         144177\n",
       "poster_path      97647\n",
       "dtype: int64"
      ]
     },
     "execution_count": 20,
     "metadata": {},
     "output_type": "execute_result"
    }
   ],
   "source": [
    "df.isnull().sum()"
   ]
  },
  {
   "cell_type": "code",
   "execution_count": 21,
   "id": "35c55c35",
   "metadata": {},
   "outputs": [],
   "source": [
    "df = df.dropna(subset=['imdb_id','poster_path'])"
   ]
  },
  {
   "cell_type": "code",
   "execution_count": 22,
   "id": "52b47e00",
   "metadata": {},
   "outputs": [
    {
     "name": "stdout",
     "output_type": "stream",
     "text": [
      "<class 'pandas.core.frame.DataFrame'>\n",
      "Int64Index: 332807 entries, 0 to 1012346\n",
      "Data columns (total 9 columns):\n",
      " #   Column        Non-Null Count   Dtype  \n",
      "---  ------        --------------   -----  \n",
      " 0   id            332807 non-null  int64  \n",
      " 1   title         332807 non-null  object \n",
      " 2   vote_average  332807 non-null  float64\n",
      " 3   release_date  327783 non-null  object \n",
      " 4   overview      332807 non-null  object \n",
      " 5   popularity    332807 non-null  float64\n",
      " 6   genres        332807 non-null  object \n",
      " 7   imdb_id       332807 non-null  object \n",
      " 8   poster_path   332807 non-null  object \n",
      "dtypes: float64(2), int64(1), object(6)\n",
      "memory usage: 25.4+ MB\n"
     ]
    }
   ],
   "source": [
    "df.info()"
   ]
  },
  {
   "cell_type": "code",
   "execution_count": 23,
   "id": "c7f5b7e5",
   "metadata": {},
   "outputs": [
    {
     "data": {
      "text/plain": [
       "id                 0\n",
       "title              0\n",
       "vote_average       0\n",
       "release_date    5024\n",
       "overview           0\n",
       "popularity         0\n",
       "genres             0\n",
       "imdb_id            0\n",
       "poster_path        0\n",
       "dtype: int64"
      ]
     },
     "execution_count": 23,
     "metadata": {},
     "output_type": "execute_result"
    }
   ],
   "source": [
    "df.isnull().sum()"
   ]
  },
  {
   "cell_type": "code",
   "execution_count": 24,
   "id": "3bee41fb",
   "metadata": {},
   "outputs": [
    {
     "name": "stdout",
     "output_type": "stream",
     "text": [
      "<class 'pandas.core.frame.DataFrame'>\n",
      "Int64Index: 332807 entries, 0 to 1012346\n",
      "Data columns (total 9 columns):\n",
      " #   Column        Non-Null Count   Dtype  \n",
      "---  ------        --------------   -----  \n",
      " 0   id            332807 non-null  int64  \n",
      " 1   title         332807 non-null  object \n",
      " 2   vote_average  332807 non-null  float64\n",
      " 3   release_date  327783 non-null  object \n",
      " 4   overview      332807 non-null  object \n",
      " 5   popularity    332807 non-null  float64\n",
      " 6   genres        332807 non-null  object \n",
      " 7   imdb_id       332807 non-null  object \n",
      " 8   poster_path   332807 non-null  object \n",
      "dtypes: float64(2), int64(1), object(6)\n",
      "memory usage: 25.4+ MB\n"
     ]
    }
   ],
   "source": [
    "df.info()"
   ]
  },
  {
   "cell_type": "code",
   "execution_count": 25,
   "id": "45bc6277",
   "metadata": {},
   "outputs": [
    {
     "data": {
      "text/plain": [
       "id                 0\n",
       "title              0\n",
       "vote_average       0\n",
       "release_date    5024\n",
       "overview           0\n",
       "popularity         0\n",
       "genres             0\n",
       "imdb_id            0\n",
       "poster_path        0\n",
       "dtype: int64"
      ]
     },
     "execution_count": 25,
     "metadata": {},
     "output_type": "execute_result"
    }
   ],
   "source": [
    "df.isnull().sum()"
   ]
  },
  {
   "cell_type": "code",
   "execution_count": 26,
   "id": "da1d2c86",
   "metadata": {},
   "outputs": [],
   "source": [
    "df=df.dropna()"
   ]
  },
  {
   "cell_type": "markdown",
   "id": "e4cc1990",
   "metadata": {},
   "source": [
    "### Dropped all rows containing any null values"
   ]
  },
  {
   "cell_type": "code",
   "execution_count": 27,
   "id": "8c3cb1c6",
   "metadata": {},
   "outputs": [
    {
     "data": {
      "text/plain": [
       "id              0\n",
       "title           0\n",
       "vote_average    0\n",
       "release_date    0\n",
       "overview        0\n",
       "popularity      0\n",
       "genres          0\n",
       "imdb_id         0\n",
       "poster_path     0\n",
       "dtype: int64"
      ]
     },
     "execution_count": 27,
     "metadata": {},
     "output_type": "execute_result"
    }
   ],
   "source": [
    "df.isnull().sum()"
   ]
  },
  {
   "cell_type": "code",
   "execution_count": 28,
   "id": "b48d320a",
   "metadata": {},
   "outputs": [
    {
     "name": "stdout",
     "output_type": "stream",
     "text": [
      "<class 'pandas.core.frame.DataFrame'>\n",
      "Int64Index: 327783 entries, 0 to 1012346\n",
      "Data columns (total 9 columns):\n",
      " #   Column        Non-Null Count   Dtype  \n",
      "---  ------        --------------   -----  \n",
      " 0   id            327783 non-null  int64  \n",
      " 1   title         327783 non-null  object \n",
      " 2   vote_average  327783 non-null  float64\n",
      " 3   release_date  327783 non-null  object \n",
      " 4   overview      327783 non-null  object \n",
      " 5   popularity    327783 non-null  float64\n",
      " 6   genres        327783 non-null  object \n",
      " 7   imdb_id       327783 non-null  object \n",
      " 8   poster_path   327783 non-null  object \n",
      "dtypes: float64(2), int64(1), object(6)\n",
      "memory usage: 25.0+ MB\n"
     ]
    }
   ],
   "source": [
    "df.info()"
   ]
  },
  {
   "cell_type": "markdown",
   "id": "c65ef1c2",
   "metadata": {},
   "source": [
    "### Function to extract Year from relase_date"
   ]
  },
  {
   "cell_type": "code",
   "execution_count": 29,
   "id": "b7f4b689",
   "metadata": {},
   "outputs": [],
   "source": [
    "def extract_year(date_obj):\n",
    "        date_str = str(date_obj)  # Convert date object to string\n",
    "        year = int(date_str[:4])  # Extracting the first four characters as the year\n",
    "        return year"
   ]
  },
  {
   "cell_type": "code",
   "execution_count": 30,
   "id": "bfd101f6",
   "metadata": {},
   "outputs": [],
   "source": [
    "df['Year']=df['release_date'].apply(extract_year)"
   ]
  },
  {
   "cell_type": "code",
   "execution_count": 31,
   "id": "4fac1ce6",
   "metadata": {},
   "outputs": [
    {
     "data": {
      "text/plain": [
       "count    327783.000000\n",
       "mean       1995.662359\n",
       "std          27.861743\n",
       "min        1874.000000\n",
       "25%        1981.000000\n",
       "50%        2007.000000\n",
       "75%        2017.000000\n",
       "max        2099.000000\n",
       "Name: Year, dtype: float64"
      ]
     },
     "execution_count": 31,
     "metadata": {},
     "output_type": "execute_result"
    }
   ],
   "source": [
    "df['Year'].describe()"
   ]
  },
  {
   "cell_type": "code",
   "execution_count": 32,
   "id": "1ddd1211",
   "metadata": {},
   "outputs": [
    {
     "data": {
      "text/plain": [
       "29"
      ]
     },
     "execution_count": 32,
     "metadata": {},
     "output_type": "execute_result"
    }
   ],
   "source": [
    "len(df[df['Year']>=2025])"
   ]
  },
  {
   "cell_type": "code",
   "execution_count": 33,
   "id": "3541f945",
   "metadata": {},
   "outputs": [],
   "source": [
    "df=df[df['Year']<2025]"
   ]
  },
  {
   "cell_type": "code",
   "execution_count": 34,
   "id": "657ebe66",
   "metadata": {},
   "outputs": [
    {
     "data": {
      "text/plain": [
       "count    327754.000000\n",
       "mean       1995.659522\n",
       "std          27.861055\n",
       "min        1874.000000\n",
       "25%        1981.000000\n",
       "50%        2007.000000\n",
       "75%        2017.000000\n",
       "max        2024.000000\n",
       "Name: Year, dtype: float64"
      ]
     },
     "execution_count": 34,
     "metadata": {},
     "output_type": "execute_result"
    }
   ],
   "source": [
    "\n",
    "df['Year'].describe()"
   ]
  },
  {
   "cell_type": "markdown",
   "id": "48d17628",
   "metadata": {},
   "source": [
    "### Visualizations to explore more about year of relase"
   ]
  },
  {
   "cell_type": "code",
   "execution_count": 35,
   "id": "43b34976",
   "metadata": {},
   "outputs": [
    {
     "data": {
      "image/png": "[encoded data removed]",
      "text/plain": [
       "<Figure size 600x400 with 1 Axes>"
      ]
     },
     "metadata": {},
     "output_type": "display_data"
    }
   ],
   "source": [
    "import matplotlib.pyplot as plt\n",
    "\n",
    "# Assuming df is your DataFrame and 'Year' is the column containing years\n",
    "# Replace 'Year' with the actual column name in your DataFrame\n",
    "year_data = df['Year']\n",
    "\n",
    "# Plot the distribution\n",
    "plt.figure(figsize=(6, 4))\n",
    "plt.hist(year_data, bins=50, color='skyblue', edgecolor='black')\n",
    "plt.title('Distribution of Years')\n",
    "plt.xlabel('Year')\n",
    "plt.ylabel('Frequency')\n",
    "plt.grid(False)\n",
    "plt.show();"
   ]
  },
  {
   "cell_type": "code",
   "execution_count": 36,
   "id": "178fba06",
   "metadata": {},
   "outputs": [
    {
     "data": {
      "image/png": "[encoded data removed]",
      "text/plain": [
       "<Figure size 1000x600 with 1 Axes>"
      ]
     },
     "metadata": {},
     "output_type": "display_data"
    }
   ],
   "source": [
    "import matplotlib.pyplot as plt\n",
    "\n",
    "# Filter the DataFrame to include only years greater than 1920\n",
    "filtered_year_data = df[df['Year'] > 1920]['Year']\n",
    "\n",
    "# Plot the distribution without grid lines\n",
    "plt.figure(figsize=(10, 6))\n",
    "plt.hist(filtered_year_data, bins=30, color='skyblue', edgecolor='black')\n",
    "plt.title('Distribution of Years (Year > 1920)')\n",
    "plt.xlabel('Year')\n",
    "plt.ylabel('Frequency')\n",
    "plt.grid(False)  # Remove grid lines\n",
    "plt.show()"
   ]
  },
  {
   "cell_type": "markdown",
   "id": "fc9fc26e",
   "metadata": {},
   "source": [
    "### Final Conclusion regarding the release_year"
   ]
  },
  {
   "cell_type": "raw",
   "id": "d843a3d4",
   "metadata": {},
   "source": [
    "We can say that release year will have very less effect on recommendation, so we will eliminate it\n",
    "We will also delete movies before 2000's because generally nowadays most users want to watch \n",
    "recent movies"
   ]
  },
  {
   "cell_type": "code",
   "execution_count": 44,
   "id": "88bb2ea5",
   "metadata": {},
   "outputs": [
    {
     "data": {
      "text/plain": [
       "131388"
      ]
     },
     "execution_count": 44,
     "metadata": {},
     "output_type": "execute_result"
    }
   ],
   "source": [
    "len(df[df['Year']<2000])"
   ]
  },
  {
   "cell_type": "markdown",
   "id": "4e091fab",
   "metadata": {},
   "source": [
    "### Considering only those movies which release in 1980 or thereafter"
   ]
  },
  {
   "cell_type": "code",
   "execution_count": 45,
   "id": "0213e941",
   "metadata": {},
   "outputs": [],
   "source": [
    "df=df[df['Year']>=2000]"
   ]
  },
  {
   "cell_type": "code",
   "execution_count": 46,
   "id": "02f1314f",
   "metadata": {},
   "outputs": [
    {
     "name": "stdout",
     "output_type": "stream",
     "text": [
      "<class 'pandas.core.frame.DataFrame'>\n",
      "Int64Index: 196366 entries, 0 to 1012346\n",
      "Data columns (total 10 columns):\n",
      " #   Column        Non-Null Count   Dtype  \n",
      "---  ------        --------------   -----  \n",
      " 0   id            196366 non-null  int64  \n",
      " 1   title         196366 non-null  object \n",
      " 2   vote_average  196366 non-null  float64\n",
      " 3   release_date  196366 non-null  object \n",
      " 4   overview      196366 non-null  object \n",
      " 5   popularity    196366 non-null  float64\n",
      " 6   genres        196366 non-null  object \n",
      " 7   imdb_id       196366 non-null  object \n",
      " 8   poster_path   196366 non-null  object \n",
      " 9   Year          196366 non-null  int64  \n",
      "dtypes: float64(2), int64(2), object(6)\n",
      "memory usage: 16.5+ MB\n"
     ]
    }
   ],
   "source": [
    "df.info()"
   ]
  },
  {
   "cell_type": "markdown",
   "id": "506b4a54",
   "metadata": {},
   "source": [
    "### Dropping finally Year and release_date columns"
   ]
  },
  {
   "cell_type": "code",
   "execution_count": 47,
   "id": "04c2f2e4",
   "metadata": {},
   "outputs": [],
   "source": [
    "df=df.drop(columns=['Year','release_date'])"
   ]
  },
  {
   "cell_type": "code",
   "execution_count": 48,
   "id": "42ff7636",
   "metadata": {},
   "outputs": [
    {
     "data": {
      "text/html": [
       "<div>\n",
       "<style scoped>\n",
       "    .dataframe tbody tr th:only-of-type {\n",
       "        vertical-align: middle;\n",
       "    }\n",
       "\n",
       "    .dataframe tbody tr th {\n",
       "        vertical-align: top;\n",
       "    }\n",
       "\n",
       "    .dataframe thead th {\n",
       "        text-align: right;\n",
       "    }\n",
       "</style>\n",
       "<table border=\"1\" class=\"dataframe\">\n",
       "  <thead>\n",
       "    <tr style=\"text-align: right;\">\n",
       "      <th></th>\n",
       "      <th>id</th>\n",
       "      <th>title</th>\n",
       "      <th>vote_average</th>\n",
       "      <th>overview</th>\n",
       "      <th>popularity</th>\n",
       "      <th>genres</th>\n",
       "      <th>imdb_id</th>\n",
       "      <th>poster_path</th>\n",
       "    </tr>\n",
       "  </thead>\n",
       "  <tbody>\n",
       "    <tr>\n",
       "      <th>0</th>\n",
       "      <td>27205</td>\n",
       "      <td>Inception</td>\n",
       "      <td>8.364</td>\n",
       "      <td>Cobb, a skilled thief who commits corporate es...</td>\n",
       "      <td>83.952</td>\n",
       "      <td>Action, Science Fiction, Adventure</td>\n",
       "      <td>tt1375666</td>\n",
       "      <td>/oYuLEt3zVCKq57qu2F8dT7NIa6f.jpg</td>\n",
       "    </tr>\n",
       "    <tr>\n",
       "      <th>1</th>\n",
       "      <td>157336</td>\n",
       "      <td>Interstellar</td>\n",
       "      <td>8.417</td>\n",
       "      <td>The adventures of a group of explorers who mak...</td>\n",
       "      <td>140.241</td>\n",
       "      <td>Adventure, Drama, Science Fiction</td>\n",
       "      <td>tt0816692</td>\n",
       "      <td>/gEU2QniE6E77NI6lCU6MxlNBvIx.jpg</td>\n",
       "    </tr>\n",
       "    <tr>\n",
       "      <th>2</th>\n",
       "      <td>155</td>\n",
       "      <td>The Dark Knight</td>\n",
       "      <td>8.512</td>\n",
       "      <td>Batman raises the stakes in his war on crime. ...</td>\n",
       "      <td>130.643</td>\n",
       "      <td>Drama, Action, Crime, Thriller</td>\n",
       "      <td>tt0468569</td>\n",
       "      <td>/qJ2tW6WMUDux911r6m7haRef0WH.jpg</td>\n",
       "    </tr>\n",
       "    <tr>\n",
       "      <th>3</th>\n",
       "      <td>19995</td>\n",
       "      <td>Avatar</td>\n",
       "      <td>7.573</td>\n",
       "      <td>In the 22nd century, a paraplegic Marine is di...</td>\n",
       "      <td>79.932</td>\n",
       "      <td>Action, Adventure, Fantasy, Science Fiction</td>\n",
       "      <td>tt0499549</td>\n",
       "      <td>/kyeqWdyUXW608qlYkRqosgbbJyK.jpg</td>\n",
       "    </tr>\n",
       "    <tr>\n",
       "      <th>4</th>\n",
       "      <td>24428</td>\n",
       "      <td>The Avengers</td>\n",
       "      <td>7.710</td>\n",
       "      <td>When an unexpected enemy emerges and threatens...</td>\n",
       "      <td>98.082</td>\n",
       "      <td>Science Fiction, Action, Adventure</td>\n",
       "      <td>tt0848228</td>\n",
       "      <td>/RYMX2wcKCBAr24UyPD7xwmjaTn.jpg</td>\n",
       "    </tr>\n",
       "  </tbody>\n",
       "</table>\n",
       "</div>"
      ],
      "text/plain": [
       "       id            title  vote_average  \\\n",
       "0   27205        Inception         8.364   \n",
       "1  157336     Interstellar         8.417   \n",
       "2     155  The Dark Knight         8.512   \n",
       "3   19995           Avatar         7.573   \n",
       "4   24428     The Avengers         7.710   \n",
       "\n",
       "                                            overview  popularity  \\\n",
       "0  Cobb, a skilled thief who commits corporate es...      83.952   \n",
       "1  The adventures of a group of explorers who mak...     140.241   \n",
       "2  Batman raises the stakes in his war on crime. ...     130.643   \n",
       "3  In the 22nd century, a paraplegic Marine is di...      79.932   \n",
       "4  When an unexpected enemy emerges and threatens...      98.082   \n",
       "\n",
       "                                        genres    imdb_id  \\\n",
       "0           Action, Science Fiction, Adventure  tt1375666   \n",
       "1            Adventure, Drama, Science Fiction  tt0816692   \n",
       "2               Drama, Action, Crime, Thriller  tt0468569   \n",
       "3  Action, Adventure, Fantasy, Science Fiction  tt0499549   \n",
       "4           Science Fiction, Action, Adventure  tt0848228   \n",
       "\n",
       "                        poster_path  \n",
       "0  /oYuLEt3zVCKq57qu2F8dT7NIa6f.jpg  \n",
       "1  /gEU2QniE6E77NI6lCU6MxlNBvIx.jpg  \n",
       "2  /qJ2tW6WMUDux911r6m7haRef0WH.jpg  \n",
       "3  /kyeqWdyUXW608qlYkRqosgbbJyK.jpg  \n",
       "4   /RYMX2wcKCBAr24UyPD7xwmjaTn.jpg  "
      ]
     },
     "execution_count": 48,
     "metadata": {},
     "output_type": "execute_result"
    }
   ],
   "source": [
    "df.head()"
   ]
  },
  {
   "cell_type": "code",
   "execution_count": 49,
   "id": "5ead1657",
   "metadata": {},
   "outputs": [
    {
     "name": "stdout",
     "output_type": "stream",
     "text": [
      "<class 'pandas.core.frame.DataFrame'>\n",
      "Int64Index: 196366 entries, 0 to 1012346\n",
      "Data columns (total 8 columns):\n",
      " #   Column        Non-Null Count   Dtype  \n",
      "---  ------        --------------   -----  \n",
      " 0   id            196366 non-null  int64  \n",
      " 1   title         196366 non-null  object \n",
      " 2   vote_average  196366 non-null  float64\n",
      " 3   overview      196366 non-null  object \n",
      " 4   popularity    196366 non-null  float64\n",
      " 5   genres        196366 non-null  object \n",
      " 6   imdb_id       196366 non-null  object \n",
      " 7   poster_path   196366 non-null  object \n",
      "dtypes: float64(2), int64(1), object(5)\n",
      "memory usage: 13.5+ MB\n"
     ]
    }
   ],
   "source": [
    "df.info()"
   ]
  },
  {
   "cell_type": "markdown",
   "id": "7006f66a",
   "metadata": {},
   "source": [
    "### Exploring more about the popularity of the movie "
   ]
  },
  {
   "cell_type": "code",
   "execution_count": 50,
   "id": "dd983a00",
   "metadata": {},
   "outputs": [
    {
     "data": {
      "text/plain": [
       "count    196366.000000\n",
       "mean          2.972655\n",
       "std          16.500101\n",
       "min           0.000000\n",
       "25%           0.600000\n",
       "50%           0.985000\n",
       "75%           2.206000\n",
       "max        2994.357000\n",
       "Name: popularity, dtype: float64"
      ]
     },
     "execution_count": 50,
     "metadata": {},
     "output_type": "execute_result"
    }
   ],
   "source": [
    "df['popularity'].describe()"
   ]
  },
  {
   "cell_type": "code",
   "execution_count": 51,
   "id": "743c60fb",
   "metadata": {},
   "outputs": [
    {
     "data": {
      "text/plain": [
       "1692"
      ]
     },
     "execution_count": 51,
     "metadata": {},
     "output_type": "execute_result"
    }
   ],
   "source": [
    "len(df[df['popularity']==0])"
   ]
  },
  {
   "cell_type": "code",
   "execution_count": 52,
   "id": "c8298d59",
   "metadata": {},
   "outputs": [],
   "source": [
    "df=df[df['popularity']!=0]"
   ]
  },
  {
   "cell_type": "code",
   "execution_count": 53,
   "id": "08f182da",
   "metadata": {},
   "outputs": [
    {
     "data": {
      "text/plain": [
       "count    194674.000000\n",
       "mean          2.998492\n",
       "std          16.569314\n",
       "min           0.600000\n",
       "25%           0.600000\n",
       "50%           0.996000\n",
       "75%           2.226000\n",
       "max        2994.357000\n",
       "Name: popularity, dtype: float64"
      ]
     },
     "execution_count": 53,
     "metadata": {},
     "output_type": "execute_result"
    }
   ],
   "source": [
    "df['popularity'].describe()"
   ]
  },
  {
   "cell_type": "markdown",
   "id": "22aa981f",
   "metadata": {},
   "source": [
    "### Final Conclusion regarding the popularity of a movie"
   ]
  },
  {
   "cell_type": "raw",
   "id": "3965f5be",
   "metadata": {},
   "source": [
    "Distribution of popularity is quite uneven as evident from the mean,std,min and max val.\n",
    "So we will eliminate this column also.\n",
    "We will also eliminate those movies having popularity<5, as those movies have no relevance as \n",
    "far as the official website tells."
   ]
  },
  {
   "cell_type": "raw",
   "id": "fa27f1b8",
   "metadata": {},
   "source": [
    "          ****FROM THE OFFICIAL WEBSITE****\n",
    "Popularity is a fairly important metric here on TMDB. It helps us boost search results, adds an incredibly useful sort value for discover, and is also just kind of fun to see items chart up and down. You can think of popularity as being a \"lifetime\" popularity score that is impacted by the attributes below. It's calculated quite differently than trending."
   ]
  },
  {
   "cell_type": "code",
   "execution_count": 62,
   "id": "25744ba5",
   "metadata": {},
   "outputs": [
    {
     "data": {
      "text/plain": [
       "171977"
      ]
     },
     "execution_count": 62,
     "metadata": {},
     "output_type": "execute_result"
    }
   ],
   "source": [
    "len(df[df['popularity']<5])"
   ]
  },
  {
   "cell_type": "code",
   "execution_count": 63,
   "id": "bce74a34",
   "metadata": {},
   "outputs": [],
   "source": [
    "df=df[df['popularity']>=5]"
   ]
  },
  {
   "cell_type": "markdown",
   "id": "85239650",
   "metadata": {},
   "source": [
    "### Dropping the popularity column"
   ]
  },
  {
   "cell_type": "code",
   "execution_count": 64,
   "id": "8315dcdc",
   "metadata": {},
   "outputs": [],
   "source": [
    "df=df.drop(columns=['popularity'])"
   ]
  },
  {
   "cell_type": "code",
   "execution_count": 65,
   "id": "ad46e10e",
   "metadata": {},
   "outputs": [
    {
     "name": "stdout",
     "output_type": "stream",
     "text": [
      "<class 'pandas.core.frame.DataFrame'>\n",
      "Int64Index: 22697 entries, 0 to 1011378\n",
      "Data columns (total 7 columns):\n",
      " #   Column        Non-Null Count  Dtype  \n",
      "---  ------        --------------  -----  \n",
      " 0   id            22697 non-null  int64  \n",
      " 1   title         22697 non-null  object \n",
      " 2   vote_average  22697 non-null  float64\n",
      " 3   overview      22697 non-null  object \n",
      " 4   genres        22697 non-null  object \n",
      " 5   imdb_id       22697 non-null  object \n",
      " 6   poster_path   22697 non-null  object \n",
      "dtypes: float64(1), int64(1), object(5)\n",
      "memory usage: 1.4+ MB\n"
     ]
    }
   ],
   "source": [
    "df.info()"
   ]
  },
  {
   "cell_type": "code",
   "execution_count": 66,
   "id": "98aad1d5",
   "metadata": {},
   "outputs": [
    {
     "data": {
      "text/html": [
       "<div>\n",
       "<style scoped>\n",
       "    .dataframe tbody tr th:only-of-type {\n",
       "        vertical-align: middle;\n",
       "    }\n",
       "\n",
       "    .dataframe tbody tr th {\n",
       "        vertical-align: top;\n",
       "    }\n",
       "\n",
       "    .dataframe thead th {\n",
       "        text-align: right;\n",
       "    }\n",
       "</style>\n",
       "<table border=\"1\" class=\"dataframe\">\n",
       "  <thead>\n",
       "    <tr style=\"text-align: right;\">\n",
       "      <th></th>\n",
       "      <th>id</th>\n",
       "      <th>title</th>\n",
       "      <th>vote_average</th>\n",
       "      <th>overview</th>\n",
       "      <th>genres</th>\n",
       "      <th>imdb_id</th>\n",
       "      <th>poster_path</th>\n",
       "    </tr>\n",
       "  </thead>\n",
       "  <tbody>\n",
       "    <tr>\n",
       "      <th>0</th>\n",
       "      <td>27205</td>\n",
       "      <td>Inception</td>\n",
       "      <td>8.364</td>\n",
       "      <td>Cobb, a skilled thief who commits corporate es...</td>\n",
       "      <td>Action, Science Fiction, Adventure</td>\n",
       "      <td>tt1375666</td>\n",
       "      <td>/oYuLEt3zVCKq57qu2F8dT7NIa6f.jpg</td>\n",
       "    </tr>\n",
       "    <tr>\n",
       "      <th>1</th>\n",
       "      <td>157336</td>\n",
       "      <td>Interstellar</td>\n",
       "      <td>8.417</td>\n",
       "      <td>The adventures of a group of explorers who mak...</td>\n",
       "      <td>Adventure, Drama, Science Fiction</td>\n",
       "      <td>tt0816692</td>\n",
       "      <td>/gEU2QniE6E77NI6lCU6MxlNBvIx.jpg</td>\n",
       "    </tr>\n",
       "    <tr>\n",
       "      <th>2</th>\n",
       "      <td>155</td>\n",
       "      <td>The Dark Knight</td>\n",
       "      <td>8.512</td>\n",
       "      <td>Batman raises the stakes in his war on crime. ...</td>\n",
       "      <td>Drama, Action, Crime, Thriller</td>\n",
       "      <td>tt0468569</td>\n",
       "      <td>/qJ2tW6WMUDux911r6m7haRef0WH.jpg</td>\n",
       "    </tr>\n",
       "    <tr>\n",
       "      <th>3</th>\n",
       "      <td>19995</td>\n",
       "      <td>Avatar</td>\n",
       "      <td>7.573</td>\n",
       "      <td>In the 22nd century, a paraplegic Marine is di...</td>\n",
       "      <td>Action, Adventure, Fantasy, Science Fiction</td>\n",
       "      <td>tt0499549</td>\n",
       "      <td>/kyeqWdyUXW608qlYkRqosgbbJyK.jpg</td>\n",
       "    </tr>\n",
       "    <tr>\n",
       "      <th>4</th>\n",
       "      <td>24428</td>\n",
       "      <td>The Avengers</td>\n",
       "      <td>7.710</td>\n",
       "      <td>When an unexpected enemy emerges and threatens...</td>\n",
       "      <td>Science Fiction, Action, Adventure</td>\n",
       "      <td>tt0848228</td>\n",
       "      <td>/RYMX2wcKCBAr24UyPD7xwmjaTn.jpg</td>\n",
       "    </tr>\n",
       "  </tbody>\n",
       "</table>\n",
       "</div>"
      ],
      "text/plain": [
       "       id            title  vote_average  \\\n",
       "0   27205        Inception         8.364   \n",
       "1  157336     Interstellar         8.417   \n",
       "2     155  The Dark Knight         8.512   \n",
       "3   19995           Avatar         7.573   \n",
       "4   24428     The Avengers         7.710   \n",
       "\n",
       "                                            overview  \\\n",
       "0  Cobb, a skilled thief who commits corporate es...   \n",
       "1  The adventures of a group of explorers who mak...   \n",
       "2  Batman raises the stakes in his war on crime. ...   \n",
       "3  In the 22nd century, a paraplegic Marine is di...   \n",
       "4  When an unexpected enemy emerges and threatens...   \n",
       "\n",
       "                                        genres    imdb_id  \\\n",
       "0           Action, Science Fiction, Adventure  tt1375666   \n",
       "1            Adventure, Drama, Science Fiction  tt0816692   \n",
       "2               Drama, Action, Crime, Thriller  tt0468569   \n",
       "3  Action, Adventure, Fantasy, Science Fiction  tt0499549   \n",
       "4           Science Fiction, Action, Adventure  tt0848228   \n",
       "\n",
       "                        poster_path  \n",
       "0  /oYuLEt3zVCKq57qu2F8dT7NIa6f.jpg  \n",
       "1  /gEU2QniE6E77NI6lCU6MxlNBvIx.jpg  \n",
       "2  /qJ2tW6WMUDux911r6m7haRef0WH.jpg  \n",
       "3  /kyeqWdyUXW608qlYkRqosgbbJyK.jpg  \n",
       "4   /RYMX2wcKCBAr24UyPD7xwmjaTn.jpg  "
      ]
     },
     "execution_count": 66,
     "metadata": {},
     "output_type": "execute_result"
    }
   ],
   "source": [
    "df.head()"
   ]
  },
  {
   "cell_type": "markdown",
   "id": "0c0b60b6",
   "metadata": {},
   "source": [
    "### Exploring vote_average"
   ]
  },
  {
   "cell_type": "code",
   "execution_count": 67,
   "id": "e902d0ed",
   "metadata": {},
   "outputs": [
    {
     "data": {
      "image/png": "[encoded data removed]",
      "text/plain": [
       "<Figure size 600x400 with 1 Axes>"
      ]
     },
     "metadata": {},
     "output_type": "display_data"
    }
   ],
   "source": [
    "import matplotlib.pyplot as plt\n",
    "\n",
    "# Assuming df is your DataFrame and 'vote_average' is the column containing vote averages\n",
    "# Replace 'vote_average' with the actual column name in your DataFrame\n",
    "vote_average_data = df['vote_average']\n",
    "\n",
    "# Plot the distribution without grid lines\n",
    "plt.figure(figsize=(6, 4))\n",
    "plt.hist(vote_average_data, bins=30, color='skyblue', edgecolor='black')\n",
    "plt.title('Distribution of Movie Vote Averages')\n",
    "plt.xlabel('Vote Average')\n",
    "plt.ylabel('Frequency')\n",
    "plt.grid(False)  # Remove grid lines\n",
    "plt.show()\n"
   ]
  },
  {
   "cell_type": "code",
   "execution_count": 68,
   "id": "a8f4a48c",
   "metadata": {},
   "outputs": [],
   "source": [
    "df=df[df['vote_average']!=0]"
   ]
  },
  {
   "cell_type": "code",
   "execution_count": 69,
   "id": "9a55d26e",
   "metadata": {},
   "outputs": [
    {
     "name": "stdout",
     "output_type": "stream",
     "text": [
      "<class 'pandas.core.frame.DataFrame'>\n",
      "Int64Index: 22106 entries, 0 to 611598\n",
      "Data columns (total 7 columns):\n",
      " #   Column        Non-Null Count  Dtype  \n",
      "---  ------        --------------  -----  \n",
      " 0   id            22106 non-null  int64  \n",
      " 1   title         22106 non-null  object \n",
      " 2   vote_average  22106 non-null  float64\n",
      " 3   overview      22106 non-null  object \n",
      " 4   genres        22106 non-null  object \n",
      " 5   imdb_id       22106 non-null  object \n",
      " 6   poster_path   22106 non-null  object \n",
      "dtypes: float64(1), int64(1), object(5)\n",
      "memory usage: 1.3+ MB\n"
     ]
    }
   ],
   "source": [
    "df.info()"
   ]
  },
  {
   "cell_type": "code",
   "execution_count": 70,
   "id": "41b4ec85",
   "metadata": {},
   "outputs": [
    {
     "data": {
      "image/png": "[encoded data removed]",
      "text/plain": [
       "<Figure size 600x400 with 1 Axes>"
      ]
     },
     "metadata": {},
     "output_type": "display_data"
    }
   ],
   "source": [
    "import matplotlib.pyplot as plt\n",
    "\n",
    "# Assuming df is your DataFrame and 'vote_average' is the column containing vote averages\n",
    "# Replace 'vote_average' with the actual column name in your DataFrame\n",
    "vote_average_data = df['vote_average']\n",
    "\n",
    "# Plot the distribution without grid lines\n",
    "plt.figure(figsize=(6, 4))\n",
    "plt.hist(vote_average_data, bins=30, color='skyblue', edgecolor='black')\n",
    "plt.title('Distribution of Movie Vote Averages')\n",
    "plt.xlabel('Vote Average')\n",
    "plt.ylabel('Frequency')\n",
    "plt.grid(False)  # Remove grid lines\n",
    "plt.show()\n"
   ]
  },
  {
   "cell_type": "code",
   "execution_count": 71,
   "id": "589e9f25",
   "metadata": {},
   "outputs": [
    {
     "data": {
      "text/plain": [
       "count    22106.000000\n",
       "mean         6.269975\n",
       "std          0.984589\n",
       "min          1.000000\n",
       "25%          5.696250\n",
       "50%          6.323000\n",
       "75%          6.946000\n",
       "max         10.000000\n",
       "Name: vote_average, dtype: float64"
      ]
     },
     "execution_count": 71,
     "metadata": {},
     "output_type": "execute_result"
    }
   ],
   "source": [
    "df['vote_average'].describe()"
   ]
  },
  {
   "cell_type": "markdown",
   "id": "79d23b13",
   "metadata": {},
   "source": [
    "### Final Conclusion regarding vote_average"
   ]
  },
  {
   "cell_type": "raw",
   "id": "c943be11",
   "metadata": {},
   "source": [
    "Distribution of vote_average somehow follows normal distribution if we look, so we can consider this.\n",
    "Users generally don't prefer movies having rating<5 as we generally observe"
   ]
  },
  {
   "cell_type": "code",
   "execution_count": 76,
   "id": "2da95f92",
   "metadata": {},
   "outputs": [
    {
     "data": {
      "text/plain": [
       "2091"
      ]
     },
     "execution_count": 76,
     "metadata": {},
     "output_type": "execute_result"
    }
   ],
   "source": [
    "len(df[df['vote_average']<5])"
   ]
  },
  {
   "cell_type": "code",
   "execution_count": 77,
   "id": "d0cf7bfa",
   "metadata": {},
   "outputs": [],
   "source": [
    "df=df[df['vote_average']>5]"
   ]
  },
  {
   "cell_type": "code",
   "execution_count": 78,
   "id": "a774b6af",
   "metadata": {},
   "outputs": [
    {
     "name": "stdout",
     "output_type": "stream",
     "text": [
      "<class 'pandas.core.frame.DataFrame'>\n",
      "Int64Index: 19880 entries, 0 to 611598\n",
      "Data columns (total 7 columns):\n",
      " #   Column        Non-Null Count  Dtype  \n",
      "---  ------        --------------  -----  \n",
      " 0   id            19880 non-null  int64  \n",
      " 1   title         19880 non-null  object \n",
      " 2   vote_average  19880 non-null  float64\n",
      " 3   overview      19880 non-null  object \n",
      " 4   genres        19880 non-null  object \n",
      " 5   imdb_id       19880 non-null  object \n",
      " 6   poster_path   19880 non-null  object \n",
      "dtypes: float64(1), int64(1), object(5)\n",
      "memory usage: 1.2+ MB\n"
     ]
    }
   ],
   "source": [
    "df.info()"
   ]
  },
  {
   "cell_type": "code",
   "execution_count": 79,
   "id": "1113e954",
   "metadata": {},
   "outputs": [
    {
     "data": {
      "text/html": [
       "<div>\n",
       "<style scoped>\n",
       "    .dataframe tbody tr th:only-of-type {\n",
       "        vertical-align: middle;\n",
       "    }\n",
       "\n",
       "    .dataframe tbody tr th {\n",
       "        vertical-align: top;\n",
       "    }\n",
       "\n",
       "    .dataframe thead th {\n",
       "        text-align: right;\n",
       "    }\n",
       "</style>\n",
       "<table border=\"1\" class=\"dataframe\">\n",
       "  <thead>\n",
       "    <tr style=\"text-align: right;\">\n",
       "      <th></th>\n",
       "      <th>id</th>\n",
       "      <th>title</th>\n",
       "      <th>vote_average</th>\n",
       "      <th>overview</th>\n",
       "      <th>genres</th>\n",
       "      <th>imdb_id</th>\n",
       "      <th>poster_path</th>\n",
       "    </tr>\n",
       "  </thead>\n",
       "  <tbody>\n",
       "    <tr>\n",
       "      <th>0</th>\n",
       "      <td>27205</td>\n",
       "      <td>Inception</td>\n",
       "      <td>8.364</td>\n",
       "      <td>Cobb, a skilled thief who commits corporate es...</td>\n",
       "      <td>Action, Science Fiction, Adventure</td>\n",
       "      <td>tt1375666</td>\n",
       "      <td>/oYuLEt3zVCKq57qu2F8dT7NIa6f.jpg</td>\n",
       "    </tr>\n",
       "    <tr>\n",
       "      <th>1</th>\n",
       "      <td>157336</td>\n",
       "      <td>Interstellar</td>\n",
       "      <td>8.417</td>\n",
       "      <td>The adventures of a group of explorers who mak...</td>\n",
       "      <td>Adventure, Drama, Science Fiction</td>\n",
       "      <td>tt0816692</td>\n",
       "      <td>/gEU2QniE6E77NI6lCU6MxlNBvIx.jpg</td>\n",
       "    </tr>\n",
       "    <tr>\n",
       "      <th>2</th>\n",
       "      <td>155</td>\n",
       "      <td>The Dark Knight</td>\n",
       "      <td>8.512</td>\n",
       "      <td>Batman raises the stakes in his war on crime. ...</td>\n",
       "      <td>Drama, Action, Crime, Thriller</td>\n",
       "      <td>tt0468569</td>\n",
       "      <td>/qJ2tW6WMUDux911r6m7haRef0WH.jpg</td>\n",
       "    </tr>\n",
       "    <tr>\n",
       "      <th>3</th>\n",
       "      <td>19995</td>\n",
       "      <td>Avatar</td>\n",
       "      <td>7.573</td>\n",
       "      <td>In the 22nd century, a paraplegic Marine is di...</td>\n",
       "      <td>Action, Adventure, Fantasy, Science Fiction</td>\n",
       "      <td>tt0499549</td>\n",
       "      <td>/kyeqWdyUXW608qlYkRqosgbbJyK.jpg</td>\n",
       "    </tr>\n",
       "    <tr>\n",
       "      <th>4</th>\n",
       "      <td>24428</td>\n",
       "      <td>The Avengers</td>\n",
       "      <td>7.710</td>\n",
       "      <td>When an unexpected enemy emerges and threatens...</td>\n",
       "      <td>Science Fiction, Action, Adventure</td>\n",
       "      <td>tt0848228</td>\n",
       "      <td>/RYMX2wcKCBAr24UyPD7xwmjaTn.jpg</td>\n",
       "    </tr>\n",
       "  </tbody>\n",
       "</table>\n",
       "</div>"
      ],
      "text/plain": [
       "       id            title  vote_average  \\\n",
       "0   27205        Inception         8.364   \n",
       "1  157336     Interstellar         8.417   \n",
       "2     155  The Dark Knight         8.512   \n",
       "3   19995           Avatar         7.573   \n",
       "4   24428     The Avengers         7.710   \n",
       "\n",
       "                                            overview  \\\n",
       "0  Cobb, a skilled thief who commits corporate es...   \n",
       "1  The adventures of a group of explorers who mak...   \n",
       "2  Batman raises the stakes in his war on crime. ...   \n",
       "3  In the 22nd century, a paraplegic Marine is di...   \n",
       "4  When an unexpected enemy emerges and threatens...   \n",
       "\n",
       "                                        genres    imdb_id  \\\n",
       "0           Action, Science Fiction, Adventure  tt1375666   \n",
       "1            Adventure, Drama, Science Fiction  tt0816692   \n",
       "2               Drama, Action, Crime, Thriller  tt0468569   \n",
       "3  Action, Adventure, Fantasy, Science Fiction  tt0499549   \n",
       "4           Science Fiction, Action, Adventure  tt0848228   \n",
       "\n",
       "                        poster_path  \n",
       "0  /oYuLEt3zVCKq57qu2F8dT7NIa6f.jpg  \n",
       "1  /gEU2QniE6E77NI6lCU6MxlNBvIx.jpg  \n",
       "2  /qJ2tW6WMUDux911r6m7haRef0WH.jpg  \n",
       "3  /kyeqWdyUXW608qlYkRqosgbbJyK.jpg  \n",
       "4   /RYMX2wcKCBAr24UyPD7xwmjaTn.jpg  "
      ]
     },
     "execution_count": 79,
     "metadata": {},
     "output_type": "execute_result"
    }
   ],
   "source": [
    "df.head()"
   ]
  },
  {
   "cell_type": "code",
   "execution_count": 80,
   "id": "71c1f2c3",
   "metadata": {},
   "outputs": [
    {
     "data": {
      "text/plain": [
       "0"
      ]
     },
     "execution_count": 80,
     "metadata": {},
     "output_type": "execute_result"
    }
   ],
   "source": [
    "df.duplicated().sum()"
   ]
  },
  {
   "cell_type": "code",
   "execution_count": 81,
   "id": "8c98c0a1",
   "metadata": {},
   "outputs": [
    {
     "data": {
      "text/plain": [
       "734"
      ]
     },
     "execution_count": 81,
     "metadata": {},
     "output_type": "execute_result"
    }
   ],
   "source": [
    "df['title'].duplicated().sum()"
   ]
  },
  {
   "cell_type": "code",
   "execution_count": 82,
   "id": "6274a2dc",
   "metadata": {},
   "outputs": [],
   "source": [
    "df= df.drop_duplicates(subset='title')"
   ]
  },
  {
   "cell_type": "code",
   "execution_count": 83,
   "id": "9dd42b03",
   "metadata": {},
   "outputs": [
    {
     "data": {
      "text/plain": [
       "0"
      ]
     },
     "execution_count": 83,
     "metadata": {},
     "output_type": "execute_result"
    }
   ],
   "source": [
    "df['title'].duplicated().sum()"
   ]
  },
  {
   "cell_type": "code",
   "execution_count": 84,
   "id": "db6d637a",
   "metadata": {},
   "outputs": [
    {
     "data": {
      "text/plain": [
       "0"
      ]
     },
     "execution_count": 84,
     "metadata": {},
     "output_type": "execute_result"
    }
   ],
   "source": [
    "df['id'].duplicated().sum()"
   ]
  },
  {
   "cell_type": "markdown",
   "id": "dc527b5b",
   "metadata": {},
   "source": [
    "### Final data left after the analysis of various columns"
   ]
  },
  {
   "cell_type": "code",
   "execution_count": 86,
   "id": "56003767",
   "metadata": {},
   "outputs": [
    {
     "name": "stdout",
     "output_type": "stream",
     "text": [
      "<class 'pandas.core.frame.DataFrame'>\n",
      "Int64Index: 19146 entries, 0 to 611598\n",
      "Data columns (total 7 columns):\n",
      " #   Column        Non-Null Count  Dtype  \n",
      "---  ------        --------------  -----  \n",
      " 0   id            19146 non-null  int64  \n",
      " 1   title         19146 non-null  object \n",
      " 2   vote_average  19146 non-null  float64\n",
      " 3   overview      19146 non-null  object \n",
      " 4   genres        19146 non-null  object \n",
      " 5   imdb_id       19146 non-null  object \n",
      " 6   poster_path   19146 non-null  object \n",
      "dtypes: float64(1), int64(1), object(5)\n",
      "memory usage: 1.2+ MB\n"
     ]
    }
   ],
   "source": [
    "df.info()"
   ]
  },
  {
   "cell_type": "code",
   "execution_count": 87,
   "id": "a243c92c",
   "metadata": {},
   "outputs": [
    {
     "data": {
      "text/html": [
       "<div>\n",
       "<style scoped>\n",
       "    .dataframe tbody tr th:only-of-type {\n",
       "        vertical-align: middle;\n",
       "    }\n",
       "\n",
       "    .dataframe tbody tr th {\n",
       "        vertical-align: top;\n",
       "    }\n",
       "\n",
       "    .dataframe thead th {\n",
       "        text-align: right;\n",
       "    }\n",
       "</style>\n",
       "<table border=\"1\" class=\"dataframe\">\n",
       "  <thead>\n",
       "    <tr style=\"text-align: right;\">\n",
       "      <th></th>\n",
       "      <th>id</th>\n",
       "      <th>title</th>\n",
       "      <th>vote_average</th>\n",
       "      <th>overview</th>\n",
       "      <th>genres</th>\n",
       "      <th>imdb_id</th>\n",
       "      <th>poster_path</th>\n",
       "    </tr>\n",
       "  </thead>\n",
       "  <tbody>\n",
       "    <tr>\n",
       "      <th>0</th>\n",
       "      <td>27205</td>\n",
       "      <td>Inception</td>\n",
       "      <td>8.364</td>\n",
       "      <td>Cobb, a skilled thief who commits corporate es...</td>\n",
       "      <td>Action, Science Fiction, Adventure</td>\n",
       "      <td>tt1375666</td>\n",
       "      <td>/oYuLEt3zVCKq57qu2F8dT7NIa6f.jpg</td>\n",
       "    </tr>\n",
       "    <tr>\n",
       "      <th>1</th>\n",
       "      <td>157336</td>\n",
       "      <td>Interstellar</td>\n",
       "      <td>8.417</td>\n",
       "      <td>The adventures of a group of explorers who mak...</td>\n",
       "      <td>Adventure, Drama, Science Fiction</td>\n",
       "      <td>tt0816692</td>\n",
       "      <td>/gEU2QniE6E77NI6lCU6MxlNBvIx.jpg</td>\n",
       "    </tr>\n",
       "    <tr>\n",
       "      <th>2</th>\n",
       "      <td>155</td>\n",
       "      <td>The Dark Knight</td>\n",
       "      <td>8.512</td>\n",
       "      <td>Batman raises the stakes in his war on crime. ...</td>\n",
       "      <td>Drama, Action, Crime, Thriller</td>\n",
       "      <td>tt0468569</td>\n",
       "      <td>/qJ2tW6WMUDux911r6m7haRef0WH.jpg</td>\n",
       "    </tr>\n",
       "    <tr>\n",
       "      <th>3</th>\n",
       "      <td>19995</td>\n",
       "      <td>Avatar</td>\n",
       "      <td>7.573</td>\n",
       "      <td>In the 22nd century, a paraplegic Marine is di...</td>\n",
       "      <td>Action, Adventure, Fantasy, Science Fiction</td>\n",
       "      <td>tt0499549</td>\n",
       "      <td>/kyeqWdyUXW608qlYkRqosgbbJyK.jpg</td>\n",
       "    </tr>\n",
       "    <tr>\n",
       "      <th>4</th>\n",
       "      <td>24428</td>\n",
       "      <td>The Avengers</td>\n",
       "      <td>7.710</td>\n",
       "      <td>When an unexpected enemy emerges and threatens...</td>\n",
       "      <td>Science Fiction, Action, Adventure</td>\n",
       "      <td>tt0848228</td>\n",
       "      <td>/RYMX2wcKCBAr24UyPD7xwmjaTn.jpg</td>\n",
       "    </tr>\n",
       "  </tbody>\n",
       "</table>\n",
       "</div>"
      ],
      "text/plain": [
       "       id            title  vote_average  \\\n",
       "0   27205        Inception         8.364   \n",
       "1  157336     Interstellar         8.417   \n",
       "2     155  The Dark Knight         8.512   \n",
       "3   19995           Avatar         7.573   \n",
       "4   24428     The Avengers         7.710   \n",
       "\n",
       "                                            overview  \\\n",
       "0  Cobb, a skilled thief who commits corporate es...   \n",
       "1  The adventures of a group of explorers who mak...   \n",
       "2  Batman raises the stakes in his war on crime. ...   \n",
       "3  In the 22nd century, a paraplegic Marine is di...   \n",
       "4  When an unexpected enemy emerges and threatens...   \n",
       "\n",
       "                                        genres    imdb_id  \\\n",
       "0           Action, Science Fiction, Adventure  tt1375666   \n",
       "1            Adventure, Drama, Science Fiction  tt0816692   \n",
       "2               Drama, Action, Crime, Thriller  tt0468569   \n",
       "3  Action, Adventure, Fantasy, Science Fiction  tt0499549   \n",
       "4           Science Fiction, Action, Adventure  tt0848228   \n",
       "\n",
       "                        poster_path  \n",
       "0  /oYuLEt3zVCKq57qu2F8dT7NIa6f.jpg  \n",
       "1  /gEU2QniE6E77NI6lCU6MxlNBvIx.jpg  \n",
       "2  /qJ2tW6WMUDux911r6m7haRef0WH.jpg  \n",
       "3  /kyeqWdyUXW608qlYkRqosgbbJyK.jpg  \n",
       "4   /RYMX2wcKCBAr24UyPD7xwmjaTn.jpg  "
      ]
     },
     "execution_count": 87,
     "metadata": {},
     "output_type": "execute_result"
    }
   ],
   "source": [
    "df.head()"
   ]
  },
  {
   "cell_type": "code",
   "execution_count": 88,
   "id": "791717c5",
   "metadata": {},
   "outputs": [
    {
     "data": {
      "text/plain": [
       "id              0\n",
       "title           0\n",
       "vote_average    0\n",
       "overview        0\n",
       "genres          0\n",
       "imdb_id         0\n",
       "poster_path     0\n",
       "dtype: int64"
      ]
     },
     "execution_count": 88,
     "metadata": {},
     "output_type": "execute_result"
    }
   ],
   "source": [
    "df.isnull().sum()"
   ]
  },
  {
   "cell_type": "markdown",
   "id": "60dacdd5",
   "metadata": {},
   "source": [
    "### Code to extract top 4 casts,director,writer,screenplay name"
   ]
  },
  {
   "cell_type": "markdown",
   "id": "04254770",
   "metadata": {},
   "source": [
    "#### Users mostly watches movies by looking at the name of casts and director mostly, so we will need to extract these informations"
   ]
  },
  {
   "cell_type": "markdown",
   "id": "bc750db1",
   "metadata": {},
   "source": [
    "#### Since number of data is huge,I will extract these above informations in kaggle colab for faster extraction and will then directly work on the updated data which will contain one additonal column as Cast&Crew column"
   ]
  },
  {
   "cell_type": "code",
   "execution_count": 89,
   "id": "7667c472",
   "metadata": {},
   "outputs": [
    {
     "name": "stdout",
     "output_type": "stream",
     "text": [
      "Cast: ['Sam Worthington', 'Zoe Saldaña', 'Sigourney Weaver', 'Stephen Lang']\n",
      "Director: James Cameron\n",
      "Writer: ['James Cameron']\n",
      "Screenplay: []\n"
     ]
    }
   ],
   "source": [
    "import requests\n",
    "from requests.adapters import HTTPAdapter\n",
    "from requests.packages.urllib3.util.retry import Retry\n",
    "\n",
    "def get_movie_info(movie_name):\n",
    "    search_url = \"https://api.themoviedb.org/3/search/movie\"\n",
    "    search_params = {'api_key': 'ebfff2fa87a58e69ee7817a7923cde61', 'query': movie_name}\n",
    "    \n",
    "    # Retry up to 10 times with exponential backoff\n",
    "    retries = Retry(total=5, backoff_factor=2)\n",
    "    adapter = HTTPAdapter(max_retries=retries)\n",
    "    session = requests.Session()\n",
    "    session.mount('http://', adapter)\n",
    "    session.mount('https://', adapter)\n",
    "    \n",
    "    try:\n",
    "        response = session.get(search_url, params=search_params)\n",
    "        response.raise_for_status()\n",
    "        movie_data = response.json()\n",
    "        \n",
    "        if movie_data['results']:\n",
    "            # Extract movie ID from the first result and continue fetching credits\n",
    "            movie_id = movie_data['results'][0]['id']\n",
    "            credits_url = f\"https://api.themoviedb.org/3/movie/{movie_id}/credits\"\n",
    "            credits_params = {'api_key': 'ebfff2fa87a58e69ee7817a7923cde61'}\n",
    "            response = session.get(credits_url, params=credits_params)\n",
    "            response.raise_for_status()\n",
    "            credits_data = response.json()\n",
    "            \n",
    "            cast = [actor['name'] for actor in credits_data['cast']]\n",
    "            crew = {member['job']: member['name'] for member in credits_data['crew']}\n",
    "            \n",
    "            # Extract director, writer, and screenplay writer from crew\n",
    "            director = crew.get('Director', 'Director not found')\n",
    "            writer = [crew_member['name'] for crew_member in credits_data['crew'] if crew_member['job'] == 'Writer']\n",
    "            screenplay = [crew_member['name'] for crew_member in credits_data['crew'] if crew_member['job'] == 'Screenplay']\n",
    "            \n",
    "            return {'cast': cast[:4], 'director': director, 'writer': writer, 'screenplay': screenplay}\n",
    "        else:\n",
    "            return None\n",
    "    except requests.RequestException as e:\n",
    "        print(\"Error:\", e)\n",
    "        return None\n",
    "\n",
    "# Example usage\n",
    "movie_name = \"Avatar\"\n",
    "movie_info = get_movie_info(movie_name)\n",
    "if movie_info:\n",
    "    print(\"Cast:\", movie_info['cast'][:4])\n",
    "    print(\"Director:\", movie_info['director'])\n",
    "    print(\"Writer:\", movie_info['writer'])\n",
    "    print(\"Screenplay:\", movie_info['screenplay'])\n",
    "else:\n",
    "    print(\"Movie not found.\")"
   ]
  },
  {
   "cell_type": "markdown",
   "id": "cd438791",
   "metadata": {},
   "source": [
    "### This is what this function returns for a movie 'title'"
   ]
  },
  {
   "cell_type": "code",
   "execution_count": 90,
   "id": "cfd6916e",
   "metadata": {},
   "outputs": [
    {
     "data": {
      "text/plain": [
       "{'cast': ['Leonardo DiCaprio',\n",
       "  'Joseph Gordon-Levitt',\n",
       "  'Ken Watanabe',\n",
       "  'Tom Hardy'],\n",
       " 'director': 'Christopher Nolan',\n",
       " 'writer': ['Christopher Nolan'],\n",
       " 'screenplay': []}"
      ]
     },
     "execution_count": 90,
     "metadata": {},
     "output_type": "execute_result"
    }
   ],
   "source": [
    "get_movie_info('Inception')"
   ]
  },
  {
   "cell_type": "markdown",
   "id": "df42749e",
   "metadata": {},
   "source": [
    "### Saving the above data to upload it on kaggle colab for Cast&Crew extraction"
   ]
  },
  {
   "cell_type": "code",
   "execution_count": 91,
   "id": "3c1f3b58",
   "metadata": {},
   "outputs": [],
   "source": [
    "df.to_csv('data_19146.csv',index=False)"
   ]
  },
  {
   "cell_type": "code",
   "execution_count": 92,
   "id": "5b934e97",
   "metadata": {},
   "outputs": [],
   "source": [
    "data_19146=pd.read_csv('data_19146.csv')"
   ]
  },
  {
   "cell_type": "code",
   "execution_count": 93,
   "id": "97948919",
   "metadata": {},
   "outputs": [
    {
     "data": {
      "text/html": [
       "<div>\n",
       "<style scoped>\n",
       "    .dataframe tbody tr th:only-of-type {\n",
       "        vertical-align: middle;\n",
       "    }\n",
       "\n",
       "    .dataframe tbody tr th {\n",
       "        vertical-align: top;\n",
       "    }\n",
       "\n",
       "    .dataframe thead th {\n",
       "        text-align: right;\n",
       "    }\n",
       "</style>\n",
       "<table border=\"1\" class=\"dataframe\">\n",
       "  <thead>\n",
       "    <tr style=\"text-align: right;\">\n",
       "      <th></th>\n",
       "      <th>id</th>\n",
       "      <th>title</th>\n",
       "      <th>vote_average</th>\n",
       "      <th>overview</th>\n",
       "      <th>genres</th>\n",
       "      <th>imdb_id</th>\n",
       "      <th>poster_path</th>\n",
       "    </tr>\n",
       "  </thead>\n",
       "  <tbody>\n",
       "    <tr>\n",
       "      <th>0</th>\n",
       "      <td>27205</td>\n",
       "      <td>Inception</td>\n",
       "      <td>8.364</td>\n",
       "      <td>Cobb, a skilled thief who commits corporate es...</td>\n",
       "      <td>Action, Science Fiction, Adventure</td>\n",
       "      <td>tt1375666</td>\n",
       "      <td>/oYuLEt3zVCKq57qu2F8dT7NIa6f.jpg</td>\n",
       "    </tr>\n",
       "    <tr>\n",
       "      <th>1</th>\n",
       "      <td>157336</td>\n",
       "      <td>Interstellar</td>\n",
       "      <td>8.417</td>\n",
       "      <td>The adventures of a group of explorers who mak...</td>\n",
       "      <td>Adventure, Drama, Science Fiction</td>\n",
       "      <td>tt0816692</td>\n",
       "      <td>/gEU2QniE6E77NI6lCU6MxlNBvIx.jpg</td>\n",
       "    </tr>\n",
       "    <tr>\n",
       "      <th>2</th>\n",
       "      <td>155</td>\n",
       "      <td>The Dark Knight</td>\n",
       "      <td>8.512</td>\n",
       "      <td>Batman raises the stakes in his war on crime. ...</td>\n",
       "      <td>Drama, Action, Crime, Thriller</td>\n",
       "      <td>tt0468569</td>\n",
       "      <td>/qJ2tW6WMUDux911r6m7haRef0WH.jpg</td>\n",
       "    </tr>\n",
       "    <tr>\n",
       "      <th>3</th>\n",
       "      <td>19995</td>\n",
       "      <td>Avatar</td>\n",
       "      <td>7.573</td>\n",
       "      <td>In the 22nd century, a paraplegic Marine is di...</td>\n",
       "      <td>Action, Adventure, Fantasy, Science Fiction</td>\n",
       "      <td>tt0499549</td>\n",
       "      <td>/kyeqWdyUXW608qlYkRqosgbbJyK.jpg</td>\n",
       "    </tr>\n",
       "    <tr>\n",
       "      <th>4</th>\n",
       "      <td>24428</td>\n",
       "      <td>The Avengers</td>\n",
       "      <td>7.710</td>\n",
       "      <td>When an unexpected enemy emerges and threatens...</td>\n",
       "      <td>Science Fiction, Action, Adventure</td>\n",
       "      <td>tt0848228</td>\n",
       "      <td>/RYMX2wcKCBAr24UyPD7xwmjaTn.jpg</td>\n",
       "    </tr>\n",
       "  </tbody>\n",
       "</table>\n",
       "</div>"
      ],
      "text/plain": [
       "       id            title  vote_average  \\\n",
       "0   27205        Inception         8.364   \n",
       "1  157336     Interstellar         8.417   \n",
       "2     155  The Dark Knight         8.512   \n",
       "3   19995           Avatar         7.573   \n",
       "4   24428     The Avengers         7.710   \n",
       "\n",
       "                                            overview  \\\n",
       "0  Cobb, a skilled thief who commits corporate es...   \n",
       "1  The adventures of a group of explorers who mak...   \n",
       "2  Batman raises the stakes in his war on crime. ...   \n",
       "3  In the 22nd century, a paraplegic Marine is di...   \n",
       "4  When an unexpected enemy emerges and threatens...   \n",
       "\n",
       "                                        genres    imdb_id  \\\n",
       "0           Action, Science Fiction, Adventure  tt1375666   \n",
       "1            Adventure, Drama, Science Fiction  tt0816692   \n",
       "2               Drama, Action, Crime, Thriller  tt0468569   \n",
       "3  Action, Adventure, Fantasy, Science Fiction  tt0499549   \n",
       "4           Science Fiction, Action, Adventure  tt0848228   \n",
       "\n",
       "                        poster_path  \n",
       "0  /oYuLEt3zVCKq57qu2F8dT7NIa6f.jpg  \n",
       "1  /gEU2QniE6E77NI6lCU6MxlNBvIx.jpg  \n",
       "2  /qJ2tW6WMUDux911r6m7haRef0WH.jpg  \n",
       "3  /kyeqWdyUXW608qlYkRqosgbbJyK.jpg  \n",
       "4   /RYMX2wcKCBAr24UyPD7xwmjaTn.jpg  "
      ]
     },
     "execution_count": 93,
     "metadata": {},
     "output_type": "execute_result"
    }
   ],
   "source": [
    "df.head()"
   ]
  },
  {
   "cell_type": "markdown",
   "id": "f57c7fe9",
   "metadata": {},
   "source": [
    "### We have now extract Cast&Crew column"
   ]
  },
  {
   "cell_type": "code",
   "execution_count": 126,
   "id": "504909fd",
   "metadata": {},
   "outputs": [],
   "source": [
    "import pandas as pd\n",
    "import numpy as np"
   ]
  },
  {
   "cell_type": "code",
   "execution_count": 127,
   "id": "0194476a",
   "metadata": {},
   "outputs": [
    {
     "data": {
      "text/html": [
       "<div>\n",
       "<style scoped>\n",
       "    .dataframe tbody tr th:only-of-type {\n",
       "        vertical-align: middle;\n",
       "    }\n",
       "\n",
       "    .dataframe tbody tr th {\n",
       "        vertical-align: top;\n",
       "    }\n",
       "\n",
       "    .dataframe thead th {\n",
       "        text-align: right;\n",
       "    }\n",
       "</style>\n",
       "<table border=\"1\" class=\"dataframe\">\n",
       "  <thead>\n",
       "    <tr style=\"text-align: right;\">\n",
       "      <th></th>\n",
       "      <th>Unnamed: 0</th>\n",
       "      <th>id</th>\n",
       "      <th>title</th>\n",
       "      <th>vote_average</th>\n",
       "      <th>overview</th>\n",
       "      <th>genres</th>\n",
       "      <th>imdb_id</th>\n",
       "      <th>poster_path</th>\n",
       "      <th>Cast&amp;Crew</th>\n",
       "    </tr>\n",
       "  </thead>\n",
       "  <tbody>\n",
       "    <tr>\n",
       "      <th>0</th>\n",
       "      <td>0</td>\n",
       "      <td>27205</td>\n",
       "      <td>Inception</td>\n",
       "      <td>8.364</td>\n",
       "      <td>Cobb, a skilled thief who commits corporate es...</td>\n",
       "      <td>Action, Science Fiction, Adventure</td>\n",
       "      <td>tt1375666</td>\n",
       "      <td>/oYuLEt3zVCKq57qu2F8dT7NIa6f.jpg</td>\n",
       "      <td>{'cast': ['Leonardo DiCaprio', 'Joseph Gordon-...</td>\n",
       "    </tr>\n",
       "    <tr>\n",
       "      <th>1</th>\n",
       "      <td>1</td>\n",
       "      <td>157336</td>\n",
       "      <td>Interstellar</td>\n",
       "      <td>8.417</td>\n",
       "      <td>The adventures of a group of explorers who mak...</td>\n",
       "      <td>Adventure, Drama, Science Fiction</td>\n",
       "      <td>tt0816692</td>\n",
       "      <td>/gEU2QniE6E77NI6lCU6MxlNBvIx.jpg</td>\n",
       "      <td>{'cast': ['Matthew McConaughey', 'Anne Hathawa...</td>\n",
       "    </tr>\n",
       "    <tr>\n",
       "      <th>2</th>\n",
       "      <td>2</td>\n",
       "      <td>155</td>\n",
       "      <td>The Dark Knight</td>\n",
       "      <td>8.512</td>\n",
       "      <td>Batman raises the stakes in his war on crime. ...</td>\n",
       "      <td>Drama, Action, Crime, Thriller</td>\n",
       "      <td>tt0468569</td>\n",
       "      <td>/qJ2tW6WMUDux911r6m7haRef0WH.jpg</td>\n",
       "      <td>{'cast': ['Christian Bale', 'Heath Ledger', 'M...</td>\n",
       "    </tr>\n",
       "    <tr>\n",
       "      <th>3</th>\n",
       "      <td>3</td>\n",
       "      <td>19995</td>\n",
       "      <td>Avatar</td>\n",
       "      <td>7.573</td>\n",
       "      <td>In the 22nd century, a paraplegic Marine is di...</td>\n",
       "      <td>Action, Adventure, Fantasy, Science Fiction</td>\n",
       "      <td>tt0499549</td>\n",
       "      <td>/kyeqWdyUXW608qlYkRqosgbbJyK.jpg</td>\n",
       "      <td>{'cast': ['Sam Worthington', 'Zoe Saldaña', 'S...</td>\n",
       "    </tr>\n",
       "    <tr>\n",
       "      <th>4</th>\n",
       "      <td>4</td>\n",
       "      <td>24428</td>\n",
       "      <td>The Avengers</td>\n",
       "      <td>7.710</td>\n",
       "      <td>When an unexpected enemy emerges and threatens...</td>\n",
       "      <td>Science Fiction, Action, Adventure</td>\n",
       "      <td>tt0848228</td>\n",
       "      <td>/RYMX2wcKCBAr24UyPD7xwmjaTn.jpg</td>\n",
       "      <td>{'cast': ['Robert Downey Jr.', 'Chris Evans', ...</td>\n",
       "    </tr>\n",
       "  </tbody>\n",
       "</table>\n",
       "</div>"
      ],
      "text/plain": [
       "   Unnamed: 0      id            title  vote_average  \\\n",
       "0           0   27205        Inception         8.364   \n",
       "1           1  157336     Interstellar         8.417   \n",
       "2           2     155  The Dark Knight         8.512   \n",
       "3           3   19995           Avatar         7.573   \n",
       "4           4   24428     The Avengers         7.710   \n",
       "\n",
       "                                            overview  \\\n",
       "0  Cobb, a skilled thief who commits corporate es...   \n",
       "1  The adventures of a group of explorers who mak...   \n",
       "2  Batman raises the stakes in his war on crime. ...   \n",
       "3  In the 22nd century, a paraplegic Marine is di...   \n",
       "4  When an unexpected enemy emerges and threatens...   \n",
       "\n",
       "                                        genres    imdb_id  \\\n",
       "0           Action, Science Fiction, Adventure  tt1375666   \n",
       "1            Adventure, Drama, Science Fiction  tt0816692   \n",
       "2               Drama, Action, Crime, Thriller  tt0468569   \n",
       "3  Action, Adventure, Fantasy, Science Fiction  tt0499549   \n",
       "4           Science Fiction, Action, Adventure  tt0848228   \n",
       "\n",
       "                        poster_path  \\\n",
       "0  /oYuLEt3zVCKq57qu2F8dT7NIa6f.jpg   \n",
       "1  /gEU2QniE6E77NI6lCU6MxlNBvIx.jpg   \n",
       "2  /qJ2tW6WMUDux911r6m7haRef0WH.jpg   \n",
       "3  /kyeqWdyUXW608qlYkRqosgbbJyK.jpg   \n",
       "4   /RYMX2wcKCBAr24UyPD7xwmjaTn.jpg   \n",
       "\n",
       "                                           Cast&Crew  \n",
       "0  {'cast': ['Leonardo DiCaprio', 'Joseph Gordon-...  \n",
       "1  {'cast': ['Matthew McConaughey', 'Anne Hathawa...  \n",
       "2  {'cast': ['Christian Bale', 'Heath Ledger', 'M...  \n",
       "3  {'cast': ['Sam Worthington', 'Zoe Saldaña', 'S...  \n",
       "4  {'cast': ['Robert Downey Jr.', 'Chris Evans', ...  "
      ]
     },
     "execution_count": 127,
     "metadata": {},
     "output_type": "execute_result"
    }
   ],
   "source": [
    "df1=pd.read_csv('data_10k.csv')\n",
    "df1.head()"
   ]
  },
  {
   "cell_type": "code",
   "execution_count": 128,
   "id": "e7a50bbb",
   "metadata": {},
   "outputs": [
    {
     "data": {
      "text/html": [
       "<div>\n",
       "<style scoped>\n",
       "    .dataframe tbody tr th:only-of-type {\n",
       "        vertical-align: middle;\n",
       "    }\n",
       "\n",
       "    .dataframe tbody tr th {\n",
       "        vertical-align: top;\n",
       "    }\n",
       "\n",
       "    .dataframe thead th {\n",
       "        text-align: right;\n",
       "    }\n",
       "</style>\n",
       "<table border=\"1\" class=\"dataframe\">\n",
       "  <thead>\n",
       "    <tr style=\"text-align: right;\">\n",
       "      <th></th>\n",
       "      <th>Unnamed: 0</th>\n",
       "      <th>id</th>\n",
       "      <th>title</th>\n",
       "      <th>vote_average</th>\n",
       "      <th>overview</th>\n",
       "      <th>genres</th>\n",
       "      <th>imdb_id</th>\n",
       "      <th>poster_path</th>\n",
       "      <th>Cast&amp;Crew</th>\n",
       "    </tr>\n",
       "  </thead>\n",
       "  <tbody>\n",
       "    <tr>\n",
       "      <th>0</th>\n",
       "      <td>10000</td>\n",
       "      <td>70590</td>\n",
       "      <td>Singham</td>\n",
       "      <td>6.500</td>\n",
       "      <td>An honest, small town cop is transferred to a ...</td>\n",
       "      <td>Drama, Action, Crime</td>\n",
       "      <td>tt1948150</td>\n",
       "      <td>/pggLRaurdWwjqX2vkhKIVQSBjXV.jpg</td>\n",
       "      <td>{'cast': ['Ajay Devgn', 'Kajal Agarwal', 'Prak...</td>\n",
       "    </tr>\n",
       "    <tr>\n",
       "      <th>1</th>\n",
       "      <td>10001</td>\n",
       "      <td>587986</td>\n",
       "      <td>Advantages of Travelling by Train</td>\n",
       "      <td>6.438</td>\n",
       "      <td>After interning her insane husband in a remote...</td>\n",
       "      <td>Drama, Thriller</td>\n",
       "      <td>tt8406738</td>\n",
       "      <td>/gyxNIAnDZq9f54Up05gDT6ra117.jpg</td>\n",
       "      <td>{'cast': ['Luis Tosar', 'Pilar Castro', 'Ernes...</td>\n",
       "    </tr>\n",
       "    <tr>\n",
       "      <th>2</th>\n",
       "      <td>10002</td>\n",
       "      <td>524780</td>\n",
       "      <td>Dogs Don't Wear Pants</td>\n",
       "      <td>6.962</td>\n",
       "      <td>Juha has lost his wife in an accident. Years a...</td>\n",
       "      <td>Drama, Comedy</td>\n",
       "      <td>tt9074574</td>\n",
       "      <td>/47zWqPdURGd5ZfEvjSJIo7R2Esi.jpg</td>\n",
       "      <td>{'cast': ['Pekka Strang', 'Krista Kosonen', 'I...</td>\n",
       "    </tr>\n",
       "    <tr>\n",
       "      <th>3</th>\n",
       "      <td>10003</td>\n",
       "      <td>33504</td>\n",
       "      <td>Pellet</td>\n",
       "      <td>7.149</td>\n",
       "      <td>El Bola  is a 12-year-old boy raised in a viol...</td>\n",
       "      <td>Drama</td>\n",
       "      <td>tt0243794</td>\n",
       "      <td>/i51PMyfiomYL9dw9zcHc3Z7BpjZ.jpg</td>\n",
       "      <td>{'cast': ['Owl', 'Kazushi Kobayashi', 'Sayaka ...</td>\n",
       "    </tr>\n",
       "    <tr>\n",
       "      <th>4</th>\n",
       "      <td>10004</td>\n",
       "      <td>813726</td>\n",
       "      <td>A Tourist's Guide to Love</td>\n",
       "      <td>6.360</td>\n",
       "      <td>After an unexpected break up, a travel executi...</td>\n",
       "      <td>Romance, Comedy, Adventure</td>\n",
       "      <td>tt20115096</td>\n",
       "      <td>/uWkpjbBe4gRZilXRXbYfsMUZMhz.jpg</td>\n",
       "      <td>{'cast': ['Rachael Leigh Cook', 'Scott Ly', 'M...</td>\n",
       "    </tr>\n",
       "  </tbody>\n",
       "</table>\n",
       "</div>"
      ],
      "text/plain": [
       "   Unnamed: 0      id                              title  vote_average  \\\n",
       "0       10000   70590                            Singham         6.500   \n",
       "1       10001  587986  Advantages of Travelling by Train         6.438   \n",
       "2       10002  524780              Dogs Don't Wear Pants         6.962   \n",
       "3       10003   33504                             Pellet         7.149   \n",
       "4       10004  813726          A Tourist's Guide to Love         6.360   \n",
       "\n",
       "                                            overview  \\\n",
       "0  An honest, small town cop is transferred to a ...   \n",
       "1  After interning her insane husband in a remote...   \n",
       "2  Juha has lost his wife in an accident. Years a...   \n",
       "3  El Bola  is a 12-year-old boy raised in a viol...   \n",
       "4  After an unexpected break up, a travel executi...   \n",
       "\n",
       "                       genres     imdb_id                       poster_path  \\\n",
       "0        Drama, Action, Crime   tt1948150  /pggLRaurdWwjqX2vkhKIVQSBjXV.jpg   \n",
       "1             Drama, Thriller   tt8406738  /gyxNIAnDZq9f54Up05gDT6ra117.jpg   \n",
       "2               Drama, Comedy   tt9074574  /47zWqPdURGd5ZfEvjSJIo7R2Esi.jpg   \n",
       "3                       Drama   tt0243794  /i51PMyfiomYL9dw9zcHc3Z7BpjZ.jpg   \n",
       "4  Romance, Comedy, Adventure  tt20115096  /uWkpjbBe4gRZilXRXbYfsMUZMhz.jpg   \n",
       "\n",
       "                                           Cast&Crew  \n",
       "0  {'cast': ['Ajay Devgn', 'Kajal Agarwal', 'Prak...  \n",
       "1  {'cast': ['Luis Tosar', 'Pilar Castro', 'Ernes...  \n",
       "2  {'cast': ['Pekka Strang', 'Krista Kosonen', 'I...  \n",
       "3  {'cast': ['Owl', 'Kazushi Kobayashi', 'Sayaka ...  \n",
       "4  {'cast': ['Rachael Leigh Cook', 'Scott Ly', 'M...  "
      ]
     },
     "execution_count": 128,
     "metadata": {},
     "output_type": "execute_result"
    }
   ],
   "source": [
    "df2=pd.read_csv('data_20_k.csv')\n",
    "df2.head()"
   ]
  },
  {
   "cell_type": "code",
   "execution_count": 129,
   "id": "cad98826",
   "metadata": {},
   "outputs": [],
   "source": [
    "movies=pd.concat([df1,df2])"
   ]
  },
  {
   "cell_type": "code",
   "execution_count": 130,
   "id": "d48992da",
   "metadata": {},
   "outputs": [
    {
     "data": {
      "text/html": [
       "<div>\n",
       "<style scoped>\n",
       "    .dataframe tbody tr th:only-of-type {\n",
       "        vertical-align: middle;\n",
       "    }\n",
       "\n",
       "    .dataframe tbody tr th {\n",
       "        vertical-align: top;\n",
       "    }\n",
       "\n",
       "    .dataframe thead th {\n",
       "        text-align: right;\n",
       "    }\n",
       "</style>\n",
       "<table border=\"1\" class=\"dataframe\">\n",
       "  <thead>\n",
       "    <tr style=\"text-align: right;\">\n",
       "      <th></th>\n",
       "      <th>Unnamed: 0</th>\n",
       "      <th>id</th>\n",
       "      <th>title</th>\n",
       "      <th>vote_average</th>\n",
       "      <th>overview</th>\n",
       "      <th>genres</th>\n",
       "      <th>imdb_id</th>\n",
       "      <th>poster_path</th>\n",
       "      <th>Cast&amp;Crew</th>\n",
       "    </tr>\n",
       "  </thead>\n",
       "  <tbody>\n",
       "    <tr>\n",
       "      <th>0</th>\n",
       "      <td>0</td>\n",
       "      <td>27205</td>\n",
       "      <td>Inception</td>\n",
       "      <td>8.364</td>\n",
       "      <td>Cobb, a skilled thief who commits corporate es...</td>\n",
       "      <td>Action, Science Fiction, Adventure</td>\n",
       "      <td>tt1375666</td>\n",
       "      <td>/oYuLEt3zVCKq57qu2F8dT7NIa6f.jpg</td>\n",
       "      <td>{'cast': ['Leonardo DiCaprio', 'Joseph Gordon-...</td>\n",
       "    </tr>\n",
       "    <tr>\n",
       "      <th>1</th>\n",
       "      <td>1</td>\n",
       "      <td>157336</td>\n",
       "      <td>Interstellar</td>\n",
       "      <td>8.417</td>\n",
       "      <td>The adventures of a group of explorers who mak...</td>\n",
       "      <td>Adventure, Drama, Science Fiction</td>\n",
       "      <td>tt0816692</td>\n",
       "      <td>/gEU2QniE6E77NI6lCU6MxlNBvIx.jpg</td>\n",
       "      <td>{'cast': ['Matthew McConaughey', 'Anne Hathawa...</td>\n",
       "    </tr>\n",
       "    <tr>\n",
       "      <th>2</th>\n",
       "      <td>2</td>\n",
       "      <td>155</td>\n",
       "      <td>The Dark Knight</td>\n",
       "      <td>8.512</td>\n",
       "      <td>Batman raises the stakes in his war on crime. ...</td>\n",
       "      <td>Drama, Action, Crime, Thriller</td>\n",
       "      <td>tt0468569</td>\n",
       "      <td>/qJ2tW6WMUDux911r6m7haRef0WH.jpg</td>\n",
       "      <td>{'cast': ['Christian Bale', 'Heath Ledger', 'M...</td>\n",
       "    </tr>\n",
       "    <tr>\n",
       "      <th>3</th>\n",
       "      <td>3</td>\n",
       "      <td>19995</td>\n",
       "      <td>Avatar</td>\n",
       "      <td>7.573</td>\n",
       "      <td>In the 22nd century, a paraplegic Marine is di...</td>\n",
       "      <td>Action, Adventure, Fantasy, Science Fiction</td>\n",
       "      <td>tt0499549</td>\n",
       "      <td>/kyeqWdyUXW608qlYkRqosgbbJyK.jpg</td>\n",
       "      <td>{'cast': ['Sam Worthington', 'Zoe Saldaña', 'S...</td>\n",
       "    </tr>\n",
       "    <tr>\n",
       "      <th>4</th>\n",
       "      <td>4</td>\n",
       "      <td>24428</td>\n",
       "      <td>The Avengers</td>\n",
       "      <td>7.710</td>\n",
       "      <td>When an unexpected enemy emerges and threatens...</td>\n",
       "      <td>Science Fiction, Action, Adventure</td>\n",
       "      <td>tt0848228</td>\n",
       "      <td>/RYMX2wcKCBAr24UyPD7xwmjaTn.jpg</td>\n",
       "      <td>{'cast': ['Robert Downey Jr.', 'Chris Evans', ...</td>\n",
       "    </tr>\n",
       "  </tbody>\n",
       "</table>\n",
       "</div>"
      ],
      "text/plain": [
       "   Unnamed: 0      id            title  vote_average  \\\n",
       "0           0   27205        Inception         8.364   \n",
       "1           1  157336     Interstellar         8.417   \n",
       "2           2     155  The Dark Knight         8.512   \n",
       "3           3   19995           Avatar         7.573   \n",
       "4           4   24428     The Avengers         7.710   \n",
       "\n",
       "                                            overview  \\\n",
       "0  Cobb, a skilled thief who commits corporate es...   \n",
       "1  The adventures of a group of explorers who mak...   \n",
       "2  Batman raises the stakes in his war on crime. ...   \n",
       "3  In the 22nd century, a paraplegic Marine is di...   \n",
       "4  When an unexpected enemy emerges and threatens...   \n",
       "\n",
       "                                        genres    imdb_id  \\\n",
       "0           Action, Science Fiction, Adventure  tt1375666   \n",
       "1            Adventure, Drama, Science Fiction  tt0816692   \n",
       "2               Drama, Action, Crime, Thriller  tt0468569   \n",
       "3  Action, Adventure, Fantasy, Science Fiction  tt0499549   \n",
       "4           Science Fiction, Action, Adventure  tt0848228   \n",
       "\n",
       "                        poster_path  \\\n",
       "0  /oYuLEt3zVCKq57qu2F8dT7NIa6f.jpg   \n",
       "1  /gEU2QniE6E77NI6lCU6MxlNBvIx.jpg   \n",
       "2  /qJ2tW6WMUDux911r6m7haRef0WH.jpg   \n",
       "3  /kyeqWdyUXW608qlYkRqosgbbJyK.jpg   \n",
       "4   /RYMX2wcKCBAr24UyPD7xwmjaTn.jpg   \n",
       "\n",
       "                                           Cast&Crew  \n",
       "0  {'cast': ['Leonardo DiCaprio', 'Joseph Gordon-...  \n",
       "1  {'cast': ['Matthew McConaughey', 'Anne Hathawa...  \n",
       "2  {'cast': ['Christian Bale', 'Heath Ledger', 'M...  \n",
       "3  {'cast': ['Sam Worthington', 'Zoe Saldaña', 'S...  \n",
       "4  {'cast': ['Robert Downey Jr.', 'Chris Evans', ...  "
      ]
     },
     "execution_count": 130,
     "metadata": {},
     "output_type": "execute_result"
    }
   ],
   "source": [
    "movies.head()"
   ]
  },
  {
   "cell_type": "code",
   "execution_count": 131,
   "id": "ac1e682a",
   "metadata": {},
   "outputs": [],
   "source": [
    "movies = movies.set_index('Unnamed: 0')"
   ]
  },
  {
   "cell_type": "code",
   "execution_count": 132,
   "id": "f703d2e4",
   "metadata": {},
   "outputs": [
    {
     "data": {
      "text/html": [
       "<div>\n",
       "<style scoped>\n",
       "    .dataframe tbody tr th:only-of-type {\n",
       "        vertical-align: middle;\n",
       "    }\n",
       "\n",
       "    .dataframe tbody tr th {\n",
       "        vertical-align: top;\n",
       "    }\n",
       "\n",
       "    .dataframe thead th {\n",
       "        text-align: right;\n",
       "    }\n",
       "</style>\n",
       "<table border=\"1\" class=\"dataframe\">\n",
       "  <thead>\n",
       "    <tr style=\"text-align: right;\">\n",
       "      <th></th>\n",
       "      <th>id</th>\n",
       "      <th>title</th>\n",
       "      <th>vote_average</th>\n",
       "      <th>overview</th>\n",
       "      <th>genres</th>\n",
       "      <th>imdb_id</th>\n",
       "      <th>poster_path</th>\n",
       "      <th>Cast&amp;Crew</th>\n",
       "    </tr>\n",
       "    <tr>\n",
       "      <th>Unnamed: 0</th>\n",
       "      <th></th>\n",
       "      <th></th>\n",
       "      <th></th>\n",
       "      <th></th>\n",
       "      <th></th>\n",
       "      <th></th>\n",
       "      <th></th>\n",
       "      <th></th>\n",
       "    </tr>\n",
       "  </thead>\n",
       "  <tbody>\n",
       "    <tr>\n",
       "      <th>0</th>\n",
       "      <td>27205</td>\n",
       "      <td>Inception</td>\n",
       "      <td>8.364</td>\n",
       "      <td>Cobb, a skilled thief who commits corporate es...</td>\n",
       "      <td>Action, Science Fiction, Adventure</td>\n",
       "      <td>tt1375666</td>\n",
       "      <td>/oYuLEt3zVCKq57qu2F8dT7NIa6f.jpg</td>\n",
       "      <td>{'cast': ['Leonardo DiCaprio', 'Joseph Gordon-...</td>\n",
       "    </tr>\n",
       "    <tr>\n",
       "      <th>1</th>\n",
       "      <td>157336</td>\n",
       "      <td>Interstellar</td>\n",
       "      <td>8.417</td>\n",
       "      <td>The adventures of a group of explorers who mak...</td>\n",
       "      <td>Adventure, Drama, Science Fiction</td>\n",
       "      <td>tt0816692</td>\n",
       "      <td>/gEU2QniE6E77NI6lCU6MxlNBvIx.jpg</td>\n",
       "      <td>{'cast': ['Matthew McConaughey', 'Anne Hathawa...</td>\n",
       "    </tr>\n",
       "    <tr>\n",
       "      <th>2</th>\n",
       "      <td>155</td>\n",
       "      <td>The Dark Knight</td>\n",
       "      <td>8.512</td>\n",
       "      <td>Batman raises the stakes in his war on crime. ...</td>\n",
       "      <td>Drama, Action, Crime, Thriller</td>\n",
       "      <td>tt0468569</td>\n",
       "      <td>/qJ2tW6WMUDux911r6m7haRef0WH.jpg</td>\n",
       "      <td>{'cast': ['Christian Bale', 'Heath Ledger', 'M...</td>\n",
       "    </tr>\n",
       "    <tr>\n",
       "      <th>3</th>\n",
       "      <td>19995</td>\n",
       "      <td>Avatar</td>\n",
       "      <td>7.573</td>\n",
       "      <td>In the 22nd century, a paraplegic Marine is di...</td>\n",
       "      <td>Action, Adventure, Fantasy, Science Fiction</td>\n",
       "      <td>tt0499549</td>\n",
       "      <td>/kyeqWdyUXW608qlYkRqosgbbJyK.jpg</td>\n",
       "      <td>{'cast': ['Sam Worthington', 'Zoe Saldaña', 'S...</td>\n",
       "    </tr>\n",
       "    <tr>\n",
       "      <th>4</th>\n",
       "      <td>24428</td>\n",
       "      <td>The Avengers</td>\n",
       "      <td>7.710</td>\n",
       "      <td>When an unexpected enemy emerges and threatens...</td>\n",
       "      <td>Science Fiction, Action, Adventure</td>\n",
       "      <td>tt0848228</td>\n",
       "      <td>/RYMX2wcKCBAr24UyPD7xwmjaTn.jpg</td>\n",
       "      <td>{'cast': ['Robert Downey Jr.', 'Chris Evans', ...</td>\n",
       "    </tr>\n",
       "  </tbody>\n",
       "</table>\n",
       "</div>"
      ],
      "text/plain": [
       "                id            title  vote_average  \\\n",
       "Unnamed: 0                                          \n",
       "0            27205        Inception         8.364   \n",
       "1           157336     Interstellar         8.417   \n",
       "2              155  The Dark Knight         8.512   \n",
       "3            19995           Avatar         7.573   \n",
       "4            24428     The Avengers         7.710   \n",
       "\n",
       "                                                     overview  \\\n",
       "Unnamed: 0                                                      \n",
       "0           Cobb, a skilled thief who commits corporate es...   \n",
       "1           The adventures of a group of explorers who mak...   \n",
       "2           Batman raises the stakes in his war on crime. ...   \n",
       "3           In the 22nd century, a paraplegic Marine is di...   \n",
       "4           When an unexpected enemy emerges and threatens...   \n",
       "\n",
       "                                                 genres    imdb_id  \\\n",
       "Unnamed: 0                                                           \n",
       "0                    Action, Science Fiction, Adventure  tt1375666   \n",
       "1                     Adventure, Drama, Science Fiction  tt0816692   \n",
       "2                        Drama, Action, Crime, Thriller  tt0468569   \n",
       "3           Action, Adventure, Fantasy, Science Fiction  tt0499549   \n",
       "4                    Science Fiction, Action, Adventure  tt0848228   \n",
       "\n",
       "                                 poster_path  \\\n",
       "Unnamed: 0                                     \n",
       "0           /oYuLEt3zVCKq57qu2F8dT7NIa6f.jpg   \n",
       "1           /gEU2QniE6E77NI6lCU6MxlNBvIx.jpg   \n",
       "2           /qJ2tW6WMUDux911r6m7haRef0WH.jpg   \n",
       "3           /kyeqWdyUXW608qlYkRqosgbbJyK.jpg   \n",
       "4            /RYMX2wcKCBAr24UyPD7xwmjaTn.jpg   \n",
       "\n",
       "                                                    Cast&Crew  \n",
       "Unnamed: 0                                                     \n",
       "0           {'cast': ['Leonardo DiCaprio', 'Joseph Gordon-...  \n",
       "1           {'cast': ['Matthew McConaughey', 'Anne Hathawa...  \n",
       "2           {'cast': ['Christian Bale', 'Heath Ledger', 'M...  \n",
       "3           {'cast': ['Sam Worthington', 'Zoe Saldaña', 'S...  \n",
       "4           {'cast': ['Robert Downey Jr.', 'Chris Evans', ...  "
      ]
     },
     "execution_count": 132,
     "metadata": {},
     "output_type": "execute_result"
    }
   ],
   "source": [
    "movies.head()"
   ]
  },
  {
   "cell_type": "code",
   "execution_count": 133,
   "id": "523aaf8e",
   "metadata": {},
   "outputs": [
    {
     "data": {
      "text/html": [
       "<div>\n",
       "<style scoped>\n",
       "    .dataframe tbody tr th:only-of-type {\n",
       "        vertical-align: middle;\n",
       "    }\n",
       "\n",
       "    .dataframe tbody tr th {\n",
       "        vertical-align: top;\n",
       "    }\n",
       "\n",
       "    .dataframe thead th {\n",
       "        text-align: right;\n",
       "    }\n",
       "</style>\n",
       "<table border=\"1\" class=\"dataframe\">\n",
       "  <thead>\n",
       "    <tr style=\"text-align: right;\">\n",
       "      <th></th>\n",
       "      <th>id</th>\n",
       "      <th>title</th>\n",
       "      <th>vote_average</th>\n",
       "      <th>overview</th>\n",
       "      <th>genres</th>\n",
       "      <th>imdb_id</th>\n",
       "      <th>poster_path</th>\n",
       "      <th>Cast&amp;Crew</th>\n",
       "    </tr>\n",
       "  </thead>\n",
       "  <tbody>\n",
       "    <tr>\n",
       "      <th>0</th>\n",
       "      <td>27205</td>\n",
       "      <td>Inception</td>\n",
       "      <td>8.364</td>\n",
       "      <td>Cobb, a skilled thief who commits corporate es...</td>\n",
       "      <td>Action, Science Fiction, Adventure</td>\n",
       "      <td>tt1375666</td>\n",
       "      <td>/oYuLEt3zVCKq57qu2F8dT7NIa6f.jpg</td>\n",
       "      <td>{'cast': ['Leonardo DiCaprio', 'Joseph Gordon-...</td>\n",
       "    </tr>\n",
       "    <tr>\n",
       "      <th>1</th>\n",
       "      <td>157336</td>\n",
       "      <td>Interstellar</td>\n",
       "      <td>8.417</td>\n",
       "      <td>The adventures of a group of explorers who mak...</td>\n",
       "      <td>Adventure, Drama, Science Fiction</td>\n",
       "      <td>tt0816692</td>\n",
       "      <td>/gEU2QniE6E77NI6lCU6MxlNBvIx.jpg</td>\n",
       "      <td>{'cast': ['Matthew McConaughey', 'Anne Hathawa...</td>\n",
       "    </tr>\n",
       "    <tr>\n",
       "      <th>2</th>\n",
       "      <td>155</td>\n",
       "      <td>The Dark Knight</td>\n",
       "      <td>8.512</td>\n",
       "      <td>Batman raises the stakes in his war on crime. ...</td>\n",
       "      <td>Drama, Action, Crime, Thriller</td>\n",
       "      <td>tt0468569</td>\n",
       "      <td>/qJ2tW6WMUDux911r6m7haRef0WH.jpg</td>\n",
       "      <td>{'cast': ['Christian Bale', 'Heath Ledger', 'M...</td>\n",
       "    </tr>\n",
       "    <tr>\n",
       "      <th>3</th>\n",
       "      <td>19995</td>\n",
       "      <td>Avatar</td>\n",
       "      <td>7.573</td>\n",
       "      <td>In the 22nd century, a paraplegic Marine is di...</td>\n",
       "      <td>Action, Adventure, Fantasy, Science Fiction</td>\n",
       "      <td>tt0499549</td>\n",
       "      <td>/kyeqWdyUXW608qlYkRqosgbbJyK.jpg</td>\n",
       "      <td>{'cast': ['Sam Worthington', 'Zoe Saldaña', 'S...</td>\n",
       "    </tr>\n",
       "    <tr>\n",
       "      <th>4</th>\n",
       "      <td>24428</td>\n",
       "      <td>The Avengers</td>\n",
       "      <td>7.710</td>\n",
       "      <td>When an unexpected enemy emerges and threatens...</td>\n",
       "      <td>Science Fiction, Action, Adventure</td>\n",
       "      <td>tt0848228</td>\n",
       "      <td>/RYMX2wcKCBAr24UyPD7xwmjaTn.jpg</td>\n",
       "      <td>{'cast': ['Robert Downey Jr.', 'Chris Evans', ...</td>\n",
       "    </tr>\n",
       "  </tbody>\n",
       "</table>\n",
       "</div>"
      ],
      "text/plain": [
       "       id            title  vote_average  \\\n",
       "0   27205        Inception         8.364   \n",
       "1  157336     Interstellar         8.417   \n",
       "2     155  The Dark Knight         8.512   \n",
       "3   19995           Avatar         7.573   \n",
       "4   24428     The Avengers         7.710   \n",
       "\n",
       "                                            overview  \\\n",
       "0  Cobb, a skilled thief who commits corporate es...   \n",
       "1  The adventures of a group of explorers who mak...   \n",
       "2  Batman raises the stakes in his war on crime. ...   \n",
       "3  In the 22nd century, a paraplegic Marine is di...   \n",
       "4  When an unexpected enemy emerges and threatens...   \n",
       "\n",
       "                                        genres    imdb_id  \\\n",
       "0           Action, Science Fiction, Adventure  tt1375666   \n",
       "1            Adventure, Drama, Science Fiction  tt0816692   \n",
       "2               Drama, Action, Crime, Thriller  tt0468569   \n",
       "3  Action, Adventure, Fantasy, Science Fiction  tt0499549   \n",
       "4           Science Fiction, Action, Adventure  tt0848228   \n",
       "\n",
       "                        poster_path  \\\n",
       "0  /oYuLEt3zVCKq57qu2F8dT7NIa6f.jpg   \n",
       "1  /gEU2QniE6E77NI6lCU6MxlNBvIx.jpg   \n",
       "2  /qJ2tW6WMUDux911r6m7haRef0WH.jpg   \n",
       "3  /kyeqWdyUXW608qlYkRqosgbbJyK.jpg   \n",
       "4   /RYMX2wcKCBAr24UyPD7xwmjaTn.jpg   \n",
       "\n",
       "                                           Cast&Crew  \n",
       "0  {'cast': ['Leonardo DiCaprio', 'Joseph Gordon-...  \n",
       "1  {'cast': ['Matthew McConaughey', 'Anne Hathawa...  \n",
       "2  {'cast': ['Christian Bale', 'Heath Ledger', 'M...  \n",
       "3  {'cast': ['Sam Worthington', 'Zoe Saldaña', 'S...  \n",
       "4  {'cast': ['Robert Downey Jr.', 'Chris Evans', ...  "
      ]
     },
     "execution_count": 133,
     "metadata": {},
     "output_type": "execute_result"
    }
   ],
   "source": [
    "movies.index.name = None\n",
    "movies.head()"
   ]
  },
  {
   "cell_type": "code",
   "execution_count": 134,
   "id": "02ef3187",
   "metadata": {},
   "outputs": [
    {
     "name": "stdout",
     "output_type": "stream",
     "text": [
      "<class 'pandas.core.frame.DataFrame'>\n",
      "Int64Index: 19146 entries, 0 to 19145\n",
      "Data columns (total 8 columns):\n",
      " #   Column        Non-Null Count  Dtype  \n",
      "---  ------        --------------  -----  \n",
      " 0   id            19146 non-null  int64  \n",
      " 1   title         19146 non-null  object \n",
      " 2   vote_average  19146 non-null  float64\n",
      " 3   overview      19146 non-null  object \n",
      " 4   genres        19146 non-null  object \n",
      " 5   imdb_id       19146 non-null  object \n",
      " 6   poster_path   19146 non-null  object \n",
      " 7   Cast&Crew     19059 non-null  object \n",
      "dtypes: float64(1), int64(1), object(6)\n",
      "memory usage: 1.3+ MB\n"
     ]
    }
   ],
   "source": [
    "movies.info()"
   ]
  },
  {
   "cell_type": "code",
   "execution_count": 135,
   "id": "2251fdc2",
   "metadata": {},
   "outputs": [
    {
     "data": {
      "text/plain": [
       "id               0\n",
       "title            0\n",
       "vote_average     0\n",
       "overview         0\n",
       "genres           0\n",
       "imdb_id          0\n",
       "poster_path      0\n",
       "Cast&Crew       87\n",
       "dtype: int64"
      ]
     },
     "execution_count": 135,
     "metadata": {},
     "output_type": "execute_result"
    }
   ],
   "source": [
    "movies.isnull().sum()"
   ]
  },
  {
   "cell_type": "code",
   "execution_count": 136,
   "id": "5771807c",
   "metadata": {},
   "outputs": [],
   "source": [
    "movies.dropna(inplace=True)"
   ]
  },
  {
   "cell_type": "code",
   "execution_count": 137,
   "id": "8559863c",
   "metadata": {},
   "outputs": [
    {
     "data": {
      "text/plain": [
       "id              0\n",
       "title           0\n",
       "vote_average    0\n",
       "overview        0\n",
       "genres          0\n",
       "imdb_id         0\n",
       "poster_path     0\n",
       "Cast&Crew       0\n",
       "dtype: int64"
      ]
     },
     "execution_count": 137,
     "metadata": {},
     "output_type": "execute_result"
    }
   ],
   "source": [
    "movies.isnull().sum()"
   ]
  },
  {
   "cell_type": "code",
   "execution_count": 138,
   "id": "2f8fea08",
   "metadata": {},
   "outputs": [
    {
     "data": {
      "text/plain": [
       "385"
      ]
     },
     "execution_count": 138,
     "metadata": {},
     "output_type": "execute_result"
    }
   ],
   "source": [
    "movies['Cast&Crew'].duplicated().sum()"
   ]
  },
  {
   "cell_type": "code",
   "execution_count": 139,
   "id": "39c18d5a",
   "metadata": {},
   "outputs": [
    {
     "data": {
      "text/plain": [
       "0"
      ]
     },
     "execution_count": 139,
     "metadata": {},
     "output_type": "execute_result"
    }
   ],
   "source": [
    "movies['title'].duplicated().sum()"
   ]
  },
  {
   "cell_type": "code",
   "execution_count": 140,
   "id": "504890fa",
   "metadata": {},
   "outputs": [
    {
     "data": {
      "text/html": [
       "<div>\n",
       "<style scoped>\n",
       "    .dataframe tbody tr th:only-of-type {\n",
       "        vertical-align: middle;\n",
       "    }\n",
       "\n",
       "    .dataframe tbody tr th {\n",
       "        vertical-align: top;\n",
       "    }\n",
       "\n",
       "    .dataframe thead th {\n",
       "        text-align: right;\n",
       "    }\n",
       "</style>\n",
       "<table border=\"1\" class=\"dataframe\">\n",
       "  <thead>\n",
       "    <tr style=\"text-align: right;\">\n",
       "      <th></th>\n",
       "      <th>id</th>\n",
       "      <th>title</th>\n",
       "      <th>vote_average</th>\n",
       "      <th>overview</th>\n",
       "      <th>genres</th>\n",
       "      <th>imdb_id</th>\n",
       "      <th>poster_path</th>\n",
       "      <th>Cast&amp;Crew</th>\n",
       "    </tr>\n",
       "  </thead>\n",
       "  <tbody>\n",
       "    <tr>\n",
       "      <th>123</th>\n",
       "      <td>285</td>\n",
       "      <td>Pirates of the Caribbean: At World's End</td>\n",
       "      <td>7.239</td>\n",
       "      <td>Captain Barbossa, long believed to be dead, ha...</td>\n",
       "      <td>Adventure, Fantasy, Action</td>\n",
       "      <td>tt0449088</td>\n",
       "      <td>/jGWpG4YhpQwVmjyHEGkxEkeRf0S.jpg</td>\n",
       "      <td>{'cast': ['Johnny Depp', 'Orlando Bloom', 'Kei...</td>\n",
       "    </tr>\n",
       "    <tr>\n",
       "      <th>163</th>\n",
       "      <td>131634</td>\n",
       "      <td>The Hunger Games: Mockingjay - Part 2</td>\n",
       "      <td>6.900</td>\n",
       "      <td>With the nation of Panem in a full scale war, ...</td>\n",
       "      <td>Action, Adventure, Science Fiction</td>\n",
       "      <td>tt1951266</td>\n",
       "      <td>/lImKHDfExAulp16grYm8zD5eONE.jpg</td>\n",
       "      <td>{'cast': ['Jennifer Lawrence', 'Josh Hutcherso...</td>\n",
       "    </tr>\n",
       "    <tr>\n",
       "      <th>209</th>\n",
       "      <td>338952</td>\n",
       "      <td>Fantastic Beasts: The Crimes of Grindelwald</td>\n",
       "      <td>6.876</td>\n",
       "      <td>Gellert Grindelwald has escaped imprisonment a...</td>\n",
       "      <td>Fantasy, Adventure, Family</td>\n",
       "      <td>tt4123430</td>\n",
       "      <td>/fMMrl8fD9gRCFJvsx0SuFwkEOop.jpg</td>\n",
       "      <td>{'cast': ['Eddie Redmayne', 'Katherine Waterst...</td>\n",
       "    </tr>\n",
       "    <tr>\n",
       "      <th>266</th>\n",
       "      <td>605</td>\n",
       "      <td>The Matrix Revolutions</td>\n",
       "      <td>6.710</td>\n",
       "      <td>The human city of Zion defends itself against ...</td>\n",
       "      <td>Adventure, Action, Thriller, Science Fiction</td>\n",
       "      <td>tt0242653</td>\n",
       "      <td>/qEWiBXJGXK28jGBAm8oFKKTB0WD.jpg</td>\n",
       "      <td>{'cast': ['Keanu Reeves', 'Laurence Fishburne'...</td>\n",
       "    </tr>\n",
       "    <tr>\n",
       "      <th>385</th>\n",
       "      <td>341174</td>\n",
       "      <td>Fifty Shades Darker</td>\n",
       "      <td>6.492</td>\n",
       "      <td>When a wounded Christian Grey tries to entice ...</td>\n",
       "      <td>Drama, Romance</td>\n",
       "      <td>tt4465564</td>\n",
       "      <td>/7CBO9GhsUeMSsWQb47WTPZnKjdj.jpg</td>\n",
       "      <td>{'cast': ['Dakota Johnson', 'Jamie Dornan', 'E...</td>\n",
       "    </tr>\n",
       "    <tr>\n",
       "      <th>...</th>\n",
       "      <td>...</td>\n",
       "      <td>...</td>\n",
       "      <td>...</td>\n",
       "      <td>...</td>\n",
       "      <td>...</td>\n",
       "      <td>...</td>\n",
       "      <td>...</td>\n",
       "      <td>...</td>\n",
       "    </tr>\n",
       "    <tr>\n",
       "      <th>19032</th>\n",
       "      <td>964592</td>\n",
       "      <td>Sleep</td>\n",
       "      <td>7.500</td>\n",
       "      <td>A young couple's life is turned upside down wh...</td>\n",
       "      <td>Horror, Mystery</td>\n",
       "      <td>tt26543426</td>\n",
       "      <td>/hMj3aLl8z3cXJ70LoPLDi1xMcC8.jpg</td>\n",
       "      <td>{'cast': ['Cary Elwes', 'Dominic Sherwood', 'D...</td>\n",
       "    </tr>\n",
       "    <tr>\n",
       "      <th>19036</th>\n",
       "      <td>822957</td>\n",
       "      <td>AEW Beach Break</td>\n",
       "      <td>8.000</td>\n",
       "      <td>Professional wrestling special episode produce...</td>\n",
       "      <td>TV Movie</td>\n",
       "      <td>tt13887560</td>\n",
       "      <td>/xbyfKwCV4TpXfLxuzwhx8XS0879.jpg</td>\n",
       "      <td>{'cast': [], 'director': 'Director not found',...</td>\n",
       "    </tr>\n",
       "    <tr>\n",
       "      <th>19095</th>\n",
       "      <td>1105832</td>\n",
       "      <td>Simón</td>\n",
       "      <td>10.000</td>\n",
       "      <td>Simón, a Venezuelan freedom fighter exiled in ...</td>\n",
       "      <td>Drama</td>\n",
       "      <td>tt13580840</td>\n",
       "      <td>/bRKUU9mbRK6vwp2BZIlaAZCekMz.jpg</td>\n",
       "      <td>{'cast': ['Christian McGaffney', 'Jana Nawarts...</td>\n",
       "    </tr>\n",
       "    <tr>\n",
       "      <th>19117</th>\n",
       "      <td>1187075</td>\n",
       "      <td>MAD</td>\n",
       "      <td>6.000</td>\n",
       "      <td>Set in an engineering college and revolves aro...</td>\n",
       "      <td>Comedy, Romance, Drama</td>\n",
       "      <td>tt28820189</td>\n",
       "      <td>/nDpOmgBfQZwOpFBcgokQGqd74r1.jpg</td>\n",
       "      <td>{'cast': ['Dakota Johnson', 'Sydney Sweeney', ...</td>\n",
       "    </tr>\n",
       "    <tr>\n",
       "      <th>19122</th>\n",
       "      <td>202138</td>\n",
       "      <td>Feu: Crazy Horse Paris</td>\n",
       "      <td>8.000</td>\n",
       "      <td>A captured performance by Parisian nude cabare...</td>\n",
       "      <td>Documentary, Music</td>\n",
       "      <td>tt2556342</td>\n",
       "      <td>/baR4aVQGDFW23yHgEJm1O9RXWOB.jpg</td>\n",
       "      <td>{'cast': ['Lumina Classika', 'Nooka Karamel', ...</td>\n",
       "    </tr>\n",
       "  </tbody>\n",
       "</table>\n",
       "<p>385 rows × 8 columns</p>\n",
       "</div>"
      ],
      "text/plain": [
       "            id                                        title  vote_average  \\\n",
       "123        285     Pirates of the Caribbean: At World's End         7.239   \n",
       "163     131634        The Hunger Games: Mockingjay - Part 2         6.900   \n",
       "209     338952  Fantastic Beasts: The Crimes of Grindelwald         6.876   \n",
       "266        605                       The Matrix Revolutions         6.710   \n",
       "385     341174                          Fifty Shades Darker         6.492   \n",
       "...        ...                                          ...           ...   \n",
       "19032   964592                                        Sleep         7.500   \n",
       "19036   822957                              AEW Beach Break         8.000   \n",
       "19095  1105832                                        Simón        10.000   \n",
       "19117  1187075                                          MAD         6.000   \n",
       "19122   202138                       Feu: Crazy Horse Paris         8.000   \n",
       "\n",
       "                                                overview  \\\n",
       "123    Captain Barbossa, long believed to be dead, ha...   \n",
       "163    With the nation of Panem in a full scale war, ...   \n",
       "209    Gellert Grindelwald has escaped imprisonment a...   \n",
       "266    The human city of Zion defends itself against ...   \n",
       "385    When a wounded Christian Grey tries to entice ...   \n",
       "...                                                  ...   \n",
       "19032  A young couple's life is turned upside down wh...   \n",
       "19036  Professional wrestling special episode produce...   \n",
       "19095  Simón, a Venezuelan freedom fighter exiled in ...   \n",
       "19117  Set in an engineering college and revolves aro...   \n",
       "19122  A captured performance by Parisian nude cabare...   \n",
       "\n",
       "                                             genres     imdb_id  \\\n",
       "123                      Adventure, Fantasy, Action   tt0449088   \n",
       "163              Action, Adventure, Science Fiction   tt1951266   \n",
       "209                      Fantasy, Adventure, Family   tt4123430   \n",
       "266    Adventure, Action, Thriller, Science Fiction   tt0242653   \n",
       "385                                  Drama, Romance   tt4465564   \n",
       "...                                             ...         ...   \n",
       "19032                               Horror, Mystery  tt26543426   \n",
       "19036                                      TV Movie  tt13887560   \n",
       "19095                                         Drama  tt13580840   \n",
       "19117                        Comedy, Romance, Drama  tt28820189   \n",
       "19122                            Documentary, Music   tt2556342   \n",
       "\n",
       "                            poster_path  \\\n",
       "123    /jGWpG4YhpQwVmjyHEGkxEkeRf0S.jpg   \n",
       "163    /lImKHDfExAulp16grYm8zD5eONE.jpg   \n",
       "209    /fMMrl8fD9gRCFJvsx0SuFwkEOop.jpg   \n",
       "266    /qEWiBXJGXK28jGBAm8oFKKTB0WD.jpg   \n",
       "385    /7CBO9GhsUeMSsWQb47WTPZnKjdj.jpg   \n",
       "...                                 ...   \n",
       "19032  /hMj3aLl8z3cXJ70LoPLDi1xMcC8.jpg   \n",
       "19036  /xbyfKwCV4TpXfLxuzwhx8XS0879.jpg   \n",
       "19095  /bRKUU9mbRK6vwp2BZIlaAZCekMz.jpg   \n",
       "19117  /nDpOmgBfQZwOpFBcgokQGqd74r1.jpg   \n",
       "19122  /baR4aVQGDFW23yHgEJm1O9RXWOB.jpg   \n",
       "\n",
       "                                               Cast&Crew  \n",
       "123    {'cast': ['Johnny Depp', 'Orlando Bloom', 'Kei...  \n",
       "163    {'cast': ['Jennifer Lawrence', 'Josh Hutcherso...  \n",
       "209    {'cast': ['Eddie Redmayne', 'Katherine Waterst...  \n",
       "266    {'cast': ['Keanu Reeves', 'Laurence Fishburne'...  \n",
       "385    {'cast': ['Dakota Johnson', 'Jamie Dornan', 'E...  \n",
       "...                                                  ...  \n",
       "19032  {'cast': ['Cary Elwes', 'Dominic Sherwood', 'D...  \n",
       "19036  {'cast': [], 'director': 'Director not found',...  \n",
       "19095  {'cast': ['Christian McGaffney', 'Jana Nawarts...  \n",
       "19117  {'cast': ['Dakota Johnson', 'Sydney Sweeney', ...  \n",
       "19122  {'cast': ['Lumina Classika', 'Nooka Karamel', ...  \n",
       "\n",
       "[385 rows x 8 columns]"
      ]
     },
     "execution_count": 140,
     "metadata": {},
     "output_type": "execute_result"
    }
   ],
   "source": [
    "movies[movies['Cast&Crew'].duplicated()]"
   ]
  },
  {
   "cell_type": "code",
   "execution_count": 141,
   "id": "5b23a859",
   "metadata": {},
   "outputs": [],
   "source": [
    "# Duplicated Cast&Crew are of generally those movies which have sequels.So we will not remove it"
   ]
  },
  {
   "cell_type": "code",
   "execution_count": 142,
   "id": "630547c1",
   "metadata": {},
   "outputs": [
    {
     "name": "stdout",
     "output_type": "stream",
     "text": [
      "<class 'pandas.core.frame.DataFrame'>\n",
      "Int64Index: 19059 entries, 0 to 19145\n",
      "Data columns (total 8 columns):\n",
      " #   Column        Non-Null Count  Dtype  \n",
      "---  ------        --------------  -----  \n",
      " 0   id            19059 non-null  int64  \n",
      " 1   title         19059 non-null  object \n",
      " 2   vote_average  19059 non-null  float64\n",
      " 3   overview      19059 non-null  object \n",
      " 4   genres        19059 non-null  object \n",
      " 5   imdb_id       19059 non-null  object \n",
      " 6   poster_path   19059 non-null  object \n",
      " 7   Cast&Crew     19059 non-null  object \n",
      "dtypes: float64(1), int64(1), object(6)\n",
      "memory usage: 1.3+ MB\n"
     ]
    }
   ],
   "source": [
    "movies.info()"
   ]
  },
  {
   "cell_type": "code",
   "execution_count": 143,
   "id": "cbbc53fa",
   "metadata": {},
   "outputs": [
    {
     "data": {
      "text/plain": [
       "0                 Action, Science Fiction, Adventure\n",
       "1                  Adventure, Drama, Science Fiction\n",
       "2                     Drama, Action, Crime, Thriller\n",
       "3        Action, Adventure, Fantasy, Science Fiction\n",
       "4                 Science Fiction, Action, Adventure\n",
       "                            ...                     \n",
       "19141                                          Drama\n",
       "19142                                         Comedy\n",
       "19143                   Action, Crime, Drama, Comedy\n",
       "19144                                  Comedy, Drama\n",
       "19145                           Action, Crime, Drama\n",
       "Name: genres, Length: 19059, dtype: object"
      ]
     },
     "execution_count": 143,
     "metadata": {},
     "output_type": "execute_result"
    }
   ],
   "source": [
    "movies['genres']"
   ]
  },
  {
   "cell_type": "code",
   "execution_count": 144,
   "id": "38e05190",
   "metadata": {},
   "outputs": [
    {
     "data": {
      "text/plain": [
       "0        {'cast': ['Leonardo DiCaprio', 'Joseph Gordon-...\n",
       "1        {'cast': ['Matthew McConaughey', 'Anne Hathawa...\n",
       "2        {'cast': ['Christian Bale', 'Heath Ledger', 'M...\n",
       "3        {'cast': ['Sam Worthington', 'Zoe Saldaña', 'S...\n",
       "4        {'cast': ['Robert Downey Jr.', 'Chris Evans', ...\n",
       "                               ...                        \n",
       "19141    {'cast': ['Gena Rowlands', 'Mimi Rogers', 'Sus...\n",
       "19142    {'cast': ['Aerol Carmelo', 'Chloe Jenna', 'App...\n",
       "19143    {'cast': ['Andrea Quattrocchi', 'Lali González...\n",
       "19144    {'cast': ['Darling Krishna', 'Puneeth Rajkumar...\n",
       "19145    {'cast': ['Craig Fairbrass', 'Phil Davis', 'Ge...\n",
       "Name: Cast&Crew, Length: 19059, dtype: object"
      ]
     },
     "execution_count": 144,
     "metadata": {},
     "output_type": "execute_result"
    }
   ],
   "source": [
    "movies['Cast&Crew']"
   ]
  },
  {
   "cell_type": "markdown",
   "id": "62024b2c",
   "metadata": {},
   "source": [
    "### Function to extract Cast&Crew names in a List"
   ]
  },
  {
   "cell_type": "code",
   "execution_count": 145,
   "id": "648caa17",
   "metadata": {},
   "outputs": [
    {
     "name": "stdout",
     "output_type": "stream",
     "text": [
      "['Leonardo DiCaprio', 'Christopher Nolan', 'Ken Watanabe', 'Joseph Gordon-Levitt', 'Tom Hardy']\n"
     ]
    }
   ],
   "source": [
    "import ast\n",
    "\n",
    "def extract_information(movie_info_str):\n",
    "    \n",
    "    # Convert the string representation of dictionary to an actual dictionary using ast.literal_eval()\n",
    "    movie_dict = ast.literal_eval(movie_info_str)\n",
    "    \n",
    "    # Extract the 'cast', 'director', 'writer', and 'screenplay' from the movie_dict\n",
    "    cast = movie_dict.get('cast', [])\n",
    "    director = movie_dict.get('director', '')\n",
    "    writer = movie_dict.get('writer', [])\n",
    "    screenplay = movie_dict.get('screenplay', [])\n",
    "    \n",
    "    # Combine all information into a single list\n",
    "    extracted_info = cast + [director] + writer + screenplay\n",
    "    \n",
    "    # Convert the list to a set to remove duplicates, then convert back to a list\n",
    "    extracted_info = list(set(extracted_info))\n",
    "    \n",
    "    return extracted_info\n",
    "\n",
    "# Example usage:\n",
    "movie_info_str = \"{'cast': ['Leonardo DiCaprio', 'Joseph Gordon-Levitt', 'Ken Watanabe', 'Tom Hardy'], 'director': 'Christopher Nolan', 'writer': ['Christopher Nolan'], 'screenplay': []}\"\n",
    "result = extract_information(movie_info_str)\n",
    "print(result)\n"
   ]
  },
  {
   "cell_type": "code",
   "execution_count": 146,
   "id": "9ba257ac",
   "metadata": {},
   "outputs": [
    {
     "data": {
      "text/plain": [
       "\"{'cast': ['Leonardo DiCaprio', 'Joseph Gordon-Levitt', 'Ken Watanabe', 'Tom Hardy'], 'director': 'Christopher Nolan', 'writer': ['Christopher Nolan'], 'screenplay': []}\""
      ]
     },
     "execution_count": 146,
     "metadata": {},
     "output_type": "execute_result"
    }
   ],
   "source": [
    "(movies['Cast&Crew'].iloc[0])"
   ]
  },
  {
   "cell_type": "code",
   "execution_count": 147,
   "id": "6d9e095b",
   "metadata": {},
   "outputs": [
    {
     "data": {
      "text/plain": [
       "['Leonardo DiCaprio',\n",
       " 'Christopher Nolan',\n",
       " 'Ken Watanabe',\n",
       " 'Joseph Gordon-Levitt',\n",
       " 'Tom Hardy']"
      ]
     },
     "execution_count": 147,
     "metadata": {},
     "output_type": "execute_result"
    }
   ],
   "source": [
    "extract_information(movies['Cast&Crew'].iloc[0])"
   ]
  },
  {
   "cell_type": "code",
   "execution_count": 148,
   "id": "1b7e93df",
   "metadata": {},
   "outputs": [
    {
     "data": {
      "text/plain": [
       "0        [Leonardo DiCaprio, Christopher Nolan, Ken Wat...\n",
       "1        [Christopher Nolan, Michael Caine, Anne Hathaw...\n",
       "2        [Gary Oldman, Christopher Nolan, Christian Bal...\n",
       "3        [Stephen Lang, Sam Worthington, James Cameron,...\n",
       "4        [Mark Ruffalo, Joss Whedon, Robert Downey Jr.,...\n",
       "                               ...                        \n",
       "19141    [Susan May Pratt, Gena Rowlands, Joan Micklin ...\n",
       "19142    [Chloe Jenna, Yen Renee Durano, Aerol Carmelo,...\n",
       "19143    [Renato Gómez, Andrés Gelós, Alejandro Cabral ...\n",
       "19144    [Sangeetha Sringeri, Ashwath Marimuthu, Darlin...\n",
       "19145    [Jason Maza, Andrew Loveday, Phil Davis, Craig...\n",
       "Name: Cast&Crew, Length: 19059, dtype: object"
      ]
     },
     "execution_count": 148,
     "metadata": {},
     "output_type": "execute_result"
    }
   ],
   "source": [
    "movies['Cast&Crew'].apply(extract_information)"
   ]
  },
  {
   "cell_type": "code",
   "execution_count": 149,
   "id": "39526a97",
   "metadata": {},
   "outputs": [],
   "source": [
    "movies['Cast&Crew']=movies['Cast&Crew'].apply(extract_information)"
   ]
  },
  {
   "cell_type": "code",
   "execution_count": 150,
   "id": "e7403fd8",
   "metadata": {},
   "outputs": [
    {
     "data": {
      "text/html": [
       "<div>\n",
       "<style scoped>\n",
       "    .dataframe tbody tr th:only-of-type {\n",
       "        vertical-align: middle;\n",
       "    }\n",
       "\n",
       "    .dataframe tbody tr th {\n",
       "        vertical-align: top;\n",
       "    }\n",
       "\n",
       "    .dataframe thead th {\n",
       "        text-align: right;\n",
       "    }\n",
       "</style>\n",
       "<table border=\"1\" class=\"dataframe\">\n",
       "  <thead>\n",
       "    <tr style=\"text-align: right;\">\n",
       "      <th></th>\n",
       "      <th>id</th>\n",
       "      <th>title</th>\n",
       "      <th>vote_average</th>\n",
       "      <th>overview</th>\n",
       "      <th>genres</th>\n",
       "      <th>imdb_id</th>\n",
       "      <th>poster_path</th>\n",
       "      <th>Cast&amp;Crew</th>\n",
       "    </tr>\n",
       "  </thead>\n",
       "  <tbody>\n",
       "    <tr>\n",
       "      <th>0</th>\n",
       "      <td>27205</td>\n",
       "      <td>Inception</td>\n",
       "      <td>8.364</td>\n",
       "      <td>Cobb, a skilled thief who commits corporate es...</td>\n",
       "      <td>Action, Science Fiction, Adventure</td>\n",
       "      <td>tt1375666</td>\n",
       "      <td>/oYuLEt3zVCKq57qu2F8dT7NIa6f.jpg</td>\n",
       "      <td>[Leonardo DiCaprio, Christopher Nolan, Ken Wat...</td>\n",
       "    </tr>\n",
       "    <tr>\n",
       "      <th>1</th>\n",
       "      <td>157336</td>\n",
       "      <td>Interstellar</td>\n",
       "      <td>8.417</td>\n",
       "      <td>The adventures of a group of explorers who mak...</td>\n",
       "      <td>Adventure, Drama, Science Fiction</td>\n",
       "      <td>tt0816692</td>\n",
       "      <td>/gEU2QniE6E77NI6lCU6MxlNBvIx.jpg</td>\n",
       "      <td>[Christopher Nolan, Michael Caine, Anne Hathaw...</td>\n",
       "    </tr>\n",
       "    <tr>\n",
       "      <th>2</th>\n",
       "      <td>155</td>\n",
       "      <td>The Dark Knight</td>\n",
       "      <td>8.512</td>\n",
       "      <td>Batman raises the stakes in his war on crime. ...</td>\n",
       "      <td>Drama, Action, Crime, Thriller</td>\n",
       "      <td>tt0468569</td>\n",
       "      <td>/qJ2tW6WMUDux911r6m7haRef0WH.jpg</td>\n",
       "      <td>[Gary Oldman, Christopher Nolan, Christian Bal...</td>\n",
       "    </tr>\n",
       "    <tr>\n",
       "      <th>3</th>\n",
       "      <td>19995</td>\n",
       "      <td>Avatar</td>\n",
       "      <td>7.573</td>\n",
       "      <td>In the 22nd century, a paraplegic Marine is di...</td>\n",
       "      <td>Action, Adventure, Fantasy, Science Fiction</td>\n",
       "      <td>tt0499549</td>\n",
       "      <td>/kyeqWdyUXW608qlYkRqosgbbJyK.jpg</td>\n",
       "      <td>[Stephen Lang, Sam Worthington, James Cameron,...</td>\n",
       "    </tr>\n",
       "    <tr>\n",
       "      <th>4</th>\n",
       "      <td>24428</td>\n",
       "      <td>The Avengers</td>\n",
       "      <td>7.710</td>\n",
       "      <td>When an unexpected enemy emerges and threatens...</td>\n",
       "      <td>Science Fiction, Action, Adventure</td>\n",
       "      <td>tt0848228</td>\n",
       "      <td>/RYMX2wcKCBAr24UyPD7xwmjaTn.jpg</td>\n",
       "      <td>[Mark Ruffalo, Joss Whedon, Robert Downey Jr.,...</td>\n",
       "    </tr>\n",
       "  </tbody>\n",
       "</table>\n",
       "</div>"
      ],
      "text/plain": [
       "       id            title  vote_average  \\\n",
       "0   27205        Inception         8.364   \n",
       "1  157336     Interstellar         8.417   \n",
       "2     155  The Dark Knight         8.512   \n",
       "3   19995           Avatar         7.573   \n",
       "4   24428     The Avengers         7.710   \n",
       "\n",
       "                                            overview  \\\n",
       "0  Cobb, a skilled thief who commits corporate es...   \n",
       "1  The adventures of a group of explorers who mak...   \n",
       "2  Batman raises the stakes in his war on crime. ...   \n",
       "3  In the 22nd century, a paraplegic Marine is di...   \n",
       "4  When an unexpected enemy emerges and threatens...   \n",
       "\n",
       "                                        genres    imdb_id  \\\n",
       "0           Action, Science Fiction, Adventure  tt1375666   \n",
       "1            Adventure, Drama, Science Fiction  tt0816692   \n",
       "2               Drama, Action, Crime, Thriller  tt0468569   \n",
       "3  Action, Adventure, Fantasy, Science Fiction  tt0499549   \n",
       "4           Science Fiction, Action, Adventure  tt0848228   \n",
       "\n",
       "                        poster_path  \\\n",
       "0  /oYuLEt3zVCKq57qu2F8dT7NIa6f.jpg   \n",
       "1  /gEU2QniE6E77NI6lCU6MxlNBvIx.jpg   \n",
       "2  /qJ2tW6WMUDux911r6m7haRef0WH.jpg   \n",
       "3  /kyeqWdyUXW608qlYkRqosgbbJyK.jpg   \n",
       "4   /RYMX2wcKCBAr24UyPD7xwmjaTn.jpg   \n",
       "\n",
       "                                           Cast&Crew  \n",
       "0  [Leonardo DiCaprio, Christopher Nolan, Ken Wat...  \n",
       "1  [Christopher Nolan, Michael Caine, Anne Hathaw...  \n",
       "2  [Gary Oldman, Christopher Nolan, Christian Bal...  \n",
       "3  [Stephen Lang, Sam Worthington, James Cameron,...  \n",
       "4  [Mark Ruffalo, Joss Whedon, Robert Downey Jr.,...  "
      ]
     },
     "execution_count": 150,
     "metadata": {},
     "output_type": "execute_result"
    }
   ],
   "source": [
    "movies.head()"
   ]
  },
  {
   "cell_type": "code",
   "execution_count": 151,
   "id": "81b10579",
   "metadata": {},
   "outputs": [
    {
     "data": {
      "text/plain": [
       "0        [Cobb,, a, skilled, thief, who, commits, corpo...\n",
       "1        [The, adventures, of, a, group, of, explorers,...\n",
       "2        [Batman, raises, the, stakes, in, his, war, on...\n",
       "3        [In, the, 22nd, century,, a, paraplegic, Marin...\n",
       "4        [When, an, unexpected, enemy, emerges, and, th...\n",
       "                               ...                        \n",
       "19141    [The, story, of, three, women, who, live, in, ...\n",
       "19142    [Ivy, is, pursued, by, first, love, Miyo,, but...\n",
       "19143    [Betty, Jara, reassembles, the, Yaguareté, Com...\n",
       "19144    [Murugan,, a, man, labelled, always, as, unluc...\n",
       "19145    [Pat, Tate, embarks, on, a, rampage, to, aveng...\n",
       "Name: overview, Length: 19059, dtype: object"
      ]
     },
     "execution_count": 151,
     "metadata": {},
     "output_type": "execute_result"
    }
   ],
   "source": [
    "movies['overview'].apply(lambda x:x.split())"
   ]
  },
  {
   "cell_type": "code",
   "execution_count": 152,
   "id": "b0a7703c",
   "metadata": {},
   "outputs": [],
   "source": [
    "movies['overview']=movies['overview'].apply(lambda x:x.split())"
   ]
  },
  {
   "cell_type": "code",
   "execution_count": 153,
   "id": "490f7f6b",
   "metadata": {},
   "outputs": [
    {
     "data": {
      "text/html": [
       "<div>\n",
       "<style scoped>\n",
       "    .dataframe tbody tr th:only-of-type {\n",
       "        vertical-align: middle;\n",
       "    }\n",
       "\n",
       "    .dataframe tbody tr th {\n",
       "        vertical-align: top;\n",
       "    }\n",
       "\n",
       "    .dataframe thead th {\n",
       "        text-align: right;\n",
       "    }\n",
       "</style>\n",
       "<table border=\"1\" class=\"dataframe\">\n",
       "  <thead>\n",
       "    <tr style=\"text-align: right;\">\n",
       "      <th></th>\n",
       "      <th>id</th>\n",
       "      <th>title</th>\n",
       "      <th>vote_average</th>\n",
       "      <th>overview</th>\n",
       "      <th>genres</th>\n",
       "      <th>imdb_id</th>\n",
       "      <th>poster_path</th>\n",
       "      <th>Cast&amp;Crew</th>\n",
       "    </tr>\n",
       "  </thead>\n",
       "  <tbody>\n",
       "    <tr>\n",
       "      <th>0</th>\n",
       "      <td>27205</td>\n",
       "      <td>Inception</td>\n",
       "      <td>8.364</td>\n",
       "      <td>[Cobb,, a, skilled, thief, who, commits, corpo...</td>\n",
       "      <td>Action, Science Fiction, Adventure</td>\n",
       "      <td>tt1375666</td>\n",
       "      <td>/oYuLEt3zVCKq57qu2F8dT7NIa6f.jpg</td>\n",
       "      <td>[Leonardo DiCaprio, Christopher Nolan, Ken Wat...</td>\n",
       "    </tr>\n",
       "    <tr>\n",
       "      <th>1</th>\n",
       "      <td>157336</td>\n",
       "      <td>Interstellar</td>\n",
       "      <td>8.417</td>\n",
       "      <td>[The, adventures, of, a, group, of, explorers,...</td>\n",
       "      <td>Adventure, Drama, Science Fiction</td>\n",
       "      <td>tt0816692</td>\n",
       "      <td>/gEU2QniE6E77NI6lCU6MxlNBvIx.jpg</td>\n",
       "      <td>[Christopher Nolan, Michael Caine, Anne Hathaw...</td>\n",
       "    </tr>\n",
       "    <tr>\n",
       "      <th>2</th>\n",
       "      <td>155</td>\n",
       "      <td>The Dark Knight</td>\n",
       "      <td>8.512</td>\n",
       "      <td>[Batman, raises, the, stakes, in, his, war, on...</td>\n",
       "      <td>Drama, Action, Crime, Thriller</td>\n",
       "      <td>tt0468569</td>\n",
       "      <td>/qJ2tW6WMUDux911r6m7haRef0WH.jpg</td>\n",
       "      <td>[Gary Oldman, Christopher Nolan, Christian Bal...</td>\n",
       "    </tr>\n",
       "    <tr>\n",
       "      <th>3</th>\n",
       "      <td>19995</td>\n",
       "      <td>Avatar</td>\n",
       "      <td>7.573</td>\n",
       "      <td>[In, the, 22nd, century,, a, paraplegic, Marin...</td>\n",
       "      <td>Action, Adventure, Fantasy, Science Fiction</td>\n",
       "      <td>tt0499549</td>\n",
       "      <td>/kyeqWdyUXW608qlYkRqosgbbJyK.jpg</td>\n",
       "      <td>[Stephen Lang, Sam Worthington, James Cameron,...</td>\n",
       "    </tr>\n",
       "    <tr>\n",
       "      <th>4</th>\n",
       "      <td>24428</td>\n",
       "      <td>The Avengers</td>\n",
       "      <td>7.710</td>\n",
       "      <td>[When, an, unexpected, enemy, emerges, and, th...</td>\n",
       "      <td>Science Fiction, Action, Adventure</td>\n",
       "      <td>tt0848228</td>\n",
       "      <td>/RYMX2wcKCBAr24UyPD7xwmjaTn.jpg</td>\n",
       "      <td>[Mark Ruffalo, Joss Whedon, Robert Downey Jr.,...</td>\n",
       "    </tr>\n",
       "  </tbody>\n",
       "</table>\n",
       "</div>"
      ],
      "text/plain": [
       "       id            title  vote_average  \\\n",
       "0   27205        Inception         8.364   \n",
       "1  157336     Interstellar         8.417   \n",
       "2     155  The Dark Knight         8.512   \n",
       "3   19995           Avatar         7.573   \n",
       "4   24428     The Avengers         7.710   \n",
       "\n",
       "                                            overview  \\\n",
       "0  [Cobb,, a, skilled, thief, who, commits, corpo...   \n",
       "1  [The, adventures, of, a, group, of, explorers,...   \n",
       "2  [Batman, raises, the, stakes, in, his, war, on...   \n",
       "3  [In, the, 22nd, century,, a, paraplegic, Marin...   \n",
       "4  [When, an, unexpected, enemy, emerges, and, th...   \n",
       "\n",
       "                                        genres    imdb_id  \\\n",
       "0           Action, Science Fiction, Adventure  tt1375666   \n",
       "1            Adventure, Drama, Science Fiction  tt0816692   \n",
       "2               Drama, Action, Crime, Thriller  tt0468569   \n",
       "3  Action, Adventure, Fantasy, Science Fiction  tt0499549   \n",
       "4           Science Fiction, Action, Adventure  tt0848228   \n",
       "\n",
       "                        poster_path  \\\n",
       "0  /oYuLEt3zVCKq57qu2F8dT7NIa6f.jpg   \n",
       "1  /gEU2QniE6E77NI6lCU6MxlNBvIx.jpg   \n",
       "2  /qJ2tW6WMUDux911r6m7haRef0WH.jpg   \n",
       "3  /kyeqWdyUXW608qlYkRqosgbbJyK.jpg   \n",
       "4   /RYMX2wcKCBAr24UyPD7xwmjaTn.jpg   \n",
       "\n",
       "                                           Cast&Crew  \n",
       "0  [Leonardo DiCaprio, Christopher Nolan, Ken Wat...  \n",
       "1  [Christopher Nolan, Michael Caine, Anne Hathaw...  \n",
       "2  [Gary Oldman, Christopher Nolan, Christian Bal...  \n",
       "3  [Stephen Lang, Sam Worthington, James Cameron,...  \n",
       "4  [Mark Ruffalo, Joss Whedon, Robert Downey Jr.,...  "
      ]
     },
     "execution_count": 153,
     "metadata": {},
     "output_type": "execute_result"
    }
   ],
   "source": [
    "movies.head()"
   ]
  },
  {
   "cell_type": "markdown",
   "id": "3b6bc13e",
   "metadata": {},
   "source": [
    "### Function to convert genres column in a list"
   ]
  },
  {
   "cell_type": "code",
   "execution_count": 154,
   "id": "a184fd6d",
   "metadata": {},
   "outputs": [],
   "source": [
    "def to_list(genre):\n",
    "    L=[]\n",
    "    for i in genre.split(','):\n",
    "        L.append(i)\n",
    "    return L"
   ]
  },
  {
   "cell_type": "code",
   "execution_count": 155,
   "id": "29cec8b2",
   "metadata": {},
   "outputs": [
    {
     "data": {
      "text/plain": [
       "'Action, Science Fiction, Adventure'"
      ]
     },
     "execution_count": 155,
     "metadata": {},
     "output_type": "execute_result"
    }
   ],
   "source": [
    "movies['genres'][0]"
   ]
  },
  {
   "cell_type": "code",
   "execution_count": 156,
   "id": "7a056791",
   "metadata": {},
   "outputs": [
    {
     "data": {
      "text/plain": [
       "['Action', ' Science Fiction', ' Adventure']"
      ]
     },
     "execution_count": 156,
     "metadata": {},
     "output_type": "execute_result"
    }
   ],
   "source": [
    "to_list('Action, Science Fiction, Adventure')"
   ]
  },
  {
   "cell_type": "code",
   "execution_count": 157,
   "id": "44419064",
   "metadata": {},
   "outputs": [
    {
     "data": {
      "text/plain": [
       "0                  [Action,  Science Fiction,  Adventure]\n",
       "1                   [Adventure,  Drama,  Science Fiction]\n",
       "2                     [Drama,  Action,  Crime,  Thriller]\n",
       "3        [Action,  Adventure,  Fantasy,  Science Fiction]\n",
       "4                  [Science Fiction,  Action,  Adventure]\n",
       "                               ...                       \n",
       "19141                                             [Drama]\n",
       "19142                                            [Comedy]\n",
       "19143                   [Action,  Crime,  Drama,  Comedy]\n",
       "19144                                    [Comedy,  Drama]\n",
       "19145                            [Action,  Crime,  Drama]\n",
       "Name: genres, Length: 19059, dtype: object"
      ]
     },
     "execution_count": 157,
     "metadata": {},
     "output_type": "execute_result"
    }
   ],
   "source": [
    "movies['genres'].apply(to_list)"
   ]
  },
  {
   "cell_type": "code",
   "execution_count": 158,
   "id": "da8fd393",
   "metadata": {},
   "outputs": [],
   "source": [
    "movies['genres']=movies['genres'].apply(to_list)"
   ]
  },
  {
   "cell_type": "code",
   "execution_count": 159,
   "id": "8be2df1b",
   "metadata": {},
   "outputs": [
    {
     "data": {
      "text/html": [
       "<div>\n",
       "<style scoped>\n",
       "    .dataframe tbody tr th:only-of-type {\n",
       "        vertical-align: middle;\n",
       "    }\n",
       "\n",
       "    .dataframe tbody tr th {\n",
       "        vertical-align: top;\n",
       "    }\n",
       "\n",
       "    .dataframe thead th {\n",
       "        text-align: right;\n",
       "    }\n",
       "</style>\n",
       "<table border=\"1\" class=\"dataframe\">\n",
       "  <thead>\n",
       "    <tr style=\"text-align: right;\">\n",
       "      <th></th>\n",
       "      <th>id</th>\n",
       "      <th>title</th>\n",
       "      <th>vote_average</th>\n",
       "      <th>overview</th>\n",
       "      <th>genres</th>\n",
       "      <th>imdb_id</th>\n",
       "      <th>poster_path</th>\n",
       "      <th>Cast&amp;Crew</th>\n",
       "    </tr>\n",
       "  </thead>\n",
       "  <tbody>\n",
       "    <tr>\n",
       "      <th>0</th>\n",
       "      <td>27205</td>\n",
       "      <td>Inception</td>\n",
       "      <td>8.364</td>\n",
       "      <td>[Cobb,, a, skilled, thief, who, commits, corpo...</td>\n",
       "      <td>[Action,  Science Fiction,  Adventure]</td>\n",
       "      <td>tt1375666</td>\n",
       "      <td>/oYuLEt3zVCKq57qu2F8dT7NIa6f.jpg</td>\n",
       "      <td>[Leonardo DiCaprio, Christopher Nolan, Ken Wat...</td>\n",
       "    </tr>\n",
       "    <tr>\n",
       "      <th>1</th>\n",
       "      <td>157336</td>\n",
       "      <td>Interstellar</td>\n",
       "      <td>8.417</td>\n",
       "      <td>[The, adventures, of, a, group, of, explorers,...</td>\n",
       "      <td>[Adventure,  Drama,  Science Fiction]</td>\n",
       "      <td>tt0816692</td>\n",
       "      <td>/gEU2QniE6E77NI6lCU6MxlNBvIx.jpg</td>\n",
       "      <td>[Christopher Nolan, Michael Caine, Anne Hathaw...</td>\n",
       "    </tr>\n",
       "    <tr>\n",
       "      <th>2</th>\n",
       "      <td>155</td>\n",
       "      <td>The Dark Knight</td>\n",
       "      <td>8.512</td>\n",
       "      <td>[Batman, raises, the, stakes, in, his, war, on...</td>\n",
       "      <td>[Drama,  Action,  Crime,  Thriller]</td>\n",
       "      <td>tt0468569</td>\n",
       "      <td>/qJ2tW6WMUDux911r6m7haRef0WH.jpg</td>\n",
       "      <td>[Gary Oldman, Christopher Nolan, Christian Bal...</td>\n",
       "    </tr>\n",
       "    <tr>\n",
       "      <th>3</th>\n",
       "      <td>19995</td>\n",
       "      <td>Avatar</td>\n",
       "      <td>7.573</td>\n",
       "      <td>[In, the, 22nd, century,, a, paraplegic, Marin...</td>\n",
       "      <td>[Action,  Adventure,  Fantasy,  Science Fiction]</td>\n",
       "      <td>tt0499549</td>\n",
       "      <td>/kyeqWdyUXW608qlYkRqosgbbJyK.jpg</td>\n",
       "      <td>[Stephen Lang, Sam Worthington, James Cameron,...</td>\n",
       "    </tr>\n",
       "    <tr>\n",
       "      <th>4</th>\n",
       "      <td>24428</td>\n",
       "      <td>The Avengers</td>\n",
       "      <td>7.710</td>\n",
       "      <td>[When, an, unexpected, enemy, emerges, and, th...</td>\n",
       "      <td>[Science Fiction,  Action,  Adventure]</td>\n",
       "      <td>tt0848228</td>\n",
       "      <td>/RYMX2wcKCBAr24UyPD7xwmjaTn.jpg</td>\n",
       "      <td>[Mark Ruffalo, Joss Whedon, Robert Downey Jr.,...</td>\n",
       "    </tr>\n",
       "  </tbody>\n",
       "</table>\n",
       "</div>"
      ],
      "text/plain": [
       "       id            title  vote_average  \\\n",
       "0   27205        Inception         8.364   \n",
       "1  157336     Interstellar         8.417   \n",
       "2     155  The Dark Knight         8.512   \n",
       "3   19995           Avatar         7.573   \n",
       "4   24428     The Avengers         7.710   \n",
       "\n",
       "                                            overview  \\\n",
       "0  [Cobb,, a, skilled, thief, who, commits, corpo...   \n",
       "1  [The, adventures, of, a, group, of, explorers,...   \n",
       "2  [Batman, raises, the, stakes, in, his, war, on...   \n",
       "3  [In, the, 22nd, century,, a, paraplegic, Marin...   \n",
       "4  [When, an, unexpected, enemy, emerges, and, th...   \n",
       "\n",
       "                                             genres    imdb_id  \\\n",
       "0            [Action,  Science Fiction,  Adventure]  tt1375666   \n",
       "1             [Adventure,  Drama,  Science Fiction]  tt0816692   \n",
       "2               [Drama,  Action,  Crime,  Thriller]  tt0468569   \n",
       "3  [Action,  Adventure,  Fantasy,  Science Fiction]  tt0499549   \n",
       "4            [Science Fiction,  Action,  Adventure]  tt0848228   \n",
       "\n",
       "                        poster_path  \\\n",
       "0  /oYuLEt3zVCKq57qu2F8dT7NIa6f.jpg   \n",
       "1  /gEU2QniE6E77NI6lCU6MxlNBvIx.jpg   \n",
       "2  /qJ2tW6WMUDux911r6m7haRef0WH.jpg   \n",
       "3  /kyeqWdyUXW608qlYkRqosgbbJyK.jpg   \n",
       "4   /RYMX2wcKCBAr24UyPD7xwmjaTn.jpg   \n",
       "\n",
       "                                           Cast&Crew  \n",
       "0  [Leonardo DiCaprio, Christopher Nolan, Ken Wat...  \n",
       "1  [Christopher Nolan, Michael Caine, Anne Hathaw...  \n",
       "2  [Gary Oldman, Christopher Nolan, Christian Bal...  \n",
       "3  [Stephen Lang, Sam Worthington, James Cameron,...  \n",
       "4  [Mark Ruffalo, Joss Whedon, Robert Downey Jr.,...  "
      ]
     },
     "execution_count": 159,
     "metadata": {},
     "output_type": "execute_result"
    }
   ],
   "source": [
    "movies.head()"
   ]
  },
  {
   "cell_type": "markdown",
   "id": "b6645a75",
   "metadata": {},
   "source": [
    "### Function to convert the vote_average so that we will have less number of unique vote_average "
   ]
  },
  {
   "cell_type": "code",
   "execution_count": 160,
   "id": "dec80c2a",
   "metadata": {},
   "outputs": [],
   "source": [
    "def round_to_nearest_tenth(number):\n",
    "    integer_part = int(number)\n",
    "    decimal_part = number - integer_part\n",
    "    \n",
    "    if decimal_part < 0.25:\n",
    "        return [str(integer_part)]  # Convert integer_part to string\n",
    "    elif decimal_part < 0.75:\n",
    "        return [str(integer_part + 0.5)]  # Convert to string\n",
    "    else:\n",
    "        return [str(integer_part + 1)]  # Convert to string"
   ]
  },
  {
   "cell_type": "code",
   "execution_count": 161,
   "id": "94b56f3c",
   "metadata": {},
   "outputs": [
    {
     "data": {
      "text/plain": [
       "0        [8.5]\n",
       "1        [8.5]\n",
       "2        [8.5]\n",
       "3        [7.5]\n",
       "4        [7.5]\n",
       "         ...  \n",
       "19141      [7]\n",
       "19142      [9]\n",
       "19143      [7]\n",
       "19144      [8]\n",
       "19145      [6]\n",
       "Name: vote_average, Length: 19059, dtype: object"
      ]
     },
     "execution_count": 161,
     "metadata": {},
     "output_type": "execute_result"
    }
   ],
   "source": [
    "movies['vote_average'].apply(round_to_nearest_tenth)"
   ]
  },
  {
   "cell_type": "code",
   "execution_count": 162,
   "id": "11d01cb6",
   "metadata": {},
   "outputs": [],
   "source": [
    "movies['vote_average']=movies['vote_average'].apply(round_to_nearest_tenth)"
   ]
  },
  {
   "cell_type": "code",
   "execution_count": 163,
   "id": "97388f92",
   "metadata": {},
   "outputs": [
    {
     "data": {
      "text/html": [
       "<div>\n",
       "<style scoped>\n",
       "    .dataframe tbody tr th:only-of-type {\n",
       "        vertical-align: middle;\n",
       "    }\n",
       "\n",
       "    .dataframe tbody tr th {\n",
       "        vertical-align: top;\n",
       "    }\n",
       "\n",
       "    .dataframe thead th {\n",
       "        text-align: right;\n",
       "    }\n",
       "</style>\n",
       "<table border=\"1\" class=\"dataframe\">\n",
       "  <thead>\n",
       "    <tr style=\"text-align: right;\">\n",
       "      <th></th>\n",
       "      <th>id</th>\n",
       "      <th>title</th>\n",
       "      <th>vote_average</th>\n",
       "      <th>overview</th>\n",
       "      <th>genres</th>\n",
       "      <th>imdb_id</th>\n",
       "      <th>poster_path</th>\n",
       "      <th>Cast&amp;Crew</th>\n",
       "    </tr>\n",
       "  </thead>\n",
       "  <tbody>\n",
       "    <tr>\n",
       "      <th>0</th>\n",
       "      <td>27205</td>\n",
       "      <td>Inception</td>\n",
       "      <td>[8.5]</td>\n",
       "      <td>[Cobb,, a, skilled, thief, who, commits, corpo...</td>\n",
       "      <td>[Action,  Science Fiction,  Adventure]</td>\n",
       "      <td>tt1375666</td>\n",
       "      <td>/oYuLEt3zVCKq57qu2F8dT7NIa6f.jpg</td>\n",
       "      <td>[Leonardo DiCaprio, Christopher Nolan, Ken Wat...</td>\n",
       "    </tr>\n",
       "    <tr>\n",
       "      <th>1</th>\n",
       "      <td>157336</td>\n",
       "      <td>Interstellar</td>\n",
       "      <td>[8.5]</td>\n",
       "      <td>[The, adventures, of, a, group, of, explorers,...</td>\n",
       "      <td>[Adventure,  Drama,  Science Fiction]</td>\n",
       "      <td>tt0816692</td>\n",
       "      <td>/gEU2QniE6E77NI6lCU6MxlNBvIx.jpg</td>\n",
       "      <td>[Christopher Nolan, Michael Caine, Anne Hathaw...</td>\n",
       "    </tr>\n",
       "    <tr>\n",
       "      <th>2</th>\n",
       "      <td>155</td>\n",
       "      <td>The Dark Knight</td>\n",
       "      <td>[8.5]</td>\n",
       "      <td>[Batman, raises, the, stakes, in, his, war, on...</td>\n",
       "      <td>[Drama,  Action,  Crime,  Thriller]</td>\n",
       "      <td>tt0468569</td>\n",
       "      <td>/qJ2tW6WMUDux911r6m7haRef0WH.jpg</td>\n",
       "      <td>[Gary Oldman, Christopher Nolan, Christian Bal...</td>\n",
       "    </tr>\n",
       "    <tr>\n",
       "      <th>3</th>\n",
       "      <td>19995</td>\n",
       "      <td>Avatar</td>\n",
       "      <td>[7.5]</td>\n",
       "      <td>[In, the, 22nd, century,, a, paraplegic, Marin...</td>\n",
       "      <td>[Action,  Adventure,  Fantasy,  Science Fiction]</td>\n",
       "      <td>tt0499549</td>\n",
       "      <td>/kyeqWdyUXW608qlYkRqosgbbJyK.jpg</td>\n",
       "      <td>[Stephen Lang, Sam Worthington, James Cameron,...</td>\n",
       "    </tr>\n",
       "    <tr>\n",
       "      <th>4</th>\n",
       "      <td>24428</td>\n",
       "      <td>The Avengers</td>\n",
       "      <td>[7.5]</td>\n",
       "      <td>[When, an, unexpected, enemy, emerges, and, th...</td>\n",
       "      <td>[Science Fiction,  Action,  Adventure]</td>\n",
       "      <td>tt0848228</td>\n",
       "      <td>/RYMX2wcKCBAr24UyPD7xwmjaTn.jpg</td>\n",
       "      <td>[Mark Ruffalo, Joss Whedon, Robert Downey Jr.,...</td>\n",
       "    </tr>\n",
       "  </tbody>\n",
       "</table>\n",
       "</div>"
      ],
      "text/plain": [
       "       id            title vote_average  \\\n",
       "0   27205        Inception        [8.5]   \n",
       "1  157336     Interstellar        [8.5]   \n",
       "2     155  The Dark Knight        [8.5]   \n",
       "3   19995           Avatar        [7.5]   \n",
       "4   24428     The Avengers        [7.5]   \n",
       "\n",
       "                                            overview  \\\n",
       "0  [Cobb,, a, skilled, thief, who, commits, corpo...   \n",
       "1  [The, adventures, of, a, group, of, explorers,...   \n",
       "2  [Batman, raises, the, stakes, in, his, war, on...   \n",
       "3  [In, the, 22nd, century,, a, paraplegic, Marin...   \n",
       "4  [When, an, unexpected, enemy, emerges, and, th...   \n",
       "\n",
       "                                             genres    imdb_id  \\\n",
       "0            [Action,  Science Fiction,  Adventure]  tt1375666   \n",
       "1             [Adventure,  Drama,  Science Fiction]  tt0816692   \n",
       "2               [Drama,  Action,  Crime,  Thriller]  tt0468569   \n",
       "3  [Action,  Adventure,  Fantasy,  Science Fiction]  tt0499549   \n",
       "4            [Science Fiction,  Action,  Adventure]  tt0848228   \n",
       "\n",
       "                        poster_path  \\\n",
       "0  /oYuLEt3zVCKq57qu2F8dT7NIa6f.jpg   \n",
       "1  /gEU2QniE6E77NI6lCU6MxlNBvIx.jpg   \n",
       "2  /qJ2tW6WMUDux911r6m7haRef0WH.jpg   \n",
       "3  /kyeqWdyUXW608qlYkRqosgbbJyK.jpg   \n",
       "4   /RYMX2wcKCBAr24UyPD7xwmjaTn.jpg   \n",
       "\n",
       "                                           Cast&Crew  \n",
       "0  [Leonardo DiCaprio, Christopher Nolan, Ken Wat...  \n",
       "1  [Christopher Nolan, Michael Caine, Anne Hathaw...  \n",
       "2  [Gary Oldman, Christopher Nolan, Christian Bal...  \n",
       "3  [Stephen Lang, Sam Worthington, James Cameron,...  \n",
       "4  [Mark Ruffalo, Joss Whedon, Robert Downey Jr.,...  "
      ]
     },
     "execution_count": 163,
     "metadata": {},
     "output_type": "execute_result"
    }
   ],
   "source": [
    "movies.head()"
   ]
  },
  {
   "cell_type": "code",
   "execution_count": 164,
   "id": "9df472fc",
   "metadata": {},
   "outputs": [
    {
     "data": {
      "text/plain": [
       "count     19059\n",
       "unique       11\n",
       "top       [6.5]\n",
       "freq       4349\n",
       "Name: vote_average, dtype: object"
      ]
     },
     "execution_count": 164,
     "metadata": {},
     "output_type": "execute_result"
    }
   ],
   "source": [
    "movies['vote_average'].describe()"
   ]
  },
  {
   "cell_type": "code",
   "execution_count": 165,
   "id": "a3342da7",
   "metadata": {},
   "outputs": [
    {
     "data": {
      "text/plain": [
       "11"
      ]
     },
     "execution_count": 165,
     "metadata": {},
     "output_type": "execute_result"
    }
   ],
   "source": [
    "movies['vote_average'].describe()['unique']"
   ]
  },
  {
   "cell_type": "code",
   "execution_count": 166,
   "id": "be365dee",
   "metadata": {},
   "outputs": [
    {
     "data": {
      "text/plain": [
       "0                 [Action, ScienceFiction, Adventure]\n",
       "1                  [Adventure, Drama, ScienceFiction]\n",
       "2                    [Drama, Action, Crime, Thriller]\n",
       "3        [Action, Adventure, Fantasy, ScienceFiction]\n",
       "4                 [ScienceFiction, Action, Adventure]\n",
       "                             ...                     \n",
       "19141                                         [Drama]\n",
       "19142                                        [Comedy]\n",
       "19143                  [Action, Crime, Drama, Comedy]\n",
       "19144                                 [Comedy, Drama]\n",
       "19145                          [Action, Crime, Drama]\n",
       "Name: genres, Length: 19059, dtype: object"
      ]
     },
     "execution_count": 166,
     "metadata": {},
     "output_type": "execute_result"
    }
   ],
   "source": [
    "movies['genres'].apply(lambda x:[i.replace (\" \",\"\") for i in x])"
   ]
  },
  {
   "cell_type": "markdown",
   "id": "981dc1b8",
   "metadata": {},
   "source": [
    "### Combing names so that model will not be confused"
   ]
  },
  {
   "cell_type": "raw",
   "id": "f2feb954",
   "metadata": {},
   "source": [
    "First line of code snippet removes spaces from each genre name in the 'genres' column of the DataFrame 'movies'. For example, if a genre name is \"Science Fiction\", it will be converted to \"ScienceFiction\"."
   ]
  },
  {
   "cell_type": "code",
   "execution_count": 167,
   "id": "bde07cc5",
   "metadata": {},
   "outputs": [],
   "source": [
    "movies['genres']=movies['genres'].apply(lambda x:[i.replace (\" \",\"\") for i in x])\n",
    "movies['overview']=movies['overview'].apply(lambda x:[i.replace (\" \",\"\") for i in x])\n",
    "movies['Cast&Crew']=movies['Cast&Crew'].apply(lambda x:[i.replace (\" \",\"\") for i in x])"
   ]
  },
  {
   "cell_type": "code",
   "execution_count": 168,
   "id": "65a87067",
   "metadata": {},
   "outputs": [
    {
     "data": {
      "text/html": [
       "<div>\n",
       "<style scoped>\n",
       "    .dataframe tbody tr th:only-of-type {\n",
       "        vertical-align: middle;\n",
       "    }\n",
       "\n",
       "    .dataframe tbody tr th {\n",
       "        vertical-align: top;\n",
       "    }\n",
       "\n",
       "    .dataframe thead th {\n",
       "        text-align: right;\n",
       "    }\n",
       "</style>\n",
       "<table border=\"1\" class=\"dataframe\">\n",
       "  <thead>\n",
       "    <tr style=\"text-align: right;\">\n",
       "      <th></th>\n",
       "      <th>id</th>\n",
       "      <th>title</th>\n",
       "      <th>vote_average</th>\n",
       "      <th>overview</th>\n",
       "      <th>genres</th>\n",
       "      <th>imdb_id</th>\n",
       "      <th>poster_path</th>\n",
       "      <th>Cast&amp;Crew</th>\n",
       "    </tr>\n",
       "  </thead>\n",
       "  <tbody>\n",
       "    <tr>\n",
       "      <th>0</th>\n",
       "      <td>27205</td>\n",
       "      <td>Inception</td>\n",
       "      <td>[8.5]</td>\n",
       "      <td>[Cobb,, a, skilled, thief, who, commits, corpo...</td>\n",
       "      <td>[Action, ScienceFiction, Adventure]</td>\n",
       "      <td>tt1375666</td>\n",
       "      <td>/oYuLEt3zVCKq57qu2F8dT7NIa6f.jpg</td>\n",
       "      <td>[LeonardoDiCaprio, ChristopherNolan, KenWatana...</td>\n",
       "    </tr>\n",
       "    <tr>\n",
       "      <th>1</th>\n",
       "      <td>157336</td>\n",
       "      <td>Interstellar</td>\n",
       "      <td>[8.5]</td>\n",
       "      <td>[The, adventures, of, a, group, of, explorers,...</td>\n",
       "      <td>[Adventure, Drama, ScienceFiction]</td>\n",
       "      <td>tt0816692</td>\n",
       "      <td>/gEU2QniE6E77NI6lCU6MxlNBvIx.jpg</td>\n",
       "      <td>[ChristopherNolan, MichaelCaine, AnneHathaway,...</td>\n",
       "    </tr>\n",
       "    <tr>\n",
       "      <th>2</th>\n",
       "      <td>155</td>\n",
       "      <td>The Dark Knight</td>\n",
       "      <td>[8.5]</td>\n",
       "      <td>[Batman, raises, the, stakes, in, his, war, on...</td>\n",
       "      <td>[Drama, Action, Crime, Thriller]</td>\n",
       "      <td>tt0468569</td>\n",
       "      <td>/qJ2tW6WMUDux911r6m7haRef0WH.jpg</td>\n",
       "      <td>[GaryOldman, ChristopherNolan, ChristianBale, ...</td>\n",
       "    </tr>\n",
       "    <tr>\n",
       "      <th>3</th>\n",
       "      <td>19995</td>\n",
       "      <td>Avatar</td>\n",
       "      <td>[7.5]</td>\n",
       "      <td>[In, the, 22nd, century,, a, paraplegic, Marin...</td>\n",
       "      <td>[Action, Adventure, Fantasy, ScienceFiction]</td>\n",
       "      <td>tt0499549</td>\n",
       "      <td>/kyeqWdyUXW608qlYkRqosgbbJyK.jpg</td>\n",
       "      <td>[StephenLang, SamWorthington, JamesCameron, Si...</td>\n",
       "    </tr>\n",
       "    <tr>\n",
       "      <th>4</th>\n",
       "      <td>24428</td>\n",
       "      <td>The Avengers</td>\n",
       "      <td>[7.5]</td>\n",
       "      <td>[When, an, unexpected, enemy, emerges, and, th...</td>\n",
       "      <td>[ScienceFiction, Action, Adventure]</td>\n",
       "      <td>tt0848228</td>\n",
       "      <td>/RYMX2wcKCBAr24UyPD7xwmjaTn.jpg</td>\n",
       "      <td>[MarkRuffalo, JossWhedon, RobertDowneyJr., Chr...</td>\n",
       "    </tr>\n",
       "  </tbody>\n",
       "</table>\n",
       "</div>"
      ],
      "text/plain": [
       "       id            title vote_average  \\\n",
       "0   27205        Inception        [8.5]   \n",
       "1  157336     Interstellar        [8.5]   \n",
       "2     155  The Dark Knight        [8.5]   \n",
       "3   19995           Avatar        [7.5]   \n",
       "4   24428     The Avengers        [7.5]   \n",
       "\n",
       "                                            overview  \\\n",
       "0  [Cobb,, a, skilled, thief, who, commits, corpo...   \n",
       "1  [The, adventures, of, a, group, of, explorers,...   \n",
       "2  [Batman, raises, the, stakes, in, his, war, on...   \n",
       "3  [In, the, 22nd, century,, a, paraplegic, Marin...   \n",
       "4  [When, an, unexpected, enemy, emerges, and, th...   \n",
       "\n",
       "                                         genres    imdb_id  \\\n",
       "0           [Action, ScienceFiction, Adventure]  tt1375666   \n",
       "1            [Adventure, Drama, ScienceFiction]  tt0816692   \n",
       "2              [Drama, Action, Crime, Thriller]  tt0468569   \n",
       "3  [Action, Adventure, Fantasy, ScienceFiction]  tt0499549   \n",
       "4           [ScienceFiction, Action, Adventure]  tt0848228   \n",
       "\n",
       "                        poster_path  \\\n",
       "0  /oYuLEt3zVCKq57qu2F8dT7NIa6f.jpg   \n",
       "1  /gEU2QniE6E77NI6lCU6MxlNBvIx.jpg   \n",
       "2  /qJ2tW6WMUDux911r6m7haRef0WH.jpg   \n",
       "3  /kyeqWdyUXW608qlYkRqosgbbJyK.jpg   \n",
       "4   /RYMX2wcKCBAr24UyPD7xwmjaTn.jpg   \n",
       "\n",
       "                                           Cast&Crew  \n",
       "0  [LeonardoDiCaprio, ChristopherNolan, KenWatana...  \n",
       "1  [ChristopherNolan, MichaelCaine, AnneHathaway,...  \n",
       "2  [GaryOldman, ChristopherNolan, ChristianBale, ...  \n",
       "3  [StephenLang, SamWorthington, JamesCameron, Si...  \n",
       "4  [MarkRuffalo, JossWhedon, RobertDowneyJr., Chr...  "
      ]
     },
     "execution_count": 168,
     "metadata": {},
     "output_type": "execute_result"
    }
   ],
   "source": [
    "movies.head()"
   ]
  },
  {
   "cell_type": "markdown",
   "id": "237b1cf4",
   "metadata": {},
   "source": [
    "### Merging all columns in one to apply further preprocessing combinely"
   ]
  },
  {
   "cell_type": "code",
   "execution_count": 169,
   "id": "32402c07",
   "metadata": {},
   "outputs": [],
   "source": [
    "movies['tag']=movies['overview']+movies['genres']+ movies['vote_average']+movies['Cast&Crew']"
   ]
  },
  {
   "cell_type": "code",
   "execution_count": 170,
   "id": "5bba1fc4",
   "metadata": {},
   "outputs": [
    {
     "data": {
      "text/html": [
       "<div>\n",
       "<style scoped>\n",
       "    .dataframe tbody tr th:only-of-type {\n",
       "        vertical-align: middle;\n",
       "    }\n",
       "\n",
       "    .dataframe tbody tr th {\n",
       "        vertical-align: top;\n",
       "    }\n",
       "\n",
       "    .dataframe thead th {\n",
       "        text-align: right;\n",
       "    }\n",
       "</style>\n",
       "<table border=\"1\" class=\"dataframe\">\n",
       "  <thead>\n",
       "    <tr style=\"text-align: right;\">\n",
       "      <th></th>\n",
       "      <th>id</th>\n",
       "      <th>title</th>\n",
       "      <th>vote_average</th>\n",
       "      <th>overview</th>\n",
       "      <th>genres</th>\n",
       "      <th>imdb_id</th>\n",
       "      <th>poster_path</th>\n",
       "      <th>Cast&amp;Crew</th>\n",
       "      <th>tag</th>\n",
       "    </tr>\n",
       "  </thead>\n",
       "  <tbody>\n",
       "    <tr>\n",
       "      <th>0</th>\n",
       "      <td>27205</td>\n",
       "      <td>Inception</td>\n",
       "      <td>[8.5]</td>\n",
       "      <td>[Cobb,, a, skilled, thief, who, commits, corpo...</td>\n",
       "      <td>[Action, ScienceFiction, Adventure]</td>\n",
       "      <td>tt1375666</td>\n",
       "      <td>/oYuLEt3zVCKq57qu2F8dT7NIa6f.jpg</td>\n",
       "      <td>[LeonardoDiCaprio, ChristopherNolan, KenWatana...</td>\n",
       "      <td>[Cobb,, a, skilled, thief, who, commits, corpo...</td>\n",
       "    </tr>\n",
       "    <tr>\n",
       "      <th>1</th>\n",
       "      <td>157336</td>\n",
       "      <td>Interstellar</td>\n",
       "      <td>[8.5]</td>\n",
       "      <td>[The, adventures, of, a, group, of, explorers,...</td>\n",
       "      <td>[Adventure, Drama, ScienceFiction]</td>\n",
       "      <td>tt0816692</td>\n",
       "      <td>/gEU2QniE6E77NI6lCU6MxlNBvIx.jpg</td>\n",
       "      <td>[ChristopherNolan, MichaelCaine, AnneHathaway,...</td>\n",
       "      <td>[The, adventures, of, a, group, of, explorers,...</td>\n",
       "    </tr>\n",
       "    <tr>\n",
       "      <th>2</th>\n",
       "      <td>155</td>\n",
       "      <td>The Dark Knight</td>\n",
       "      <td>[8.5]</td>\n",
       "      <td>[Batman, raises, the, stakes, in, his, war, on...</td>\n",
       "      <td>[Drama, Action, Crime, Thriller]</td>\n",
       "      <td>tt0468569</td>\n",
       "      <td>/qJ2tW6WMUDux911r6m7haRef0WH.jpg</td>\n",
       "      <td>[GaryOldman, ChristopherNolan, ChristianBale, ...</td>\n",
       "      <td>[Batman, raises, the, stakes, in, his, war, on...</td>\n",
       "    </tr>\n",
       "    <tr>\n",
       "      <th>3</th>\n",
       "      <td>19995</td>\n",
       "      <td>Avatar</td>\n",
       "      <td>[7.5]</td>\n",
       "      <td>[In, the, 22nd, century,, a, paraplegic, Marin...</td>\n",
       "      <td>[Action, Adventure, Fantasy, ScienceFiction]</td>\n",
       "      <td>tt0499549</td>\n",
       "      <td>/kyeqWdyUXW608qlYkRqosgbbJyK.jpg</td>\n",
       "      <td>[StephenLang, SamWorthington, JamesCameron, Si...</td>\n",
       "      <td>[In, the, 22nd, century,, a, paraplegic, Marin...</td>\n",
       "    </tr>\n",
       "    <tr>\n",
       "      <th>4</th>\n",
       "      <td>24428</td>\n",
       "      <td>The Avengers</td>\n",
       "      <td>[7.5]</td>\n",
       "      <td>[When, an, unexpected, enemy, emerges, and, th...</td>\n",
       "      <td>[ScienceFiction, Action, Adventure]</td>\n",
       "      <td>tt0848228</td>\n",
       "      <td>/RYMX2wcKCBAr24UyPD7xwmjaTn.jpg</td>\n",
       "      <td>[MarkRuffalo, JossWhedon, RobertDowneyJr., Chr...</td>\n",
       "      <td>[When, an, unexpected, enemy, emerges, and, th...</td>\n",
       "    </tr>\n",
       "  </tbody>\n",
       "</table>\n",
       "</div>"
      ],
      "text/plain": [
       "       id            title vote_average  \\\n",
       "0   27205        Inception        [8.5]   \n",
       "1  157336     Interstellar        [8.5]   \n",
       "2     155  The Dark Knight        [8.5]   \n",
       "3   19995           Avatar        [7.5]   \n",
       "4   24428     The Avengers        [7.5]   \n",
       "\n",
       "                                            overview  \\\n",
       "0  [Cobb,, a, skilled, thief, who, commits, corpo...   \n",
       "1  [The, adventures, of, a, group, of, explorers,...   \n",
       "2  [Batman, raises, the, stakes, in, his, war, on...   \n",
       "3  [In, the, 22nd, century,, a, paraplegic, Marin...   \n",
       "4  [When, an, unexpected, enemy, emerges, and, th...   \n",
       "\n",
       "                                         genres    imdb_id  \\\n",
       "0           [Action, ScienceFiction, Adventure]  tt1375666   \n",
       "1            [Adventure, Drama, ScienceFiction]  tt0816692   \n",
       "2              [Drama, Action, Crime, Thriller]  tt0468569   \n",
       "3  [Action, Adventure, Fantasy, ScienceFiction]  tt0499549   \n",
       "4           [ScienceFiction, Action, Adventure]  tt0848228   \n",
       "\n",
       "                        poster_path  \\\n",
       "0  /oYuLEt3zVCKq57qu2F8dT7NIa6f.jpg   \n",
       "1  /gEU2QniE6E77NI6lCU6MxlNBvIx.jpg   \n",
       "2  /qJ2tW6WMUDux911r6m7haRef0WH.jpg   \n",
       "3  /kyeqWdyUXW608qlYkRqosgbbJyK.jpg   \n",
       "4   /RYMX2wcKCBAr24UyPD7xwmjaTn.jpg   \n",
       "\n",
       "                                           Cast&Crew  \\\n",
       "0  [LeonardoDiCaprio, ChristopherNolan, KenWatana...   \n",
       "1  [ChristopherNolan, MichaelCaine, AnneHathaway,...   \n",
       "2  [GaryOldman, ChristopherNolan, ChristianBale, ...   \n",
       "3  [StephenLang, SamWorthington, JamesCameron, Si...   \n",
       "4  [MarkRuffalo, JossWhedon, RobertDowneyJr., Chr...   \n",
       "\n",
       "                                                 tag  \n",
       "0  [Cobb,, a, skilled, thief, who, commits, corpo...  \n",
       "1  [The, adventures, of, a, group, of, explorers,...  \n",
       "2  [Batman, raises, the, stakes, in, his, war, on...  \n",
       "3  [In, the, 22nd, century,, a, paraplegic, Marin...  \n",
       "4  [When, an, unexpected, enemy, emerges, and, th...  "
      ]
     },
     "execution_count": 170,
     "metadata": {},
     "output_type": "execute_result"
    }
   ],
   "source": [
    "movies.head()"
   ]
  },
  {
   "cell_type": "code",
   "execution_count": 171,
   "id": "687d19a2",
   "metadata": {},
   "outputs": [
    {
     "data": {
      "text/plain": [
       "['Cobb,',\n",
       " 'a',\n",
       " 'skilled',\n",
       " 'thief',\n",
       " 'who',\n",
       " 'commits',\n",
       " 'corporate',\n",
       " 'espionage',\n",
       " 'by',\n",
       " 'infiltrating',\n",
       " 'the',\n",
       " 'subconscious',\n",
       " 'of',\n",
       " 'his',\n",
       " 'targets',\n",
       " 'is',\n",
       " 'offered',\n",
       " 'a',\n",
       " 'chance',\n",
       " 'to',\n",
       " 'regain',\n",
       " 'his',\n",
       " 'old',\n",
       " 'life',\n",
       " 'as',\n",
       " 'payment',\n",
       " 'for',\n",
       " 'a',\n",
       " 'task',\n",
       " 'considered',\n",
       " 'to',\n",
       " 'be',\n",
       " 'impossible:',\n",
       " '\"inception\",',\n",
       " 'the',\n",
       " 'implantation',\n",
       " 'of',\n",
       " 'another',\n",
       " \"person's\",\n",
       " 'idea',\n",
       " 'into',\n",
       " 'a',\n",
       " \"target's\",\n",
       " 'subconscious.',\n",
       " 'Action',\n",
       " 'ScienceFiction',\n",
       " 'Adventure',\n",
       " '8.5',\n",
       " 'LeonardoDiCaprio',\n",
       " 'ChristopherNolan',\n",
       " 'KenWatanabe',\n",
       " 'JosephGordon-Levitt',\n",
       " 'TomHardy']"
      ]
     },
     "execution_count": 171,
     "metadata": {},
     "output_type": "execute_result"
    }
   ],
   "source": [
    "movies.head()['tag'][0]"
   ]
  },
  {
   "cell_type": "code",
   "execution_count": 172,
   "id": "dfb1c706",
   "metadata": {},
   "outputs": [
    {
     "data": {
      "text/plain": [
       "Index(['id', 'title', 'vote_average', 'overview', 'genres', 'imdb_id',\n",
       "       'poster_path', 'Cast&Crew', 'tag'],\n",
       "      dtype='object')"
      ]
     },
     "execution_count": 172,
     "metadata": {},
     "output_type": "execute_result"
    }
   ],
   "source": [
    "movies.columns"
   ]
  },
  {
   "cell_type": "code",
   "execution_count": 173,
   "id": "0b5deb00",
   "metadata": {},
   "outputs": [],
   "source": [
    "new_df=movies[['id','title','tag','imdb_id','poster_path']]"
   ]
  },
  {
   "cell_type": "code",
   "execution_count": 174,
   "id": "e20fb020",
   "metadata": {},
   "outputs": [
    {
     "data": {
      "text/html": [
       "<div>\n",
       "<style scoped>\n",
       "    .dataframe tbody tr th:only-of-type {\n",
       "        vertical-align: middle;\n",
       "    }\n",
       "\n",
       "    .dataframe tbody tr th {\n",
       "        vertical-align: top;\n",
       "    }\n",
       "\n",
       "    .dataframe thead th {\n",
       "        text-align: right;\n",
       "    }\n",
       "</style>\n",
       "<table border=\"1\" class=\"dataframe\">\n",
       "  <thead>\n",
       "    <tr style=\"text-align: right;\">\n",
       "      <th></th>\n",
       "      <th>id</th>\n",
       "      <th>title</th>\n",
       "      <th>tag</th>\n",
       "      <th>imdb_id</th>\n",
       "      <th>poster_path</th>\n",
       "    </tr>\n",
       "  </thead>\n",
       "  <tbody>\n",
       "    <tr>\n",
       "      <th>0</th>\n",
       "      <td>27205</td>\n",
       "      <td>Inception</td>\n",
       "      <td>[Cobb,, a, skilled, thief, who, commits, corpo...</td>\n",
       "      <td>tt1375666</td>\n",
       "      <td>/oYuLEt3zVCKq57qu2F8dT7NIa6f.jpg</td>\n",
       "    </tr>\n",
       "    <tr>\n",
       "      <th>1</th>\n",
       "      <td>157336</td>\n",
       "      <td>Interstellar</td>\n",
       "      <td>[The, adventures, of, a, group, of, explorers,...</td>\n",
       "      <td>tt0816692</td>\n",
       "      <td>/gEU2QniE6E77NI6lCU6MxlNBvIx.jpg</td>\n",
       "    </tr>\n",
       "    <tr>\n",
       "      <th>2</th>\n",
       "      <td>155</td>\n",
       "      <td>The Dark Knight</td>\n",
       "      <td>[Batman, raises, the, stakes, in, his, war, on...</td>\n",
       "      <td>tt0468569</td>\n",
       "      <td>/qJ2tW6WMUDux911r6m7haRef0WH.jpg</td>\n",
       "    </tr>\n",
       "    <tr>\n",
       "      <th>3</th>\n",
       "      <td>19995</td>\n",
       "      <td>Avatar</td>\n",
       "      <td>[In, the, 22nd, century,, a, paraplegic, Marin...</td>\n",
       "      <td>tt0499549</td>\n",
       "      <td>/kyeqWdyUXW608qlYkRqosgbbJyK.jpg</td>\n",
       "    </tr>\n",
       "    <tr>\n",
       "      <th>4</th>\n",
       "      <td>24428</td>\n",
       "      <td>The Avengers</td>\n",
       "      <td>[When, an, unexpected, enemy, emerges, and, th...</td>\n",
       "      <td>tt0848228</td>\n",
       "      <td>/RYMX2wcKCBAr24UyPD7xwmjaTn.jpg</td>\n",
       "    </tr>\n",
       "  </tbody>\n",
       "</table>\n",
       "</div>"
      ],
      "text/plain": [
       "       id            title                                                tag  \\\n",
       "0   27205        Inception  [Cobb,, a, skilled, thief, who, commits, corpo...   \n",
       "1  157336     Interstellar  [The, adventures, of, a, group, of, explorers,...   \n",
       "2     155  The Dark Knight  [Batman, raises, the, stakes, in, his, war, on...   \n",
       "3   19995           Avatar  [In, the, 22nd, century,, a, paraplegic, Marin...   \n",
       "4   24428     The Avengers  [When, an, unexpected, enemy, emerges, and, th...   \n",
       "\n",
       "     imdb_id                       poster_path  \n",
       "0  tt1375666  /oYuLEt3zVCKq57qu2F8dT7NIa6f.jpg  \n",
       "1  tt0816692  /gEU2QniE6E77NI6lCU6MxlNBvIx.jpg  \n",
       "2  tt0468569  /qJ2tW6WMUDux911r6m7haRef0WH.jpg  \n",
       "3  tt0499549  /kyeqWdyUXW608qlYkRqosgbbJyK.jpg  \n",
       "4  tt0848228   /RYMX2wcKCBAr24UyPD7xwmjaTn.jpg  "
      ]
     },
     "execution_count": 174,
     "metadata": {},
     "output_type": "execute_result"
    }
   ],
   "source": [
    "new_df.head()"
   ]
  },
  {
   "cell_type": "code",
   "execution_count": 175,
   "id": "05d2272d",
   "metadata": {},
   "outputs": [
    {
     "data": {
      "text/plain": [
       "0    Cobb, a skilled thief who commits corporate es...\n",
       "1    The adventures of a group of explorers who mak...\n",
       "2    Batman raises the stakes in his war on crime. ...\n",
       "3    In the 22nd century, a paraplegic Marine is di...\n",
       "4    When an unexpected enemy emerges and threatens...\n",
       "5    The origin story of former Special Forces oper...\n",
       "6    As the Avengers and their allies have continue...\n",
       "7    Light years from Earth, 26 years after being a...\n",
       "8    Harry Potter has lived under the stairs at his...\n",
       "9    After being held captive in an Afghan cave, bi...\n",
       "Name: tag, dtype: object"
      ]
     },
     "execution_count": 175,
     "metadata": {},
     "output_type": "execute_result"
    }
   ],
   "source": [
    "new_df['tag'].apply(lambda x:\" \".join((x)))[:10]"
   ]
  },
  {
   "cell_type": "code",
   "execution_count": 176,
   "id": "b51105f9",
   "metadata": {},
   "outputs": [
    {
     "name": "stderr",
     "output_type": "stream",
     "text": [
      "C:\\Users\\sifta\\AppData\\Local\\Temp\\ipykernel_3140\\4079141722.py:1: SettingWithCopyWarning: \n",
      "A value is trying to be set on a copy of a slice from a DataFrame.\n",
      "Try using .loc[row_indexer,col_indexer] = value instead\n",
      "\n",
      "See the caveats in the documentation: https://pandas.pydata.org/pandas-docs/stable/user_guide/indexing.html#returning-a-view-versus-a-copy\n",
      "  new_df['tag']=new_df['tag'].apply(lambda x:\" \".join(x))\n"
     ]
    }
   ],
   "source": [
    "new_df['tag']=new_df['tag'].apply(lambda x:\" \".join(x))"
   ]
  },
  {
   "cell_type": "code",
   "execution_count": 177,
   "id": "2cbf79cf",
   "metadata": {},
   "outputs": [
    {
     "data": {
      "text/html": [
       "<div>\n",
       "<style scoped>\n",
       "    .dataframe tbody tr th:only-of-type {\n",
       "        vertical-align: middle;\n",
       "    }\n",
       "\n",
       "    .dataframe tbody tr th {\n",
       "        vertical-align: top;\n",
       "    }\n",
       "\n",
       "    .dataframe thead th {\n",
       "        text-align: right;\n",
       "    }\n",
       "</style>\n",
       "<table border=\"1\" class=\"dataframe\">\n",
       "  <thead>\n",
       "    <tr style=\"text-align: right;\">\n",
       "      <th></th>\n",
       "      <th>id</th>\n",
       "      <th>title</th>\n",
       "      <th>tag</th>\n",
       "      <th>imdb_id</th>\n",
       "      <th>poster_path</th>\n",
       "    </tr>\n",
       "  </thead>\n",
       "  <tbody>\n",
       "    <tr>\n",
       "      <th>0</th>\n",
       "      <td>27205</td>\n",
       "      <td>Inception</td>\n",
       "      <td>Cobb, a skilled thief who commits corporate es...</td>\n",
       "      <td>tt1375666</td>\n",
       "      <td>/oYuLEt3zVCKq57qu2F8dT7NIa6f.jpg</td>\n",
       "    </tr>\n",
       "    <tr>\n",
       "      <th>1</th>\n",
       "      <td>157336</td>\n",
       "      <td>Interstellar</td>\n",
       "      <td>The adventures of a group of explorers who mak...</td>\n",
       "      <td>tt0816692</td>\n",
       "      <td>/gEU2QniE6E77NI6lCU6MxlNBvIx.jpg</td>\n",
       "    </tr>\n",
       "    <tr>\n",
       "      <th>2</th>\n",
       "      <td>155</td>\n",
       "      <td>The Dark Knight</td>\n",
       "      <td>Batman raises the stakes in his war on crime. ...</td>\n",
       "      <td>tt0468569</td>\n",
       "      <td>/qJ2tW6WMUDux911r6m7haRef0WH.jpg</td>\n",
       "    </tr>\n",
       "    <tr>\n",
       "      <th>3</th>\n",
       "      <td>19995</td>\n",
       "      <td>Avatar</td>\n",
       "      <td>In the 22nd century, a paraplegic Marine is di...</td>\n",
       "      <td>tt0499549</td>\n",
       "      <td>/kyeqWdyUXW608qlYkRqosgbbJyK.jpg</td>\n",
       "    </tr>\n",
       "    <tr>\n",
       "      <th>4</th>\n",
       "      <td>24428</td>\n",
       "      <td>The Avengers</td>\n",
       "      <td>When an unexpected enemy emerges and threatens...</td>\n",
       "      <td>tt0848228</td>\n",
       "      <td>/RYMX2wcKCBAr24UyPD7xwmjaTn.jpg</td>\n",
       "    </tr>\n",
       "  </tbody>\n",
       "</table>\n",
       "</div>"
      ],
      "text/plain": [
       "       id            title                                                tag  \\\n",
       "0   27205        Inception  Cobb, a skilled thief who commits corporate es...   \n",
       "1  157336     Interstellar  The adventures of a group of explorers who mak...   \n",
       "2     155  The Dark Knight  Batman raises the stakes in his war on crime. ...   \n",
       "3   19995           Avatar  In the 22nd century, a paraplegic Marine is di...   \n",
       "4   24428     The Avengers  When an unexpected enemy emerges and threatens...   \n",
       "\n",
       "     imdb_id                       poster_path  \n",
       "0  tt1375666  /oYuLEt3zVCKq57qu2F8dT7NIa6f.jpg  \n",
       "1  tt0816692  /gEU2QniE6E77NI6lCU6MxlNBvIx.jpg  \n",
       "2  tt0468569  /qJ2tW6WMUDux911r6m7haRef0WH.jpg  \n",
       "3  tt0499549  /kyeqWdyUXW608qlYkRqosgbbJyK.jpg  \n",
       "4  tt0848228   /RYMX2wcKCBAr24UyPD7xwmjaTn.jpg  "
      ]
     },
     "execution_count": 177,
     "metadata": {},
     "output_type": "execute_result"
    }
   ],
   "source": [
    "new_df.head()"
   ]
  },
  {
   "cell_type": "code",
   "execution_count": 178,
   "id": "2077e409",
   "metadata": {},
   "outputs": [
    {
     "data": {
      "text/plain": [
       "'Cobb, a skilled thief who commits corporate espionage by infiltrating the subconscious of his targets is offered a chance to regain his old life as payment for a task considered to be impossible: \"inception\", the implantation of another person\\'s idea into a target\\'s subconscious. Action ScienceFiction Adventure 8.5 LeonardoDiCaprio ChristopherNolan KenWatanabe JosephGordon-Levitt TomHardy'"
      ]
     },
     "execution_count": 178,
     "metadata": {},
     "output_type": "execute_result"
    }
   ],
   "source": [
    "new_df['tag'][0]"
   ]
  },
  {
   "cell_type": "code",
   "execution_count": 179,
   "id": "94080fb4",
   "metadata": {},
   "outputs": [],
   "source": [
    "# convert this all to lower so that it will be uncased"
   ]
  },
  {
   "cell_type": "code",
   "execution_count": 180,
   "id": "f3a9b20d",
   "metadata": {},
   "outputs": [
    {
     "name": "stderr",
     "output_type": "stream",
     "text": [
      "C:\\Users\\sifta\\AppData\\Local\\Temp\\ipykernel_3140\\2370209156.py:1: SettingWithCopyWarning: \n",
      "A value is trying to be set on a copy of a slice from a DataFrame.\n",
      "Try using .loc[row_indexer,col_indexer] = value instead\n",
      "\n",
      "See the caveats in the documentation: https://pandas.pydata.org/pandas-docs/stable/user_guide/indexing.html#returning-a-view-versus-a-copy\n",
      "  new_df['tag']=new_df['tag'].apply(lambda x: x.lower())\n"
     ]
    }
   ],
   "source": [
    "new_df['tag']=new_df['tag'].apply(lambda x: x.lower())"
   ]
  },
  {
   "cell_type": "code",
   "execution_count": 181,
   "id": "fe0b1957",
   "metadata": {},
   "outputs": [
    {
     "data": {
      "text/plain": [
       "'cobb, a skilled thief who commits corporate espionage by infiltrating the subconscious of his targets is offered a chance to regain his old life as payment for a task considered to be impossible: \"inception\", the implantation of another person\\'s idea into a target\\'s subconscious. action sciencefiction adventure 8.5 leonardodicaprio christophernolan kenwatanabe josephgordon-levitt tomhardy'"
      ]
     },
     "execution_count": 181,
     "metadata": {},
     "output_type": "execute_result"
    }
   ],
   "source": [
    "new_df['tag'][0]"
   ]
  },
  {
   "cell_type": "markdown",
   "id": "b2fbde8a",
   "metadata": {},
   "source": [
    "### Finding the similarity b/w the different movies"
   ]
  },
  {
   "cell_type": "markdown",
   "id": "452fbcb8",
   "metadata": {},
   "source": [
    "#### Following are basically the steps which I will perform"
   ]
  },
  {
   "cell_type": "raw",
   "id": "f51bff83",
   "metadata": {},
   "source": [
    "OUR WORK IS BASICALLY FINDING THE SIMILARY B/W\n",
    "THESE TWO MOVIE TAGS.\n",
    "\n",
    "what we can do is, we can calculate the summation of\n",
    "common words in both two movies or say with other movies tags\n",
    "which is not a good way \n",
    "\n",
    "This give rise to Vectorization\n",
    "\n",
    "So what we basically do is that we will convert all\n",
    "10000 movies tags in to vector and calculate the similarity\n",
    "between them, the more similar they are, the more closer they are.\n",
    "\n",
    "So, we need to convert text --> vectors, basically.\n",
    "\n",
    "we will use tfidf\n",
    "\n",
    "To do that first we will combine all tags tag1+tag2..... +tag80000\n",
    "\n",
    "we will now find 8000 most common words\n",
    "\n",
    "\n",
    "we will again go to each tag and calculate the frequency\n",
    "of 5000 mcs in each movie's tag, which will be nothing\n",
    "but we can say a vector representation of each movie's tag."
   ]
  },
  {
   "cell_type": "markdown",
   "id": "7564ca96",
   "metadata": {},
   "source": [
    "### Importing tfidfVectorizer to finally convert each movie in to a vector"
   ]
  },
  {
   "cell_type": "code",
   "execution_count": 182,
   "id": "933660b9",
   "metadata": {},
   "outputs": [],
   "source": [
    "from sklearn.feature_extraction.text import TfidfVectorizer"
   ]
  },
  {
   "cell_type": "code",
   "execution_count": 183,
   "id": "0351bbfd",
   "metadata": {},
   "outputs": [],
   "source": [
    "tfidf=TfidfVectorizer(max_features=10000, stop_words='english')"
   ]
  },
  {
   "cell_type": "code",
   "execution_count": 184,
   "id": "6e391428",
   "metadata": {},
   "outputs": [
    {
     "data": {
      "text/plain": [
       "array([[0., 0., 0., ..., 0., 0., 0.],\n",
       "       [0., 0., 0., ..., 0., 0., 0.],\n",
       "       [0., 0., 0., ..., 0., 0., 0.],\n",
       "       ...,\n",
       "       [0., 0., 0., ..., 0., 0., 0.],\n",
       "       [0., 0., 0., ..., 0., 0., 0.],\n",
       "       [0., 0., 0., ..., 0., 0., 0.]])"
      ]
     },
     "execution_count": 184,
     "metadata": {},
     "output_type": "execute_result"
    }
   ],
   "source": [
    "tfidf.fit_transform(new_df['tag']).toarray()\n",
    "# tfidf.fit_transform will basically give scipy sparse matrix\n",
    "# so we will convert it to array"
   ]
  },
  {
   "cell_type": "code",
   "execution_count": 185,
   "id": "e3d75cb9",
   "metadata": {},
   "outputs": [
    {
     "data": {
      "text/plain": [
       "(19059, 10000)"
      ]
     },
     "execution_count": 185,
     "metadata": {},
     "output_type": "execute_result"
    }
   ],
   "source": [
    "tfidf.fit_transform(new_df['tag']).toarray().shape"
   ]
  },
  {
   "cell_type": "code",
   "execution_count": 186,
   "id": "a28a1d80",
   "metadata": {},
   "outputs": [],
   "source": [
    "vectors=tfidf.fit_transform(new_df['tag']).toarray()"
   ]
  },
  {
   "cell_type": "code",
   "execution_count": 187,
   "id": "68db0a68",
   "metadata": {},
   "outputs": [
    {
     "data": {
      "text/html": [
       "<div>\n",
       "<style scoped>\n",
       "    .dataframe tbody tr th:only-of-type {\n",
       "        vertical-align: middle;\n",
       "    }\n",
       "\n",
       "    .dataframe tbody tr th {\n",
       "        vertical-align: top;\n",
       "    }\n",
       "\n",
       "    .dataframe thead th {\n",
       "        text-align: right;\n",
       "    }\n",
       "</style>\n",
       "<table border=\"1\" class=\"dataframe\">\n",
       "  <thead>\n",
       "    <tr style=\"text-align: right;\">\n",
       "      <th></th>\n",
       "      <th>id</th>\n",
       "      <th>title</th>\n",
       "      <th>tag</th>\n",
       "      <th>imdb_id</th>\n",
       "      <th>poster_path</th>\n",
       "    </tr>\n",
       "  </thead>\n",
       "  <tbody>\n",
       "    <tr>\n",
       "      <th>0</th>\n",
       "      <td>27205</td>\n",
       "      <td>Inception</td>\n",
       "      <td>cobb, a skilled thief who commits corporate es...</td>\n",
       "      <td>tt1375666</td>\n",
       "      <td>/oYuLEt3zVCKq57qu2F8dT7NIa6f.jpg</td>\n",
       "    </tr>\n",
       "  </tbody>\n",
       "</table>\n",
       "</div>"
      ],
      "text/plain": [
       "      id      title                                                tag  \\\n",
       "0  27205  Inception  cobb, a skilled thief who commits corporate es...   \n",
       "\n",
       "     imdb_id                       poster_path  \n",
       "0  tt1375666  /oYuLEt3zVCKq57qu2F8dT7NIa6f.jpg  "
      ]
     },
     "execution_count": 187,
     "metadata": {},
     "output_type": "execute_result"
    }
   ],
   "source": [
    "new_df.head(1)"
   ]
  },
  {
   "cell_type": "code",
   "execution_count": 188,
   "id": "dbd0dd15",
   "metadata": {},
   "outputs": [
    {
     "data": {
      "text/plain": [
       "array([0., 0., 0., ..., 0., 0., 0.])"
      ]
     },
     "execution_count": 188,
     "metadata": {},
     "output_type": "execute_result"
    }
   ],
   "source": [
    "vectors[0]\n",
    "# for inception\n",
    "# note that most values will be 0, bcz there are 10000 features."
   ]
  },
  {
   "cell_type": "code",
   "execution_count": 189,
   "id": "e9e4101f",
   "metadata": {},
   "outputs": [
    {
     "name": "stderr",
     "output_type": "stream",
     "text": [
      "C:\\Users\\sifta\\anaconda3\\lib\\site-packages\\sklearn\\utils\\deprecation.py:87: FutureWarning: Function get_feature_names is deprecated; get_feature_names is deprecated in 1.0 and will be removed in 1.2. Please use get_feature_names_out instead.\n",
      "  warnings.warn(msg, category=FutureWarning)\n"
     ]
    },
    {
     "data": {
      "text/plain": [
       "['000', '10', '100', '10th', '11', '11th', '12', '13', '13th', '14']"
      ]
     },
     "execution_count": 189,
     "metadata": {},
     "output_type": "execute_result"
    }
   ],
   "source": [
    "tfidf.get_feature_names()[:10]"
   ]
  },
  {
   "cell_type": "code",
   "execution_count": 190,
   "id": "47163b1e",
   "metadata": {},
   "outputs": [
    {
     "data": {
      "text/plain": [
       "10000"
      ]
     },
     "execution_count": 190,
     "metadata": {},
     "output_type": "execute_result"
    }
   ],
   "source": [
    "len(tfidf.get_feature_names())"
   ]
  },
  {
   "cell_type": "markdown",
   "id": "c701e5d7",
   "metadata": {},
   "source": [
    "### Performing Lemmatization to reduce unnecessary different forms of the same word"
   ]
  },
  {
   "cell_type": "code",
   "execution_count": 191,
   "id": "b687d436",
   "metadata": {},
   "outputs": [],
   "source": [
    "# if we look in tfidf.get_feature_names() there are many\n",
    "# words which are same, but in different forms\n",
    "# like activity,activities\n",
    "# action,actions etc..\n",
    "# so we can perform stemming/lemmatization"
   ]
  },
  {
   "cell_type": "code",
   "execution_count": 192,
   "id": "91f869de",
   "metadata": {},
   "outputs": [],
   "source": [
    "import nltk "
   ]
  },
  {
   "cell_type": "code",
   "execution_count": 193,
   "id": "ae1bc3db",
   "metadata": {},
   "outputs": [],
   "source": [
    "from nltk.stem.porter import PorterStemmer\n",
    "ps=PorterStemmer()"
   ]
  },
  {
   "cell_type": "code",
   "execution_count": 194,
   "id": "8047bebd",
   "metadata": {},
   "outputs": [],
   "source": [
    "def stem(text):\n",
    "    y=[]\n",
    "    \n",
    "    for i in text.split():\n",
    "        ps.stem(i)"
   ]
  },
  {
   "cell_type": "code",
   "execution_count": 195,
   "id": "0b780f4f",
   "metadata": {},
   "outputs": [
    {
     "data": {
      "text/plain": [
       "'love'"
      ]
     },
     "execution_count": 195,
     "metadata": {},
     "output_type": "execute_result"
    }
   ],
   "source": [
    "ps.stem('loved')"
   ]
  },
  {
   "cell_type": "code",
   "execution_count": 196,
   "id": "51ff31d9",
   "metadata": {},
   "outputs": [],
   "source": [
    "def stem(text):\n",
    "    y=[]\n",
    "    \n",
    "    for i in text.split():\n",
    "        y.append(ps.stem(i))\n",
    "    return \" \".join(y)  "
   ]
  },
  {
   "cell_type": "code",
   "execution_count": 197,
   "id": "8e3409d3",
   "metadata": {},
   "outputs": [
    {
     "data": {
      "text/plain": [
       "'cobb, a skilled thief who commits corporate espionage by infiltrating the subconscious of his targets is offered a chance to regain his old life as payment for a task considered to be impossible: \"inception\", the implantation of another person\\'s idea into a target\\'s subconscious. action sciencefiction adventure 8.5 leonardodicaprio christophernolan kenwatanabe josephgordon-levitt tomhardy'"
      ]
     },
     "execution_count": 197,
     "metadata": {},
     "output_type": "execute_result"
    }
   ],
   "source": [
    "new_df['tag'][0]"
   ]
  },
  {
   "cell_type": "code",
   "execution_count": 198,
   "id": "fb7f02c6",
   "metadata": {},
   "outputs": [
    {
     "data": {
      "text/plain": [
       "'cobb, a skill thief who commit corpor espionag by infiltr the subconsci of hi target is offer a chanc to regain hi old life as payment for a task consid to be impossible: \"inception\", the implant of anoth person\\' idea into a target\\' subconscious. action sciencefict adventur 8.5 leonardodicaprio christophernolan kenwatanab josephgordon-levitt tomhardi'"
      ]
     },
     "execution_count": 198,
     "metadata": {},
     "output_type": "execute_result"
    }
   ],
   "source": [
    "stem(new_df['tag'][0])"
   ]
  },
  {
   "cell_type": "code",
   "execution_count": 199,
   "id": "3be009b9",
   "metadata": {},
   "outputs": [
    {
     "name": "stderr",
     "output_type": "stream",
     "text": [
      "C:\\Users\\sifta\\AppData\\Local\\Temp\\ipykernel_3140\\599176683.py:1: SettingWithCopyWarning: \n",
      "A value is trying to be set on a copy of a slice from a DataFrame.\n",
      "Try using .loc[row_indexer,col_indexer] = value instead\n",
      "\n",
      "See the caveats in the documentation: https://pandas.pydata.org/pandas-docs/stable/user_guide/indexing.html#returning-a-view-versus-a-copy\n",
      "  new_df['tag']=new_df['tag'].apply(stem)\n"
     ]
    }
   ],
   "source": [
    "new_df['tag']=new_df['tag'].apply(stem)"
   ]
  },
  {
   "cell_type": "code",
   "execution_count": 200,
   "id": "cc858891",
   "metadata": {},
   "outputs": [
    {
     "data": {
      "text/plain": [
       "array(['cobb, a skill thief who commit corpor espionag by infiltr the subconsci of hi target is offer a chanc to regain hi old life as payment for a task consid to be impossible: \"inception\", the implant of anoth person\\' idea into a target\\' subconscious. action sciencefict adventur 8.5 leonardodicaprio christophernolan kenwatanab josephgordon-levitt tomhardi',\n",
       "       'the adventur of a group of explor who make use of a newli discov wormhol to surpass the limit on human space travel and conquer the vast distanc involv in an interstellar voyage. adventur drama sciencefict 8.5 christophernolan michaelcain annehathaway jessicachastain matthewmcconaughey jonathannolan',\n",
       "       'batman rais the stake in hi war on crime. with the help of lt. jim gordon and district attorney harvey dent, batman set out to dismantl the remain crimin organ that plagu the streets. the partnership prove to be effective, but they soon find themselv prey to a reign of chao unleash by a rise crimin mastermind known to the terrifi citizen of gotham as the joker. drama action crime thriller 8.5 garyoldman christophernolan christianbal heathledg michaelcain jonathannolan'],\n",
       "      dtype=object)"
      ]
     },
     "execution_count": 200,
     "metadata": {},
     "output_type": "execute_result"
    }
   ],
   "source": [
    "new_df['tag'][:3].values"
   ]
  },
  {
   "cell_type": "markdown",
   "id": "ba62f541",
   "metadata": {},
   "source": [
    "### Doing the same process once again after Lemmatization"
   ]
  },
  {
   "cell_type": "code",
   "execution_count": 201,
   "id": "d687c739",
   "metadata": {},
   "outputs": [],
   "source": [
    "tfidf=TfidfVectorizer(max_features=10000, stop_words='english')\n",
    "vectors=tfidf.fit_transform(new_df['tag']).toarray()"
   ]
  },
  {
   "cell_type": "code",
   "execution_count": 202,
   "id": "04cd1b82",
   "metadata": {},
   "outputs": [
    {
     "data": {
      "text/plain": [
       "array([0., 0., 0., ..., 0., 0., 0.])"
      ]
     },
     "execution_count": 202,
     "metadata": {},
     "output_type": "execute_result"
    }
   ],
   "source": [
    "vectors[0]"
   ]
  },
  {
   "cell_type": "code",
   "execution_count": 203,
   "id": "594d29f8",
   "metadata": {},
   "outputs": [
    {
     "data": {
      "text/plain": [
       "['000', '10', '100', '10th', '11', '11th', '12', '12th', '13', '13th']"
      ]
     },
     "execution_count": 203,
     "metadata": {},
     "output_type": "execute_result"
    }
   ],
   "source": [
    "tfidf.get_feature_names()[:10]"
   ]
  },
  {
   "cell_type": "code",
   "execution_count": null,
   "id": "a30c1bba",
   "metadata": {},
   "outputs": [],
   "source": [
    "# Now we will use the cosine distance to measure the \n",
    "# similarity of each movie with all other movies.\n",
    "\n",
    "# distance INVERSENLY PROPORTIONAL TO similarity as we know"
   ]
  },
  {
   "cell_type": "markdown",
   "id": "b47bac1f",
   "metadata": {},
   "source": [
    "### Calculating cosine_similarity of one movie's vector to all other movie's vectors"
   ]
  },
  {
   "cell_type": "code",
   "execution_count": 204,
   "id": "c26adeaf",
   "metadata": {},
   "outputs": [],
   "source": [
    "from sklearn.metrics.pairwise import cosine_similarity"
   ]
  },
  {
   "cell_type": "code",
   "execution_count": 205,
   "id": "c1eb7592",
   "metadata": {},
   "outputs": [
    {
     "data": {
      "text/plain": [
       "array([[1.        , 0.09971254, 0.05204858, ..., 0.00690425, 0.02331524,\n",
       "        0.02390356],\n",
       "       [0.09971254, 1.        , 0.09964989, ..., 0.00404489, 0.00391806,\n",
       "        0.00318623],\n",
       "       [0.05204858, 0.09964989, 1.        , ..., 0.06617525, 0.00847376,\n",
       "        0.03495219],\n",
       "       ...,\n",
       "       [0.00690425, 0.00404489, 0.06617525, ..., 1.        , 0.00934457,\n",
       "        0.01933175],\n",
       "       [0.02331524, 0.00391806, 0.00847376, ..., 0.00934457, 1.        ,\n",
       "        0.02521632],\n",
       "       [0.02390356, 0.00318623, 0.03495219, ..., 0.01933175, 0.02521632,\n",
       "        1.        ]])"
      ]
     },
     "execution_count": 205,
     "metadata": {},
     "output_type": "execute_result"
    }
   ],
   "source": [
    "cosine_similarity(vectors)\n",
    "# basically, it will calculate the similarity of each movie with all other movies."
   ]
  },
  {
   "cell_type": "code",
   "execution_count": 206,
   "id": "00ea599f",
   "metadata": {},
   "outputs": [],
   "source": [
    "similarity=cosine_similarity(vectors)"
   ]
  },
  {
   "cell_type": "code",
   "execution_count": 207,
   "id": "7ce1cf44",
   "metadata": {},
   "outputs": [
    {
     "data": {
      "text/plain": [
       "(19059, 19059)"
      ]
     },
     "execution_count": 207,
     "metadata": {},
     "output_type": "execute_result"
    }
   ],
   "source": [
    "similarity.shape\n",
    "# basically array of arrays"
   ]
  },
  {
   "cell_type": "code",
   "execution_count": 208,
   "id": "70163b9b",
   "metadata": {},
   "outputs": [
    {
     "data": {
      "text/plain": [
       "array([1.        , 0.09971254, 0.05204858, 0.02796439, 0.02422752,\n",
       "       0.03009218, 0.02895455, 0.095007  , 0.03802574, 0.02596185])"
      ]
     },
     "execution_count": 208,
     "metadata": {},
     "output_type": "execute_result"
    }
   ],
   "source": [
    "similarity[0][:10]\n",
    "# basically tells the similarity b/w all movies\n",
    "# also note that similarity b/w itself is 1."
   ]
  },
  {
   "cell_type": "code",
   "execution_count": 209,
   "id": "9879e5e3",
   "metadata": {},
   "outputs": [
    {
     "data": {
      "text/plain": [
       "(19059,)"
      ]
     },
     "execution_count": 209,
     "metadata": {},
     "output_type": "execute_result"
    }
   ],
   "source": [
    "similarity[0].shape"
   ]
  },
  {
   "cell_type": "code",
   "execution_count": 210,
   "id": "490f6696",
   "metadata": {},
   "outputs": [
    {
     "data": {
      "text/plain": [
       "array([0.05204858, 0.09964989, 1.        , 0.00525454, 0.02149627,\n",
       "       0.00863588, 0.00754712, 0.0055333 , 0.01769278, 0.00487826])"
      ]
     },
     "execution_count": 210,
     "metadata": {},
     "output_type": "execute_result"
    }
   ],
   "source": [
    "similarity[2][:10]"
   ]
  },
  {
   "cell_type": "code",
   "execution_count": 211,
   "id": "0ecb14f5",
   "metadata": {},
   "outputs": [
    {
     "data": {
      "text/html": [
       "<div>\n",
       "<style scoped>\n",
       "    .dataframe tbody tr th:only-of-type {\n",
       "        vertical-align: middle;\n",
       "    }\n",
       "\n",
       "    .dataframe tbody tr th {\n",
       "        vertical-align: top;\n",
       "    }\n",
       "\n",
       "    .dataframe thead th {\n",
       "        text-align: right;\n",
       "    }\n",
       "</style>\n",
       "<table border=\"1\" class=\"dataframe\">\n",
       "  <thead>\n",
       "    <tr style=\"text-align: right;\">\n",
       "      <th></th>\n",
       "      <th>id</th>\n",
       "      <th>title</th>\n",
       "      <th>tag</th>\n",
       "      <th>imdb_id</th>\n",
       "      <th>poster_path</th>\n",
       "    </tr>\n",
       "  </thead>\n",
       "  <tbody>\n",
       "    <tr>\n",
       "      <th>3</th>\n",
       "      <td>19995</td>\n",
       "      <td>Avatar</td>\n",
       "      <td>in the 22nd century, a parapleg marin is dispa...</td>\n",
       "      <td>tt0499549</td>\n",
       "      <td>/kyeqWdyUXW608qlYkRqosgbbJyK.jpg</td>\n",
       "    </tr>\n",
       "  </tbody>\n",
       "</table>\n",
       "</div>"
      ],
      "text/plain": [
       "      id   title                                                tag  \\\n",
       "3  19995  Avatar  in the 22nd century, a parapleg marin is dispa...   \n",
       "\n",
       "     imdb_id                       poster_path  \n",
       "3  tt0499549  /kyeqWdyUXW608qlYkRqosgbbJyK.jpg  "
      ]
     },
     "execution_count": 211,
     "metadata": {},
     "output_type": "execute_result"
    }
   ],
   "source": [
    "new_df[new_df['title']=='Avatar']"
   ]
  },
  {
   "cell_type": "code",
   "execution_count": 212,
   "id": "526f1d1a",
   "metadata": {},
   "outputs": [
    {
     "data": {
      "text/plain": [
       "3"
      ]
     },
     "execution_count": 212,
     "metadata": {},
     "output_type": "execute_result"
    }
   ],
   "source": [
    "new_df[new_df['title']=='Avatar'].index[0]"
   ]
  },
  {
   "cell_type": "code",
   "execution_count": 213,
   "id": "e756b7f6",
   "metadata": {},
   "outputs": [
    {
     "data": {
      "text/plain": [
       "35"
      ]
     },
     "execution_count": 213,
     "metadata": {},
     "output_type": "execute_result"
    }
   ],
   "source": [
    "new_df[new_df['title']=='Batman Begins'].index[0]"
   ]
  },
  {
   "cell_type": "code",
   "execution_count": 214,
   "id": "a0b497e6",
   "metadata": {},
   "outputs": [
    {
     "data": {
      "text/plain": [
       "array([0.07495082, 0.1196105 , 0.28082261, 0.00630706, 0.00546425,\n",
       "       0.02885164, 0.0200178 , 0.00664166, 0.0477235 , 0.06938214])"
      ]
     },
     "execution_count": 214,
     "metadata": {},
     "output_type": "execute_result"
    }
   ],
   "source": [
    "similarity[new_df[new_df['title']=='Batman Begins'].index[0]][:10]"
   ]
  },
  {
   "cell_type": "code",
   "execution_count": 215,
   "id": "adb85079",
   "metadata": {},
   "outputs": [
    {
     "data": {
      "text/plain": [
       "[0.1318390457813527,\n",
       " 0.13988350072703723,\n",
       " 0.14150678305719686,\n",
       " 0.14265695137876827,\n",
       " 0.14836883538346263,\n",
       " 0.15662150034498204,\n",
       " 0.15815353219241435,\n",
       " 0.17813885540036198,\n",
       " 0.21580525975192716]"
      ]
     },
     "execution_count": 215,
     "metadata": {},
     "output_type": "execute_result"
    }
   ],
   "source": [
    "sorted(similarity[0])[-10:-1]\n",
    "# But the problem here is we are loosing the ID's of movie in this way"
   ]
  },
  {
   "cell_type": "code",
   "execution_count": 216,
   "id": "4583123a",
   "metadata": {},
   "outputs": [
    {
     "data": {
      "text/plain": [
       "[1.0,\n",
       " 0.21580525975192716,\n",
       " 0.17813885540036198,\n",
       " 0.15815353219241435,\n",
       " 0.15662150034498204,\n",
       " 0.14836883538346263,\n",
       " 0.14265695137876827,\n",
       " 0.14150678305719686,\n",
       " 0.13988350072703723,\n",
       " 0.1318390457813527]"
      ]
     },
     "execution_count": 216,
     "metadata": {},
     "output_type": "execute_result"
    }
   ],
   "source": [
    "sorted(similarity[0],reverse=True)[:10]"
   ]
  },
  {
   "cell_type": "code",
   "execution_count": 217,
   "id": "a340c8ef",
   "metadata": {},
   "outputs": [
    {
     "data": {
      "text/plain": [
       "[(0, 1.0),\n",
       " (1, 0.09971254301876825),\n",
       " (2, 0.05204857743632445),\n",
       " (3, 0.027964392731886084),\n",
       " (4, 0.024227515737582132),\n",
       " (5, 0.03009218168100579),\n",
       " (6, 0.02895454987863552),\n",
       " (7, 0.09500699525244051),\n",
       " (8, 0.03802574140957514),\n",
       " (9, 0.025961847818819345)]"
      ]
     },
     "execution_count": 217,
     "metadata": {},
     "output_type": "execute_result"
    }
   ],
   "source": [
    "# To retain IDs/index of all movies\n",
    "list(enumerate(similarity[0]))[:10]\n",
    "# Here we we have created both index and similarity score"
   ]
  },
  {
   "cell_type": "code",
   "execution_count": 218,
   "id": "69815430",
   "metadata": {},
   "outputs": [
    {
     "data": {
      "text/plain": [
       "[(19058, 0.02390356060931154),\n",
       " (19057, 0.02331524158193245),\n",
       " (19056, 0.006904245058454112),\n",
       " (19055, 0.0),\n",
       " (19054, 0.0),\n",
       " (19053, 0.014197124606691557),\n",
       " (19052, 0.015266071106659798),\n",
       " (19051, 0.0),\n",
       " (19050, 0.0),\n",
       " (19049, 0.0)]"
      ]
     },
     "execution_count": 218,
     "metadata": {},
     "output_type": "execute_result"
    }
   ],
   "source": [
    "sorted(list(enumerate(similarity[0])),reverse=True)[:10]\n",
    "# This sorting has been done on basis of index,\n",
    "# but we want to sort on the basis of similarity"
   ]
  },
  {
   "cell_type": "code",
   "execution_count": 219,
   "id": "18be19e7",
   "metadata": {},
   "outputs": [
    {
     "data": {
      "text/plain": [
       "[(0, 1.0),\n",
       " (6276, 0.21580525975192716),\n",
       " (4035, 0.17813885540036198),\n",
       " (283, 0.15815353219241435),\n",
       " (2728, 0.15662150034498204),\n",
       " (13848, 0.14836883538346263),\n",
       " (9720, 0.14265695137876827),\n",
       " (7808, 0.14150678305719686),\n",
       " (240, 0.13988350072703723),\n",
       " (854, 0.1318390457813527)]"
      ]
     },
     "execution_count": 219,
     "metadata": {},
     "output_type": "execute_result"
    }
   ],
   "source": [
    "sorted(list(enumerate(similarity[0])),reverse=True,key=lambda x:x[1])[:10]\n",
    "# sorted on the basis of similarity score."
   ]
  },
  {
   "cell_type": "markdown",
   "id": "c67721ec",
   "metadata": {},
   "source": [
    "### Sorting the similarty score to show the most similar movies to the user"
   ]
  },
  {
   "cell_type": "code",
   "execution_count": 220,
   "id": "5065f8db",
   "metadata": {},
   "outputs": [
    {
     "data": {
      "text/plain": [
       "[(0, 1.0),\n",
       " (6276, 0.21580525975192716),\n",
       " (4035, 0.17813885540036198),\n",
       " (283, 0.15815353219241435),\n",
       " (2728, 0.15662150034498204)]"
      ]
     },
     "execution_count": 220,
     "metadata": {},
     "output_type": "execute_result"
    }
   ],
   "source": [
    "sorted(list(enumerate(similarity[0])),reverse=True,key=lambda x:x[1])[:5]\n",
    "# it will include the movie itself, so index should be [1:6], for top 5 similar movies"
   ]
  },
  {
   "cell_type": "code",
   "execution_count": 221,
   "id": "e5affafe",
   "metadata": {},
   "outputs": [
    {
     "data": {
      "text/plain": [
       "[(6276, 0.21580525975192716),\n",
       " (4035, 0.17813885540036198),\n",
       " (283, 0.15815353219241435),\n",
       " (2728, 0.15662150034498204),\n",
       " (13848, 0.14836883538346263)]"
      ]
     },
     "execution_count": 221,
     "metadata": {},
     "output_type": "execute_result"
    }
   ],
   "source": [
    "sorted(list(enumerate(similarity[0])),reverse=True,key=lambda x:x[1])[1:6]"
   ]
  },
  {
   "cell_type": "code",
   "execution_count": 222,
   "id": "25543e4d",
   "metadata": {},
   "outputs": [],
   "source": [
    "# Now we will recommend top 5 movies if user \n",
    "# requests a movie similar to entered movie."
   ]
  },
  {
   "cell_type": "code",
   "execution_count": 223,
   "id": "08eaad9f",
   "metadata": {},
   "outputs": [],
   "source": [
    "def recommend(movie,val):\n",
    "    movie_index=new_df[new_df['title']==movie].index[0]\n",
    "    distances=similarity[movie_index]\n",
    "    movies_list=sorted(list(enumerate(distances)),reverse=True,key=lambda x:x[1])[1:val+1]\n",
    "    \n",
    "    for i in movies_list:\n",
    "        print(i[0])  # will print the ID's of similar movies\n",
    "    "
   ]
  },
  {
   "cell_type": "code",
   "execution_count": 224,
   "id": "b5c7ed12",
   "metadata": {},
   "outputs": [
    {
     "name": "stdout",
     "output_type": "stream",
     "text": [
      "228\n",
      "14482\n",
      "3117\n",
      "1423\n",
      "17397\n"
     ]
    }
   ],
   "source": [
    "recommend('Avatar',5)\n",
    "# but we need movie names not the ID's"
   ]
  },
  {
   "cell_type": "code",
   "execution_count": 225,
   "id": "4fb4a27a",
   "metadata": {},
   "outputs": [
    {
     "data": {
      "text/plain": [
       "'Bird Box'"
      ]
     },
     "execution_count": 225,
     "metadata": {},
     "output_type": "execute_result"
    }
   ],
   "source": [
    "new_df.iloc[259].title"
   ]
  },
  {
   "cell_type": "markdown",
   "id": "68745e4f",
   "metadata": {},
   "source": [
    "### Function which will take the movie name and number of similar movies to recommend"
   ]
  },
  {
   "cell_type": "code",
   "execution_count": 226,
   "id": "641ae13a",
   "metadata": {},
   "outputs": [],
   "source": [
    "def recommend(movie,val):\n",
    "    movie_index=new_df[new_df['title']==movie].index[0]\n",
    "    distances=similarity[movie_index]\n",
    "    movies_list=sorted(list(enumerate(distances)),reverse=True,key=lambda x:x[1])[1:val+1]\n",
    "    \n",
    "    for i in movies_list:\n",
    "        print(new_df.iloc[i[0]].title)  # will print the names of similar movies\n",
    "    "
   ]
  },
  {
   "cell_type": "code",
   "execution_count": 227,
   "id": "1b1d0453",
   "metadata": {},
   "outputs": [
    {
     "name": "stdout",
     "output_type": "stream",
     "text": [
      "Avatar: The Way of Water\n",
      "Avatar: The Deep Dive - A Special Edition of 20/20\n",
      "Apollo 18\n",
      "The Book of Life\n",
      "Buried in Barstow\n"
     ]
    }
   ],
   "source": [
    "recommend('Avatar',5)"
   ]
  },
  {
   "cell_type": "code",
   "execution_count": 228,
   "id": "9472bd9c",
   "metadata": {},
   "outputs": [
    {
     "name": "stdout",
     "output_type": "stream",
     "text": [
      "Batman Unmasked: The Psychology of 'The Dark Knight'\n",
      "The Dark Knight\n",
      "Batman: The Dark Knight Returns\n",
      "Batman: Gotham Knight\n",
      "Batman: The Dark Knight Returns, Part 1\n"
     ]
    }
   ],
   "source": [
    "recommend('Batman Begins',5)"
   ]
  },
  {
   "cell_type": "code",
   "execution_count": 229,
   "id": "62912787",
   "metadata": {},
   "outputs": [
    {
     "name": "stdout",
     "output_type": "stream",
     "text": [
      "Qué León\n",
      "My Afternoons with Margueritte\n",
      "The Keeping Hours\n",
      "More the Merrier\n",
      "Little Boy\n"
     ]
    }
   ],
   "source": [
    "recommend('The Notebook',5)"
   ]
  },
  {
   "cell_type": "code",
   "execution_count": 230,
   "id": "3fbf33b2",
   "metadata": {},
   "outputs": [
    {
     "name": "stdout",
     "output_type": "stream",
     "text": [
      "Harry Potter and the Goblet of Fire\n",
      "Harry Potter and the Chamber of Secrets\n",
      "Harry Potter and the Prisoner of Azkaban\n",
      "Harry Potter and the Order of the Phoenix\n",
      "Harry Potter and the Deathly Hallows: Part 2\n"
     ]
    }
   ],
   "source": [
    "recommend(\"Harry Potter and the Philosopher's Stone\",5)"
   ]
  },
  {
   "cell_type": "code",
   "execution_count": 231,
   "id": "40d9b327",
   "metadata": {},
   "outputs": [
    {
     "name": "stdout",
     "output_type": "stream",
     "text": [
      "Inception: The Cobol Job\n",
      "Hesher\n",
      "Tenet\n",
      "Brick\n",
      "Comedy Central Roast of Bruce Willis\n"
     ]
    }
   ],
   "source": [
    "recommend('Inception',5)"
   ]
  },
  {
   "cell_type": "markdown",
   "id": "acca0b32",
   "metadata": {},
   "source": [
    "### Downloading the id's dictionary & similarity score to show the similar movies to the user "
   ]
  },
  {
   "cell_type": "code",
   "execution_count": 232,
   "id": "2e760e8d",
   "metadata": {},
   "outputs": [],
   "source": [
    "import pickle"
   ]
  },
  {
   "cell_type": "code",
   "execution_count": 234,
   "id": "6777f005",
   "metadata": {},
   "outputs": [],
   "source": [
    "# Converting DataFrame in to dictionary\n",
    "# new_df.to_dict()"
   ]
  },
  {
   "cell_type": "code",
   "execution_count": 257,
   "id": "6368691c",
   "metadata": {},
   "outputs": [],
   "source": [
    "pickle.dump(new_df.to_dict(),open('movie_dict20k.pkl','wb'))"
   ]
  },
  {
   "cell_type": "code",
   "execution_count": 216,
   "id": "a9a10da0",
   "metadata": {},
   "outputs": [],
   "source": [
    "# Below code will store the similarity value of each movie with other movie, But it will take a lot of space and practically we \n",
    "# only need say first 10 most similar movies it will be enough for the user.\n",
    "# So,we will store the similarity of value of top ten movies only for all movies, it will take much less space.\n",
    "\n",
    "\n",
    "\n",
    "\n",
    "# pickle.dump(similarity,open('similarity_20k.pkl','wb'))"
   ]
  },
  {
   "cell_type": "code",
   "execution_count": 236,
   "id": "7db0f734",
   "metadata": {},
   "outputs": [
    {
     "data": {
      "text/html": [
       "<div>\n",
       "<style scoped>\n",
       "    .dataframe tbody tr th:only-of-type {\n",
       "        vertical-align: middle;\n",
       "    }\n",
       "\n",
       "    .dataframe tbody tr th {\n",
       "        vertical-align: top;\n",
       "    }\n",
       "\n",
       "    .dataframe thead th {\n",
       "        text-align: right;\n",
       "    }\n",
       "</style>\n",
       "<table border=\"1\" class=\"dataframe\">\n",
       "  <thead>\n",
       "    <tr style=\"text-align: right;\">\n",
       "      <th></th>\n",
       "      <th>id</th>\n",
       "      <th>title</th>\n",
       "      <th>tag</th>\n",
       "      <th>imdb_id</th>\n",
       "      <th>poster_path</th>\n",
       "    </tr>\n",
       "  </thead>\n",
       "  <tbody>\n",
       "    <tr>\n",
       "      <th>0</th>\n",
       "      <td>27205</td>\n",
       "      <td>Inception</td>\n",
       "      <td>cobb, a skill thief who commit corpor espionag...</td>\n",
       "      <td>tt1375666</td>\n",
       "      <td>/oYuLEt3zVCKq57qu2F8dT7NIa6f.jpg</td>\n",
       "    </tr>\n",
       "    <tr>\n",
       "      <th>1</th>\n",
       "      <td>157336</td>\n",
       "      <td>Interstellar</td>\n",
       "      <td>the adventur of a group of explor who make use...</td>\n",
       "      <td>tt0816692</td>\n",
       "      <td>/gEU2QniE6E77NI6lCU6MxlNBvIx.jpg</td>\n",
       "    </tr>\n",
       "    <tr>\n",
       "      <th>2</th>\n",
       "      <td>155</td>\n",
       "      <td>The Dark Knight</td>\n",
       "      <td>batman rais the stake in hi war on crime. with...</td>\n",
       "      <td>tt0468569</td>\n",
       "      <td>/qJ2tW6WMUDux911r6m7haRef0WH.jpg</td>\n",
       "    </tr>\n",
       "    <tr>\n",
       "      <th>3</th>\n",
       "      <td>19995</td>\n",
       "      <td>Avatar</td>\n",
       "      <td>in the 22nd century, a parapleg marin is dispa...</td>\n",
       "      <td>tt0499549</td>\n",
       "      <td>/kyeqWdyUXW608qlYkRqosgbbJyK.jpg</td>\n",
       "    </tr>\n",
       "    <tr>\n",
       "      <th>4</th>\n",
       "      <td>24428</td>\n",
       "      <td>The Avengers</td>\n",
       "      <td>when an unexpect enemi emerg and threaten glob...</td>\n",
       "      <td>tt0848228</td>\n",
       "      <td>/RYMX2wcKCBAr24UyPD7xwmjaTn.jpg</td>\n",
       "    </tr>\n",
       "  </tbody>\n",
       "</table>\n",
       "</div>"
      ],
      "text/plain": [
       "       id            title                                                tag  \\\n",
       "0   27205        Inception  cobb, a skill thief who commit corpor espionag...   \n",
       "1  157336     Interstellar  the adventur of a group of explor who make use...   \n",
       "2     155  The Dark Knight  batman rais the stake in hi war on crime. with...   \n",
       "3   19995           Avatar  in the 22nd century, a parapleg marin is dispa...   \n",
       "4   24428     The Avengers  when an unexpect enemi emerg and threaten glob...   \n",
       "\n",
       "     imdb_id                       poster_path  \n",
       "0  tt1375666  /oYuLEt3zVCKq57qu2F8dT7NIa6f.jpg  \n",
       "1  tt0816692  /gEU2QniE6E77NI6lCU6MxlNBvIx.jpg  \n",
       "2  tt0468569  /qJ2tW6WMUDux911r6m7haRef0WH.jpg  \n",
       "3  tt0499549  /kyeqWdyUXW608qlYkRqosgbbJyK.jpg  \n",
       "4  tt0848228   /RYMX2wcKCBAr24UyPD7xwmjaTn.jpg  "
      ]
     },
     "execution_count": 236,
     "metadata": {},
     "output_type": "execute_result"
    }
   ],
   "source": [
    "new_df.head()"
   ]
  },
  {
   "cell_type": "code",
   "execution_count": 250,
   "id": "67c8e5b1",
   "metadata": {},
   "outputs": [
    {
     "name": "stdout",
     "output_type": "stream",
     "text": [
      "19059\n"
     ]
    }
   ],
   "source": [
    "import numpy as np\n",
    "\n",
    "# Assuming 'similarity' is your 2D numpy array with shape (19059, 19059)\n",
    "\n",
    "# Initialize an empty array to store top 10 values and indices for each row\n",
    "top_10_values_and_indices = []\n",
    "\n",
    "# Iterate over each row\n",
    "for i in range(similarity.shape[0]):\n",
    "    # Sort the row in descending order and get the indices of the top 10 values\n",
    "    top_10_indices_and_values = sorted(list(enumerate(similarity[i])), reverse=True, key=lambda x: x[1])[1:11]\n",
    "    # Append indices and values to the result list\n",
    "    top_10_values_and_indices.append(top_10_indices_and_values)\n",
    "\n",
    "print(len(top_10_values_and_indices))\n"
   ]
  },
  {
   "cell_type": "code",
   "execution_count": 251,
   "id": "5632dd45",
   "metadata": {},
   "outputs": [
    {
     "data": {
      "text/plain": [
       "[(6276, 0.21580525975192716),\n",
       " (4035, 0.17813885540036198),\n",
       " (283, 0.15815353219241435),\n",
       " (2728, 0.15662150034498204),\n",
       " (13848, 0.14836883538346263),\n",
       " (9720, 0.14265695137876827),\n",
       " (7808, 0.14150678305719686),\n",
       " (240, 0.13988350072703723),\n",
       " (854, 0.1318390457813527),\n",
       " (5234, 0.13129251780838805)]"
      ]
     },
     "execution_count": 251,
     "metadata": {},
     "output_type": "execute_result"
    }
   ],
   "source": [
    "top_10_values_and_indices[0]"
   ]
  },
  {
   "cell_type": "code",
   "execution_count": 253,
   "id": "dd989523",
   "metadata": {},
   "outputs": [
    {
     "data": {
      "text/plain": [
       "[(6276, 0.21580525975192716),\n",
       " (4035, 0.17813885540036198),\n",
       " (283, 0.15815353219241435),\n",
       " (2728, 0.15662150034498204),\n",
       " (13848, 0.14836883538346263),\n",
       " (9720, 0.14265695137876827),\n",
       " (7808, 0.14150678305719686),\n",
       " (240, 0.13988350072703723),\n",
       " (854, 0.1318390457813527),\n",
       " (5234, 0.13129251780838805)]"
      ]
     },
     "execution_count": 253,
     "metadata": {},
     "output_type": "execute_result"
    }
   ],
   "source": [
    "sorted(list(enumerate(similarity[0])),reverse=True,key=lambda x:x[1])[1:11]\n",
    "# same to the top_10_values_and_indices[0], only"
   ]
  },
  {
   "cell_type": "code",
   "execution_count": 254,
   "id": "5dcbe367",
   "metadata": {},
   "outputs": [
    {
     "data": {
      "text/plain": [
       "[(18107, 0.2095687903994001),\n",
       " (10224, 0.170317777777603),\n",
       " (5825, 0.16630572038927013),\n",
       " (7736, 0.16465977886472677),\n",
       " (17216, 0.15931185908300438),\n",
       " (3242, 0.15390921756345272),\n",
       " (8417, 0.15380125783001197),\n",
       " (7063, 0.15090974804667198),\n",
       " (17735, 0.15085480859686978),\n",
       " (7848, 0.1489121906100582)]"
      ]
     },
     "execution_count": 254,
     "metadata": {},
     "output_type": "execute_result"
    }
   ],
   "source": [
    "top_10_values_and_indices[1000]"
   ]
  },
  {
   "cell_type": "code",
   "execution_count": 255,
   "id": "413ebf58",
   "metadata": {},
   "outputs": [
    {
     "data": {
      "text/plain": [
       "[(18107, 0.2095687903994001),\n",
       " (10224, 0.170317777777603),\n",
       " (5825, 0.16630572038927013),\n",
       " (7736, 0.16465977886472677),\n",
       " (17216, 0.15931185908300438),\n",
       " (3242, 0.15390921756345272),\n",
       " (8417, 0.15380125783001197),\n",
       " (7063, 0.15090974804667198),\n",
       " (17735, 0.15085480859686978),\n",
       " (7848, 0.1489121906100582)]"
      ]
     },
     "execution_count": 255,
     "metadata": {},
     "output_type": "execute_result"
    }
   ],
   "source": [
    "sorted(list(enumerate(similarity[1000])),reverse=True,key=lambda x:x[1])[1:11]"
   ]
  },
  {
   "cell_type": "code",
   "execution_count": 260,
   "id": "a101f38f",
   "metadata": {},
   "outputs": [],
   "source": [
    "pickle.dump(top_10_values_and_indices,open('similarity_20k.pkl','wb'))"
   ]
  },
  {
   "cell_type": "code",
   "execution_count": null,
   "id": "f7bcd4b0",
   "metadata": {},
   "outputs": [],
   "source": []
  },
  {
   "cell_type": "markdown",
   "id": "6c015a1a",
   "metadata": {},
   "source": [
    "### Hope You Like It!"
   ]
  },
  {
   "cell_type": "markdown",
   "id": "3b7ec442",
   "metadata": {},
   "source": [
    "# THANK YOU"
   ]
  },
  {
   "cell_type": "code",
   "execution_count": null,
   "id": "e60984ae",
   "metadata": {},
   "outputs": [],
   "source": []
  }
 ],
 "metadata": {
  "kernelspec": {
   "display_name": "Python 3 (ipykernel)",
   "language": "python",
   "name": "python3"
  },
  "language_info": {
   "codemirror_mode": {
    "name": "ipython",
    "version": 3
   },
   "file_extension": ".py",
   "mimetype": "text/x-python",
   "name": "python",
   "nbconvert_exporter": "python",
   "pygments_lexer": "ipython3",
   "version": "3.9.13"
  }
 },
 "nbformat": 4,
 "nbformat_minor": 5
}
